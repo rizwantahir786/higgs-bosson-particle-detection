{
 "cells": [
  {
   "cell_type": "markdown",
   "id": "27096bb3-9d51-4b8e-a33f-9997fba8927e",
   "metadata": {},
   "source": [
    "<h1 style=\"font-size:40px\"><center>Classification  of Higgs boson particle using  accelerated  machine learning  </center></h1>"
   ]
  },
  {
   "cell_type": "markdown",
   "id": "0b80a09d-a735-4c19-a16d-2e63d5a462a6",
   "metadata": {},
   "source": [
    "<div style=\"width:100%;height:3px; background-color:black\"></div>"
   ]
  },
  {
   "cell_type": "markdown",
   "id": "110f918d-4ff0-4d9e-b570-6c46dc77394b",
   "metadata": {},
   "source": [
    "<p style=\"font-size:30px;\"><u>Data Description</u></p>"
   ]
  },
  {
   "cell_type": "markdown",
   "id": "de4544a5-7cc8-47e1-9f2e-9b23be508a48",
   "metadata": {},
   "source": [
    "<p style=\"font-size: 20px\">The HIGGS dataset is a simulated set of data from collisions of particles at the Large Hadron Collider (LHC). It is made up of 11 million events, with 28 features and a binary target variable for each one ( the class label ,1 for signal process, 0 for background process).</p>\n",
    "<p style=\"font-size:20px\">The first feature is the transverse momentum of the leading lepton, which is shown by the lepton pT. The second feature is the lepton eta, which shows how fast the leading lepton is moving. The third feature is the angle of the leading lepton, which is shown by the lepton phi. The fourth feature is the size of the missing transverse momentum, which is shown by the size of the missing energy. The fifth feature is the missing energy phi, which shows the angle of the missing transverse momentum along the direction of motion.</p>\n",
    "<p style=\"font-size:20px\">The next 16 features explain what the four top jets in the event are like. The leading jet's transverse momentum, pseudo rapidity, and azimuthal angle are shown by the jet 1 pt, jet 1 eta, and jet 1 phi features. The jet 1 b-tag property is the leading jet's b-tag value, which is a measure of how likely it is that the jet came from the decay of a b quark. The sub leading jet's jet 2 pt, jet 2 eta, jet 2 phi, and jet 2 b-tag all have the same properties. The jet 3 pt, jet 3 eta, jet 3 phi, and jet 3 b-tag features represent the same properties for the third jet. The fourth jet has the same properties for the jet 4 pt, jet 4 eta, jet 4 phi, and jet 4 b-tag.</p>\n",
    "<p style=\"font-size:20px\">The last seven features talk about the masses that don't change for different combinations of particles in the event. The m_jj feature shows the mass of the two leading jets that doesn't change. The m_jjj feature shows the mass of the three leading jets that doesn't change. The m_lv property stands for the lepton's constant mass and the transverse momentum that is missing. The m_jlv feature shows the constant mass of the leading jet and the lepton, as well as the transverse momentum that is missing. The m_bb feature shows the constant mass of the two jets whose b-tag value is the highest. The m_wbb feature shows the constant mass of the system made up of the lepton, the missing transverse momentum, and the two jets with the highest b-tag value. The m_wwbb feature shows the system's constant mass, which is made up of all the visible particles in the event.</p>\n",
    "<p style=\"font-size:20px\">Lastly, the target variable is a binary variable that shows whether the event produced the Higgs boson or not. If the value is 1, the event produced the Higgs boson. If the value is 0, the event did not produce the Higgs boson. Overall, the Higgs dataset has a lot of data that can be used to train machine learning models for analysing and exploring particle physics.\n",
    "</p>"
   ]
  },
  {
   "cell_type": "markdown",
   "id": "2309340d-27fa-482a-a3cf-677dbe50a464",
   "metadata": {},
   "source": [
    "<div style=\"width:100%;height:3px; background-color:black\"></div>"
   ]
  },
  {
   "cell_type": "markdown",
   "id": "d4b9118a-f1bf-42b4-bfd5-4e64264c56e9",
   "metadata": {},
   "source": [
    "<p style=\"font-size:30px;\"><u>Machine Learning Algorithms</u></p>"
   ]
  },
  {
   "cell_type": "markdown",
   "id": "8bcd9561-3b97-436d-b2a4-f7f369adc8a5",
   "metadata": {},
   "source": [
    "<p id=\"top\" style=\"font-size: 20px\">Two different Machine Learning algorithms have been implemented in this project. The purpose of using three algorithms is determine which yields the best results for the classification of higgs boson particle data.</p>\n",
    "<ul style=\"font-size: 20px\">\n",
    "    <li><a href=\"#rf\">Random Forest</a></li> \n",
    "    <li><a href=\"#xgb\">XGBoost (Extreme Gradient Boosting)</a></li>\n",
    "</ul>"
   ]
  },
  {
   "cell_type": "markdown",
   "id": "c7960e63-ccc9-47a7-a20d-debd08d04a29",
   "metadata": {},
   "source": [
    "<p style=\"font-size: 20px\">I have used above three listed algorithms for the higgs boson particle binary classification. Each algorithm has its own strengths and weaknesses,and the choice of the algorithm depends upon the specific problem. As from the data description written above it is clear that we have binary classification problem (output is 0 or 1), all these algorithms can handle binary classification problem very well.</p>"
   ]
  },
  {
   "cell_type": "markdown",
   "id": "c5820ab9-37f0-429e-a41d-5629b07ea344",
   "metadata": {},
   "source": [
    "<p style=\"font-size: 20px\">\n",
    "<b>Random Forest:</b> Random forest can be used to create a series of decision trees that can collectively generate precise predictions concerning the existence of a Higgs boson particle in the context of the Higgs boson particle dataset problem.\n",
    "</p>\n",
    "<p style=\"font-size: 20px\">\n",
    "<b>XGBoost:</b> XGBoost can be used to create a collection of decision trees that together produce precise predictions concerning the existence of a Higgs boson particle in the context of the Higgs boson particle dataset problem.\n",
    "</p>\n"
   ]
  },
  {
   "cell_type": "markdown",
   "id": "3a82ccf5-6126-4d41-aec6-3300bc4ccad8",
   "metadata": {},
   "source": [
    "<p style=\"font-size: 20px\">To find the best hyperparameters for each algorithm, \"RandomizedSearchCV\" has been used.</p>"
   ]
  },
  {
   "cell_type": "markdown",
   "id": "6755ddfa-c92c-4f19-b0cc-88dbeaa3c3c6",
   "metadata": {},
   "source": [
    "<div style=\"width:100%;height:3px; background-color:black\"></div>"
   ]
  },
  {
   "cell_type": "markdown",
   "id": "14bfc82d-d09b-4808-849b-04a046c3ab2a",
   "metadata": {},
   "source": [
    "<p style=\"font-size:30px;\"><u>Accelerated Computing Frameworks</u></p>"
   ]
  },
  {
   "cell_type": "markdown",
   "id": "6a9ede37-3fd1-4fd1-840a-e2095cd9438d",
   "metadata": {},
   "source": [
    "<p style=\"font-size: 20px\">\n",
    "As we have 11 million records in our dataset so it is better to use Accelerated computing frameworks can provide a better way to identify Higgs boson particles due to its capacity to expedite the processing time of machine learning algorithms and manage massive datasets.\n",
    "</p>\n",
    "<p style=\"font-size: 20px\">\n",
    "This is important for the identification of the Higgs boson particle, which creates a massive amount of data that requires substantial storage capacity and processing power.\n",
    "</p>\n",
    "<p style=\"font-size: 20px\">\n",
    "I used RAPIDS framework for the Higgs boson particle dataset. The libraries I have been used from this framework are cudf, dask-cudf and dask.distributed (for parallel computing).\n",
    "</p>"
   ]
  },
  {
   "cell_type": "markdown",
   "id": "8e7bf161-fe6d-496b-9f2e-8df5a62c7806",
   "metadata": {},
   "source": [
    "<div style=\"width:100%;height:3px; background-color:black\"></div>"
   ]
  },
  {
   "cell_type": "markdown",
   "id": "1273c8f9-1033-4505-af7c-1cb603556b39",
   "metadata": {},
   "source": [
    " "
   ]
  },
  {
   "cell_type": "markdown",
   "id": "60006da1-e097-4ff7-ac03-841c53d86333",
   "metadata": {},
   "source": [
    "<p id=\"top1\" style=\"font-size: 20px\"> <b>Navigation </b></p>\n",
    "<ul style=\"font-size: 20px\">\n",
    "    <li><a href=\"#lib\">Libraries</a></li> \n",
    "    <li><a href=\"#eda\">Exploratory Data Analysis</a></li> \n",
    "    <li><a href=\"#pre\">Data Pre-processing</a></li>\n",
    "    <li><a href=\"#res\">Algorithms Result Comparison</a></li> \n",
    "</ul>"
   ]
  },
  {
   "cell_type": "markdown",
   "id": "e859810e-51eb-4804-91e1-a68270b2a4f2",
   "metadata": {},
   "source": [
    "<div style=\"width:100%;height:3px; background-color:black\"></div>"
   ]
  },
  {
   "cell_type": "markdown",
   "id": "222e8820-86b4-4ac7-aec5-d45a61d969bd",
   "metadata": {},
   "source": [
    "<p id=\"lib\" style=\"font-size:30px; text-align:center\"><u>Required libraries or packages</u></p> <a href=\"#top1\">Back To Top</a>"
   ]
  },
  {
   "cell_type": "markdown",
   "id": "350c34b7-0d56-4fb9-acd7-8ed9bc8024ec",
   "metadata": {},
   "source": [
    "<div style=\"width:100%;height:3px; background-color:black\"></div>"
   ]
  },
  {
   "cell_type": "code",
   "execution_count": 2,
   "id": "21d33d0d-6279-4754-bdbe-29ea7459ee87",
   "metadata": {},
   "outputs": [],
   "source": [
    "################# Exploratory Data Analysis #################\n",
    "\n",
    "import numpy as np # To perform high level mathematical operations\n",
    "import matplotlib.pyplot as plt # For animated and interactive visualisations\n",
    "%matplotlib inline\n",
    "import seaborn as sns # For visualisations of data\n",
    "from tabulate import tabulate # To create table to insert the results of each neural network\n",
    "import time \n",
    "from scipy.stats import randint\n",
    "import warnings # To ignore unsual warnings from some functions\n",
    "# warnings.filterwarnings('ignore') #ignore warning from the any function so we do not need to scroll more\n",
    "\n",
    "################# Rapids libraries and pre-processing #################\n",
    "import cuml # Cuml library for machine learning on GPUs\n",
    "from cuml.decomposition import PCA # PCA class from the cuml.decomposition module for performing principal component analysis on GPUs\n",
    "import dask; # dask library for parallel computing\n",
    "from dask_ml.preprocessing import MinMaxScaler # MinMaxScaler class from the dask_ml.preprocessing module for feature scaling\n",
    "from dask_ml.model_selection import train_test_split # Train_test_split function from the dask_ml.model_selection module for splitting data\n",
    "# into training and testing sets\n",
    "from dask_ml.model_selection import RandomizedSearchCV as DaskRandomizedSearchCV # DaskRandomizedSearchCV class from the dask_ml.model_selection module \n",
    "# for hyperparameter tuning with randomized search\n",
    "import dask.dataframe as dd # dask.dataframe module for working with large datasets in parallel with Dask\n",
    "import dask_cudf # Dask_cudf library for distributed computing with GPUs\n",
    "import cudf # Cudf library for data manipulation and analysis on GPUs\n",
    "import cupy as cp # CuPy library for NumPy-like array manipulation on GPUs\n",
    "from dask.distributed import Client # Client class from the dask.distributed module for connecting to a Dask cluster\n",
    "from dask_cuda import LocalCUDACluster # LocalCUDACluster class from the dask_cuda module for creating a local Dask cluster on a single GPU\n",
    "\n",
    "\n",
    "################# Machine Learning Algorithms #################\n",
    "\n",
    "import xgboost as xgb # xgboost library for gradient boosting classifier\n",
    "from sklearn.ensemble import RandomForestClassifier # RandomForestClassifier class from the scikit-learn library for building a random forest model\n",
    "from cuml.ensemble import RandomForestClassifier # RandomForestClassifier class from the cuml.ensemble module for building a random forest model on GPUs\n",
    "from cuml.neighbors import KNeighborsClassifier # KNeighborsClassifier class from the cuml.neighbors module for building a k-nearest neighbors model on GPUs\n",
    "\n",
    "\n",
    "################# Evaluation Libraries #################\n",
    "\n",
    "from sklearn import metrics  # for evaluating the performance of the model\n",
    "from sklearn.metrics import classification_report, confusion_matrix, roc_auc_score, roc_curve, accuracy_score, precision_score, f1_score # for calculating evaluation metrics\n",
    "# From the confusion matrix I will be calculating sensitivity or recall, specificity, mis-classification and loss\n"
   ]
  },
  {
   "cell_type": "markdown",
   "id": "3d79b32f-5734-49f7-ae4f-8ca6180f0bad",
   "metadata": {},
   "source": [
    "<div style=\"width:100%;height:3px; background-color:black\"></div>"
   ]
  },
  {
   "cell_type": "markdown",
   "id": "78849eee-fb20-4bfe-96ef-1648804a0dba",
   "metadata": {},
   "source": [
    "<p style=\"font-size:30px;\"><u>Load the Dataset</u></p>"
   ]
  },
  {
   "cell_type": "code",
   "execution_count": 3,
   "id": "2573a9a1-2516-4f80-b36e-6441aed59bae",
   "metadata": {},
   "outputs": [
    {
     "name": "stdout",
     "output_type": "stream",
     "text": [
      "Time taken to load the data: 1.3351311683654785 seconds\n"
     ]
    }
   ],
   "source": [
    "start_time = time.time() # start time before loading the dataset \n",
    "particleDataset = dask_cudf.read_csv('./Partical.csv', # load the dataset with dask_cudf\n",
    "    storage_options={\"anon\": True, 'use_ssl': True},\n",
    ")\n",
    "end_time = time.time() # end time after loading the dataset\n",
    "print(\"Time taken to load the data:\", end_time-start_time, \"seconds\") # overall time to load the dataset\n"
   ]
  },
  {
   "cell_type": "markdown",
   "id": "7b758ea6-1dba-475e-9960-48243f676e22",
   "metadata": {},
   "source": [
    "<div style=\"width:100%;height:3px; background-color:black\"></div>"
   ]
  },
  {
   "cell_type": "markdown",
   "id": "62d48b09-7d08-4c7e-b41b-fe8a2843e774",
   "metadata": {},
   "source": [
    "<p id=\"eda\" style=\"font-size:30px; text-align:center\"><u>Exploratory Data Analysis</u></p> <a href=\"#top1\">Back To Top</a>"
   ]
  },
  {
   "cell_type": "markdown",
   "id": "4e963848-d824-42ab-8a20-7d5e6e0545ca",
   "metadata": {},
   "source": [
    "<div style=\"width:100%;height:3px; background-color:black\"></div>"
   ]
  },
  {
   "cell_type": "markdown",
   "id": "f2f5eb71-f8b3-4abd-9dfc-77cac398989c",
   "metadata": {},
   "source": [
    "<p style=\"font-size: 20px\">EDA (Exploratory Data Analysis) is the process of understanding datasets to analyze their main features. This is often done with the help of statistical and visualization techniques. EDA is used to find patterns, trends, outliers, relationships, and insights in the data. It is also used to find potential problems and areas that need more analysis. Python is a popular language for EDA because it is easy to use and has many libraries for analyzing and displaying data. In this paper, Python will be used to check what the Higgs dataset could tell us. Let's check the insights of the dataset I have imported.</p>"
   ]
  },
  {
   "cell_type": "code",
   "execution_count": 4,
   "id": "b16742cc-9f13-4061-8763-c0756a57fac8",
   "metadata": {},
   "outputs": [
    {
     "data": {
      "text/html": [
       "<div>\n",
       "<style scoped>\n",
       "    .dataframe tbody tr th:only-of-type {\n",
       "        vertical-align: middle;\n",
       "    }\n",
       "\n",
       "    .dataframe tbody tr th {\n",
       "        vertical-align: top;\n",
       "    }\n",
       "\n",
       "    .dataframe thead th {\n",
       "        text-align: right;\n",
       "    }\n",
       "</style>\n",
       "<table border=\"1\" class=\"dataframe\">\n",
       "  <thead>\n",
       "    <tr style=\"text-align: right;\">\n",
       "      <th></th>\n",
       "      <th>1.000000000000000000e+00</th>\n",
       "      <th>8.692932128906250000e-01</th>\n",
       "      <th>-6.350818276405334473e-01</th>\n",
       "      <th>2.256902605295181274e-01</th>\n",
       "      <th>3.274700641632080078e-01</th>\n",
       "      <th>-6.899932026863098145e-01</th>\n",
       "      <th>7.542022466659545898e-01</th>\n",
       "      <th>-2.485731393098831177e-01</th>\n",
       "      <th>-1.092063903808593750e+00</th>\n",
       "      <th>0.000000000000000000e+00</th>\n",
       "      <th>...</th>\n",
       "      <th>-1.045456994324922562e-02</th>\n",
       "      <th>-4.576716944575309753e-02</th>\n",
       "      <th>3.101961374282836914e+00</th>\n",
       "      <th>1.353760004043579102e+00</th>\n",
       "      <th>9.795631170272827148e-01</th>\n",
       "      <th>9.780761599540710449e-01</th>\n",
       "      <th>9.200048446655273438e-01</th>\n",
       "      <th>7.216574549674987793e-01</th>\n",
       "      <th>9.887509346008300781e-01</th>\n",
       "      <th>8.766783475875854492e-01</th>\n",
       "    </tr>\n",
       "  </thead>\n",
       "  <tbody>\n",
       "    <tr>\n",
       "      <th>0</th>\n",
       "      <td>1.0</td>\n",
       "      <td>0.907542</td>\n",
       "      <td>0.329147</td>\n",
       "      <td>0.359412</td>\n",
       "      <td>1.497970</td>\n",
       "      <td>-0.313010</td>\n",
       "      <td>1.095531</td>\n",
       "      <td>-0.557525</td>\n",
       "      <td>-1.588230</td>\n",
       "      <td>2.173076</td>\n",
       "      <td>...</td>\n",
       "      <td>-1.138930</td>\n",
       "      <td>-0.000819</td>\n",
       "      <td>0.000000</td>\n",
       "      <td>0.302220</td>\n",
       "      <td>0.833048</td>\n",
       "      <td>0.985700</td>\n",
       "      <td>0.978098</td>\n",
       "      <td>0.779732</td>\n",
       "      <td>0.992356</td>\n",
       "      <td>0.798343</td>\n",
       "    </tr>\n",
       "    <tr>\n",
       "      <th>1</th>\n",
       "      <td>1.0</td>\n",
       "      <td>0.798835</td>\n",
       "      <td>1.470639</td>\n",
       "      <td>-1.635975</td>\n",
       "      <td>0.453773</td>\n",
       "      <td>0.425629</td>\n",
       "      <td>1.104875</td>\n",
       "      <td>1.282322</td>\n",
       "      <td>1.381664</td>\n",
       "      <td>0.000000</td>\n",
       "      <td>...</td>\n",
       "      <td>1.128848</td>\n",
       "      <td>0.900461</td>\n",
       "      <td>0.000000</td>\n",
       "      <td>0.909753</td>\n",
       "      <td>1.108330</td>\n",
       "      <td>0.985692</td>\n",
       "      <td>0.951331</td>\n",
       "      <td>0.803252</td>\n",
       "      <td>0.865924</td>\n",
       "      <td>0.780118</td>\n",
       "    </tr>\n",
       "    <tr>\n",
       "      <th>2</th>\n",
       "      <td>0.0</td>\n",
       "      <td>1.344385</td>\n",
       "      <td>-0.876626</td>\n",
       "      <td>0.935913</td>\n",
       "      <td>1.992050</td>\n",
       "      <td>0.882454</td>\n",
       "      <td>1.786066</td>\n",
       "      <td>-1.646778</td>\n",
       "      <td>-0.942383</td>\n",
       "      <td>0.000000</td>\n",
       "      <td>...</td>\n",
       "      <td>-0.678379</td>\n",
       "      <td>-1.360356</td>\n",
       "      <td>0.000000</td>\n",
       "      <td>0.946652</td>\n",
       "      <td>1.028704</td>\n",
       "      <td>0.998656</td>\n",
       "      <td>0.728281</td>\n",
       "      <td>0.869200</td>\n",
       "      <td>1.026736</td>\n",
       "      <td>0.957904</td>\n",
       "    </tr>\n",
       "    <tr>\n",
       "      <th>3</th>\n",
       "      <td>1.0</td>\n",
       "      <td>1.105009</td>\n",
       "      <td>0.321356</td>\n",
       "      <td>1.522401</td>\n",
       "      <td>0.882808</td>\n",
       "      <td>-1.205349</td>\n",
       "      <td>0.681466</td>\n",
       "      <td>-1.070464</td>\n",
       "      <td>-0.921871</td>\n",
       "      <td>0.000000</td>\n",
       "      <td>...</td>\n",
       "      <td>-0.373566</td>\n",
       "      <td>0.113041</td>\n",
       "      <td>0.000000</td>\n",
       "      <td>0.755856</td>\n",
       "      <td>1.361057</td>\n",
       "      <td>0.986610</td>\n",
       "      <td>0.838085</td>\n",
       "      <td>1.133295</td>\n",
       "      <td>0.872245</td>\n",
       "      <td>0.808487</td>\n",
       "    </tr>\n",
       "    <tr>\n",
       "      <th>4</th>\n",
       "      <td>0.0</td>\n",
       "      <td>1.595839</td>\n",
       "      <td>-0.607811</td>\n",
       "      <td>0.007075</td>\n",
       "      <td>1.818450</td>\n",
       "      <td>-0.111906</td>\n",
       "      <td>0.847550</td>\n",
       "      <td>-0.566437</td>\n",
       "      <td>1.581239</td>\n",
       "      <td>2.173076</td>\n",
       "      <td>...</td>\n",
       "      <td>-0.654227</td>\n",
       "      <td>-1.274345</td>\n",
       "      <td>3.101961</td>\n",
       "      <td>0.823761</td>\n",
       "      <td>0.938191</td>\n",
       "      <td>0.971758</td>\n",
       "      <td>0.789176</td>\n",
       "      <td>0.430553</td>\n",
       "      <td>0.961357</td>\n",
       "      <td>0.957818</td>\n",
       "    </tr>\n",
       "  </tbody>\n",
       "</table>\n",
       "<p>5 rows × 29 columns</p>\n",
       "</div>"
      ],
      "text/plain": [
       "   1.000000000000000000e+00  8.692932128906250000e-01  \\\n",
       "0                       1.0                  0.907542   \n",
       "1                       1.0                  0.798835   \n",
       "2                       0.0                  1.344385   \n",
       "3                       1.0                  1.105009   \n",
       "4                       0.0                  1.595839   \n",
       "\n",
       "   -6.350818276405334473e-01  2.256902605295181274e-01  \\\n",
       "0                   0.329147                  0.359412   \n",
       "1                   1.470639                 -1.635975   \n",
       "2                  -0.876626                  0.935913   \n",
       "3                   0.321356                  1.522401   \n",
       "4                  -0.607811                  0.007075   \n",
       "\n",
       "   3.274700641632080078e-01  -6.899932026863098145e-01  \\\n",
       "0                  1.497970                  -0.313010   \n",
       "1                  0.453773                   0.425629   \n",
       "2                  1.992050                   0.882454   \n",
       "3                  0.882808                  -1.205349   \n",
       "4                  1.818450                  -0.111906   \n",
       "\n",
       "   7.542022466659545898e-01  -2.485731393098831177e-01  \\\n",
       "0                  1.095531                  -0.557525   \n",
       "1                  1.104875                   1.282322   \n",
       "2                  1.786066                  -1.646778   \n",
       "3                  0.681466                  -1.070464   \n",
       "4                  0.847550                  -0.566437   \n",
       "\n",
       "   -1.092063903808593750e+00  0.000000000000000000e+00  ...  \\\n",
       "0                  -1.588230                  2.173076  ...   \n",
       "1                   1.381664                  0.000000  ...   \n",
       "2                  -0.942383                  0.000000  ...   \n",
       "3                  -0.921871                  0.000000  ...   \n",
       "4                   1.581239                  2.173076  ...   \n",
       "\n",
       "   -1.045456994324922562e-02  -4.576716944575309753e-02  \\\n",
       "0                  -1.138930                  -0.000819   \n",
       "1                   1.128848                   0.900461   \n",
       "2                  -0.678379                  -1.360356   \n",
       "3                  -0.373566                   0.113041   \n",
       "4                  -0.654227                  -1.274345   \n",
       "\n",
       "   3.101961374282836914e+00  1.353760004043579102e+00  \\\n",
       "0                  0.000000                  0.302220   \n",
       "1                  0.000000                  0.909753   \n",
       "2                  0.000000                  0.946652   \n",
       "3                  0.000000                  0.755856   \n",
       "4                  3.101961                  0.823761   \n",
       "\n",
       "   9.795631170272827148e-01  9.780761599540710449e-01  \\\n",
       "0                  0.833048                  0.985700   \n",
       "1                  1.108330                  0.985692   \n",
       "2                  1.028704                  0.998656   \n",
       "3                  1.361057                  0.986610   \n",
       "4                  0.938191                  0.971758   \n",
       "\n",
       "   9.200048446655273438e-01  7.216574549674987793e-01  \\\n",
       "0                  0.978098                  0.779732   \n",
       "1                  0.951331                  0.803252   \n",
       "2                  0.728281                  0.869200   \n",
       "3                  0.838085                  1.133295   \n",
       "4                  0.789176                  0.430553   \n",
       "\n",
       "   9.887509346008300781e-01  8.766783475875854492e-01  \n",
       "0                  0.992356                  0.798343  \n",
       "1                  0.865924                  0.780118  \n",
       "2                  1.026736                  0.957904  \n",
       "3                  0.872245                  0.808487  \n",
       "4                  0.961357                  0.957818  \n",
       "\n",
       "[5 rows x 29 columns]"
      ]
     },
     "execution_count": 4,
     "metadata": {},
     "output_type": "execute_result"
    }
   ],
   "source": [
    "particleDataset.head()  # To check rows of the dataset from the start"
   ]
  },
  {
   "cell_type": "markdown",
   "id": "185313d8-60ac-4aa2-96b6-4c08fcd93018",
   "metadata": {},
   "source": [
    "<p style=\"font-size: 20px\">From the above table it can be seen that I need to assign the column/attribute/feature name of each column.</p>"
   ]
  },
  {
   "cell_type": "code",
   "execution_count": 5,
   "id": "0369ce48-96a7-42f6-89b9-7b91f3b8b12a",
   "metadata": {},
   "outputs": [],
   "source": [
    "particleDataset.columns =['type', 'lepton_pT', 'lepton_eta', 'lepton_phi','missing_energy_magnitude','missing_energy_phi','jet_1_pt','jet_1_eta','jet_1_phi','jet_1_b_tag','jet_2_pt','jet_2_eta','jet_2_phi','jet_2_b_tag','jet_3_pt','jet_3_eta','jet_3_phi','jet_3_b_tag','jet_4_pt','jet_4_eta','jet_4_phi','jet_4_b_tag','m_jj','m_jjj','m_lv','m_jlv','m_bb','m_wbb','m_wwbb']\n"
   ]
  },
  {
   "cell_type": "markdown",
   "id": "84a9df38-7f39-4fd5-bc50-239e46dcf6e9",
   "metadata": {},
   "source": [
    "<p style=\"font-size: 20px\">Now we can see the column name or feature name of each column</p>"
   ]
  },
  {
   "cell_type": "markdown",
   "id": "bf4bfabe-e462-4f59-8003-8e8143c073bd",
   "metadata": {},
   "source": [
    "<div style=\"width:100%;height:1px; background-color:black\"></div>"
   ]
  },
  {
   "cell_type": "code",
   "execution_count": 5,
   "id": "37d6092f-d085-4ba4-97d9-68d2d17f559d",
   "metadata": {},
   "outputs": [
    {
     "data": {
      "text/html": [
       "<div>\n",
       "<style scoped>\n",
       "    .dataframe tbody tr th:only-of-type {\n",
       "        vertical-align: middle;\n",
       "    }\n",
       "\n",
       "    .dataframe tbody tr th {\n",
       "        vertical-align: top;\n",
       "    }\n",
       "\n",
       "    .dataframe thead th {\n",
       "        text-align: right;\n",
       "    }\n",
       "</style>\n",
       "<table border=\"1\" class=\"dataframe\">\n",
       "  <thead>\n",
       "    <tr style=\"text-align: right;\">\n",
       "      <th></th>\n",
       "      <th>type</th>\n",
       "      <th>lepton_pT</th>\n",
       "      <th>lepton_eta</th>\n",
       "      <th>lepton_phi</th>\n",
       "      <th>missing_energy_magnitude</th>\n",
       "      <th>missing_energy_phi</th>\n",
       "      <th>jet_1_pt</th>\n",
       "      <th>jet_1_eta</th>\n",
       "      <th>jet_1_phi</th>\n",
       "      <th>jet_1_b_tag</th>\n",
       "      <th>...</th>\n",
       "      <th>jet_4_eta</th>\n",
       "      <th>jet_4_phi</th>\n",
       "      <th>jet_4_b_tag</th>\n",
       "      <th>m_jj</th>\n",
       "      <th>m_jjj</th>\n",
       "      <th>m_lv</th>\n",
       "      <th>m_jlv</th>\n",
       "      <th>m_bb</th>\n",
       "      <th>m_wbb</th>\n",
       "      <th>m_wwbb</th>\n",
       "    </tr>\n",
       "  </thead>\n",
       "  <tbody>\n",
       "    <tr>\n",
       "      <th>0</th>\n",
       "      <td>1.0</td>\n",
       "      <td>0.907542</td>\n",
       "      <td>0.329147</td>\n",
       "      <td>0.359412</td>\n",
       "      <td>1.497970</td>\n",
       "      <td>-0.313010</td>\n",
       "      <td>1.095531</td>\n",
       "      <td>-0.557525</td>\n",
       "      <td>-1.588230</td>\n",
       "      <td>2.173076</td>\n",
       "      <td>...</td>\n",
       "      <td>-1.138930</td>\n",
       "      <td>-0.000819</td>\n",
       "      <td>0.000000</td>\n",
       "      <td>0.302220</td>\n",
       "      <td>0.833048</td>\n",
       "      <td>0.985700</td>\n",
       "      <td>0.978098</td>\n",
       "      <td>0.779732</td>\n",
       "      <td>0.992356</td>\n",
       "      <td>0.798343</td>\n",
       "    </tr>\n",
       "    <tr>\n",
       "      <th>1</th>\n",
       "      <td>1.0</td>\n",
       "      <td>0.798835</td>\n",
       "      <td>1.470639</td>\n",
       "      <td>-1.635975</td>\n",
       "      <td>0.453773</td>\n",
       "      <td>0.425629</td>\n",
       "      <td>1.104875</td>\n",
       "      <td>1.282322</td>\n",
       "      <td>1.381664</td>\n",
       "      <td>0.000000</td>\n",
       "      <td>...</td>\n",
       "      <td>1.128848</td>\n",
       "      <td>0.900461</td>\n",
       "      <td>0.000000</td>\n",
       "      <td>0.909753</td>\n",
       "      <td>1.108330</td>\n",
       "      <td>0.985692</td>\n",
       "      <td>0.951331</td>\n",
       "      <td>0.803252</td>\n",
       "      <td>0.865924</td>\n",
       "      <td>0.780118</td>\n",
       "    </tr>\n",
       "    <tr>\n",
       "      <th>2</th>\n",
       "      <td>0.0</td>\n",
       "      <td>1.344385</td>\n",
       "      <td>-0.876626</td>\n",
       "      <td>0.935913</td>\n",
       "      <td>1.992050</td>\n",
       "      <td>0.882454</td>\n",
       "      <td>1.786066</td>\n",
       "      <td>-1.646778</td>\n",
       "      <td>-0.942383</td>\n",
       "      <td>0.000000</td>\n",
       "      <td>...</td>\n",
       "      <td>-0.678379</td>\n",
       "      <td>-1.360356</td>\n",
       "      <td>0.000000</td>\n",
       "      <td>0.946652</td>\n",
       "      <td>1.028704</td>\n",
       "      <td>0.998656</td>\n",
       "      <td>0.728281</td>\n",
       "      <td>0.869200</td>\n",
       "      <td>1.026736</td>\n",
       "      <td>0.957904</td>\n",
       "    </tr>\n",
       "    <tr>\n",
       "      <th>3</th>\n",
       "      <td>1.0</td>\n",
       "      <td>1.105009</td>\n",
       "      <td>0.321356</td>\n",
       "      <td>1.522401</td>\n",
       "      <td>0.882808</td>\n",
       "      <td>-1.205349</td>\n",
       "      <td>0.681466</td>\n",
       "      <td>-1.070464</td>\n",
       "      <td>-0.921871</td>\n",
       "      <td>0.000000</td>\n",
       "      <td>...</td>\n",
       "      <td>-0.373566</td>\n",
       "      <td>0.113041</td>\n",
       "      <td>0.000000</td>\n",
       "      <td>0.755856</td>\n",
       "      <td>1.361057</td>\n",
       "      <td>0.986610</td>\n",
       "      <td>0.838085</td>\n",
       "      <td>1.133295</td>\n",
       "      <td>0.872245</td>\n",
       "      <td>0.808487</td>\n",
       "    </tr>\n",
       "    <tr>\n",
       "      <th>4</th>\n",
       "      <td>0.0</td>\n",
       "      <td>1.595839</td>\n",
       "      <td>-0.607811</td>\n",
       "      <td>0.007075</td>\n",
       "      <td>1.818450</td>\n",
       "      <td>-0.111906</td>\n",
       "      <td>0.847550</td>\n",
       "      <td>-0.566437</td>\n",
       "      <td>1.581239</td>\n",
       "      <td>2.173076</td>\n",
       "      <td>...</td>\n",
       "      <td>-0.654227</td>\n",
       "      <td>-1.274345</td>\n",
       "      <td>3.101961</td>\n",
       "      <td>0.823761</td>\n",
       "      <td>0.938191</td>\n",
       "      <td>0.971758</td>\n",
       "      <td>0.789176</td>\n",
       "      <td>0.430553</td>\n",
       "      <td>0.961357</td>\n",
       "      <td>0.957818</td>\n",
       "    </tr>\n",
       "  </tbody>\n",
       "</table>\n",
       "<p>5 rows × 29 columns</p>\n",
       "</div>"
      ],
      "text/plain": [
       "   type  lepton_pT  lepton_eta  lepton_phi  missing_energy_magnitude  \\\n",
       "0   1.0   0.907542    0.329147    0.359412                  1.497970   \n",
       "1   1.0   0.798835    1.470639   -1.635975                  0.453773   \n",
       "2   0.0   1.344385   -0.876626    0.935913                  1.992050   \n",
       "3   1.0   1.105009    0.321356    1.522401                  0.882808   \n",
       "4   0.0   1.595839   -0.607811    0.007075                  1.818450   \n",
       "\n",
       "   missing_energy_phi  jet_1_pt  jet_1_eta  jet_1_phi  jet_1_b_tag  ...  \\\n",
       "0           -0.313010  1.095531  -0.557525  -1.588230     2.173076  ...   \n",
       "1            0.425629  1.104875   1.282322   1.381664     0.000000  ...   \n",
       "2            0.882454  1.786066  -1.646778  -0.942383     0.000000  ...   \n",
       "3           -1.205349  0.681466  -1.070464  -0.921871     0.000000  ...   \n",
       "4           -0.111906  0.847550  -0.566437   1.581239     2.173076  ...   \n",
       "\n",
       "   jet_4_eta  jet_4_phi  jet_4_b_tag      m_jj     m_jjj      m_lv     m_jlv  \\\n",
       "0  -1.138930  -0.000819     0.000000  0.302220  0.833048  0.985700  0.978098   \n",
       "1   1.128848   0.900461     0.000000  0.909753  1.108330  0.985692  0.951331   \n",
       "2  -0.678379  -1.360356     0.000000  0.946652  1.028704  0.998656  0.728281   \n",
       "3  -0.373566   0.113041     0.000000  0.755856  1.361057  0.986610  0.838085   \n",
       "4  -0.654227  -1.274345     3.101961  0.823761  0.938191  0.971758  0.789176   \n",
       "\n",
       "       m_bb     m_wbb    m_wwbb  \n",
       "0  0.779732  0.992356  0.798343  \n",
       "1  0.803252  0.865924  0.780118  \n",
       "2  0.869200  1.026736  0.957904  \n",
       "3  1.133295  0.872245  0.808487  \n",
       "4  0.430553  0.961357  0.957818  \n",
       "\n",
       "[5 rows x 29 columns]"
      ]
     },
     "execution_count": 5,
     "metadata": {},
     "output_type": "execute_result"
    }
   ],
   "source": [
    "particleDataset.head()  # To check rows of the dataset from the start"
   ]
  },
  {
   "cell_type": "code",
   "execution_count": 6,
   "id": "89930af3-d570-4963-aed6-091daf42a0f8",
   "metadata": {},
   "outputs": [
    {
     "data": {
      "text/html": [
       "<div>\n",
       "<style scoped>\n",
       "    .dataframe tbody tr th:only-of-type {\n",
       "        vertical-align: middle;\n",
       "    }\n",
       "\n",
       "    .dataframe tbody tr th {\n",
       "        vertical-align: top;\n",
       "    }\n",
       "\n",
       "    .dataframe thead th {\n",
       "        text-align: right;\n",
       "    }\n",
       "</style>\n",
       "<table border=\"1\" class=\"dataframe\">\n",
       "  <thead>\n",
       "    <tr style=\"text-align: right;\">\n",
       "      <th></th>\n",
       "      <th>type</th>\n",
       "      <th>lepton_pT</th>\n",
       "      <th>lepton_eta</th>\n",
       "      <th>lepton_phi</th>\n",
       "      <th>missing_energy_magnitude</th>\n",
       "      <th>missing_energy_phi</th>\n",
       "      <th>jet_1_pt</th>\n",
       "      <th>jet_1_eta</th>\n",
       "      <th>jet_1_phi</th>\n",
       "      <th>jet_1_b_tag</th>\n",
       "      <th>...</th>\n",
       "      <th>jet_4_eta</th>\n",
       "      <th>jet_4_phi</th>\n",
       "      <th>jet_4_b_tag</th>\n",
       "      <th>m_jj</th>\n",
       "      <th>m_jjj</th>\n",
       "      <th>m_lv</th>\n",
       "      <th>m_jlv</th>\n",
       "      <th>m_bb</th>\n",
       "      <th>m_wbb</th>\n",
       "      <th>m_wwbb</th>\n",
       "    </tr>\n",
       "  </thead>\n",
       "  <tbody>\n",
       "    <tr>\n",
       "      <th>343415</th>\n",
       "      <td>1.0</td>\n",
       "      <td>1.159912</td>\n",
       "      <td>1.013847</td>\n",
       "      <td>0.108615</td>\n",
       "      <td>1.495524</td>\n",
       "      <td>-0.537545</td>\n",
       "      <td>2.342396</td>\n",
       "      <td>-0.839740</td>\n",
       "      <td>1.320683</td>\n",
       "      <td>0.000000</td>\n",
       "      <td>...</td>\n",
       "      <td>-0.097068</td>\n",
       "      <td>1.190680</td>\n",
       "      <td>3.101961</td>\n",
       "      <td>0.822136</td>\n",
       "      <td>0.766772</td>\n",
       "      <td>1.002191</td>\n",
       "      <td>1.061233</td>\n",
       "      <td>0.837004</td>\n",
       "      <td>0.860472</td>\n",
       "      <td>0.772484</td>\n",
       "    </tr>\n",
       "    <tr>\n",
       "      <th>343416</th>\n",
       "      <td>1.0</td>\n",
       "      <td>0.618388</td>\n",
       "      <td>-1.012982</td>\n",
       "      <td>1.110139</td>\n",
       "      <td>0.941023</td>\n",
       "      <td>-0.379199</td>\n",
       "      <td>1.004656</td>\n",
       "      <td>0.348535</td>\n",
       "      <td>-1.678593</td>\n",
       "      <td>2.173076</td>\n",
       "      <td>...</td>\n",
       "      <td>-0.216995</td>\n",
       "      <td>1.049177</td>\n",
       "      <td>3.101961</td>\n",
       "      <td>0.826829</td>\n",
       "      <td>0.989809</td>\n",
       "      <td>1.029104</td>\n",
       "      <td>1.199679</td>\n",
       "      <td>0.891481</td>\n",
       "      <td>0.938490</td>\n",
       "      <td>0.865269</td>\n",
       "    </tr>\n",
       "    <tr>\n",
       "      <th>343417</th>\n",
       "      <td>1.0</td>\n",
       "      <td>0.700559</td>\n",
       "      <td>0.774251</td>\n",
       "      <td>1.520182</td>\n",
       "      <td>0.847112</td>\n",
       "      <td>0.211230</td>\n",
       "      <td>1.095531</td>\n",
       "      <td>0.052457</td>\n",
       "      <td>0.024553</td>\n",
       "      <td>2.173076</td>\n",
       "      <td>...</td>\n",
       "      <td>1.585235</td>\n",
       "      <td>1.713962</td>\n",
       "      <td>0.000000</td>\n",
       "      <td>0.337374</td>\n",
       "      <td>0.845208</td>\n",
       "      <td>0.987610</td>\n",
       "      <td>0.883422</td>\n",
       "      <td>1.888438</td>\n",
       "      <td>1.153766</td>\n",
       "      <td>0.931279</td>\n",
       "    </tr>\n",
       "    <tr>\n",
       "      <th>343418</th>\n",
       "      <td>0.0</td>\n",
       "      <td>1.178030</td>\n",
       "      <td>0.117796</td>\n",
       "      <td>-1.276980</td>\n",
       "      <td>1.864457</td>\n",
       "      <td>-0.584370</td>\n",
       "      <td>0.998519</td>\n",
       "      <td>-1.264549</td>\n",
       "      <td>1.276333</td>\n",
       "      <td>0.000000</td>\n",
       "      <td>...</td>\n",
       "      <td>1.399515</td>\n",
       "      <td>-1.313189</td>\n",
       "      <td>0.000000</td>\n",
       "      <td>0.838842</td>\n",
       "      <td>0.882890</td>\n",
       "      <td>1.201380</td>\n",
       "      <td>0.939216</td>\n",
       "      <td>0.339705</td>\n",
       "      <td>0.759070</td>\n",
       "      <td>0.719119</td>\n",
       "    </tr>\n",
       "    <tr>\n",
       "      <th>343419</th>\n",
       "      <td>0.0</td>\n",
       "      <td>0.464477</td>\n",
       "      <td>-0.337047</td>\n",
       "      <td>0.229019</td>\n",
       "      <td>0.954596</td>\n",
       "      <td>-0.868466</td>\n",
       "      <td>0.430004</td>\n",
       "      <td>-0.271348</td>\n",
       "      <td>-1.252278</td>\n",
       "      <td>2.173076</td>\n",
       "      <td>...</td>\n",
       "      <td>-1.652782</td>\n",
       "      <td>-0.586254</td>\n",
       "      <td>0.000000</td>\n",
       "      <td>0.752535</td>\n",
       "      <td>0.740727</td>\n",
       "      <td>0.986917</td>\n",
       "      <td>0.663952</td>\n",
       "      <td>0.576084</td>\n",
       "      <td>0.541427</td>\n",
       "      <td>0.517420</td>\n",
       "    </tr>\n",
       "  </tbody>\n",
       "</table>\n",
       "<p>5 rows × 29 columns</p>\n",
       "</div>"
      ],
      "text/plain": [
       "        type  lepton_pT  lepton_eta  lepton_phi  missing_energy_magnitude  \\\n",
       "343415   1.0   1.159912    1.013847    0.108615                  1.495524   \n",
       "343416   1.0   0.618388   -1.012982    1.110139                  0.941023   \n",
       "343417   1.0   0.700559    0.774251    1.520182                  0.847112   \n",
       "343418   0.0   1.178030    0.117796   -1.276980                  1.864457   \n",
       "343419   0.0   0.464477   -0.337047    0.229019                  0.954596   \n",
       "\n",
       "        missing_energy_phi  jet_1_pt  jet_1_eta  jet_1_phi  jet_1_b_tag  ...  \\\n",
       "343415           -0.537545  2.342396  -0.839740   1.320683     0.000000  ...   \n",
       "343416           -0.379199  1.004656   0.348535  -1.678593     2.173076  ...   \n",
       "343417            0.211230  1.095531   0.052457   0.024553     2.173076  ...   \n",
       "343418           -0.584370  0.998519  -1.264549   1.276333     0.000000  ...   \n",
       "343419           -0.868466  0.430004  -0.271348  -1.252278     2.173076  ...   \n",
       "\n",
       "        jet_4_eta  jet_4_phi  jet_4_b_tag      m_jj     m_jjj      m_lv  \\\n",
       "343415  -0.097068   1.190680     3.101961  0.822136  0.766772  1.002191   \n",
       "343416  -0.216995   1.049177     3.101961  0.826829  0.989809  1.029104   \n",
       "343417   1.585235   1.713962     0.000000  0.337374  0.845208  0.987610   \n",
       "343418   1.399515  -1.313189     0.000000  0.838842  0.882890  1.201380   \n",
       "343419  -1.652782  -0.586254     0.000000  0.752535  0.740727  0.986917   \n",
       "\n",
       "           m_jlv      m_bb     m_wbb    m_wwbb  \n",
       "343415  1.061233  0.837004  0.860472  0.772484  \n",
       "343416  1.199679  0.891481  0.938490  0.865269  \n",
       "343417  0.883422  1.888438  1.153766  0.931279  \n",
       "343418  0.939216  0.339705  0.759070  0.719119  \n",
       "343419  0.663952  0.576084  0.541427  0.517420  \n",
       "\n",
       "[5 rows x 29 columns]"
      ]
     },
     "execution_count": 6,
     "metadata": {},
     "output_type": "execute_result"
    }
   ],
   "source": [
    "particleDataset.tail() # To check the rows of the dataset from the end"
   ]
  },
  {
   "cell_type": "markdown",
   "id": "62204ff5-68e6-43c7-b6de-bebd3c91b36c",
   "metadata": {},
   "source": [
    "<div style=\"width:100%;height:1px; background-color:black\"></div>"
   ]
  },
  {
   "cell_type": "code",
   "execution_count": 7,
   "id": "84185afa-7931-4d93-93db-f1f3f469ef95",
   "metadata": {},
   "outputs": [
    {
     "name": "stdout",
     "output_type": "stream",
     "text": [
      "<class 'dask_cudf.core.DataFrame'>\n",
      "Columns: 29 entries, type to m_wwbb\n",
      "dtypes: float64(29)"
     ]
    }
   ],
   "source": [
    "particleDataset.info()"
   ]
  },
  {
   "cell_type": "code",
   "execution_count": 8,
   "id": "38b2862a-485b-48b3-9215-fced7e2fca73",
   "metadata": {},
   "outputs": [
    {
     "data": {
      "text/plain": [
       "(Delayed('int-736ceec9-7e61-49e2-be08-f2d1cd841e52'), 29)"
      ]
     },
     "execution_count": 8,
     "metadata": {},
     "output_type": "execute_result"
    }
   ],
   "source": [
    "particleDataset.shape"
   ]
  },
  {
   "cell_type": "code",
   "execution_count": 9,
   "id": "f1201309-77be-49a6-ac51-fc04e61868e4",
   "metadata": {},
   "outputs": [
    {
     "data": {
      "text/plain": [
       "10999999"
      ]
     },
     "execution_count": 9,
     "metadata": {},
     "output_type": "execute_result"
    }
   ],
   "source": [
    "len(particleDataset)"
   ]
  },
  {
   "cell_type": "markdown",
   "id": "a8c0a175-6342-4336-a33c-70badf4a3ccb",
   "metadata": {},
   "source": [
    "<p style=\"font-size: 20px\">From above it can be seen that, all the 29 columns are numeric having data type float. The first column of the dataset is a target variable. Total number of 10999999 observations or entries are in the dataset.</p>"
   ]
  },
  {
   "cell_type": "markdown",
   "id": "0e7450cc-c425-486f-a488-8df9f70594c1",
   "metadata": {},
   "source": [
    "<div style=\"width:100%;height:1px; background-color:black\"></div>"
   ]
  },
  {
   "cell_type": "markdown",
   "id": "a2e27ab9-39bc-4787-b716-917a3535b15c",
   "metadata": {},
   "source": [
    "<p style=\"font-size: 23px; margin-top: 10px; font-weight: bold\">Check Missing Values </p>"
   ]
  },
  {
   "cell_type": "code",
   "execution_count": 10,
   "id": "ac18def3-2942-477c-9741-7bc7453221d9",
   "metadata": {},
   "outputs": [],
   "source": [
    "checkMissingvalues = particleDataset.isnull().sum().compute() # isnull() method to check NaN values in the dataset, sum() to sum-up all NaN values for each column"
   ]
  },
  {
   "cell_type": "code",
   "execution_count": 11,
   "id": "2383262e-c136-4ad3-8a15-19db93d63ee0",
   "metadata": {},
   "outputs": [
    {
     "data": {
      "text/plain": [
       "type                        0\n",
       "lepton_pT                   0\n",
       "lepton_eta                  0\n",
       "lepton_phi                  0\n",
       "missing_energy_magnitude    0\n",
       "missing_energy_phi          0\n",
       "jet_1_pt                    0\n",
       "jet_1_eta                   0\n",
       "jet_1_phi                   0\n",
       "jet_1_b_tag                 0\n",
       "jet_2_pt                    0\n",
       "jet_2_eta                   0\n",
       "jet_2_phi                   0\n",
       "jet_2_b_tag                 0\n",
       "jet_3_pt                    0\n",
       "jet_3_eta                   0\n",
       "jet_3_phi                   0\n",
       "jet_3_b_tag                 0\n",
       "jet_4_pt                    0\n",
       "jet_4_eta                   0\n",
       "jet_4_phi                   0\n",
       "jet_4_b_tag                 0\n",
       "m_jj                        0\n",
       "m_jjj                       0\n",
       "m_lv                        0\n",
       "m_jlv                       0\n",
       "m_bb                        0\n",
       "m_wbb                       0\n",
       "m_wwbb                      0\n",
       "dtype: uint64"
      ]
     },
     "execution_count": 11,
     "metadata": {},
     "output_type": "execute_result"
    }
   ],
   "source": [
    "checkMissingvalues"
   ]
  },
  {
   "cell_type": "markdown",
   "id": "45e52dfa-5006-42bd-9343-2b8e59592186",
   "metadata": {},
   "source": [
    "<p style=\"font-size: 20px\">From above it can be seen that, there is no missing value or missing cell in the datasets, means there is no need to perform any missing values handling techniques.</p>"
   ]
  },
  {
   "cell_type": "markdown",
   "id": "ad52b285-af82-45d4-ba3f-0353e09f8f49",
   "metadata": {},
   "source": [
    "<div style=\"width:100%;height:1px; background-color:black\"></div>"
   ]
  },
  {
   "cell_type": "markdown",
   "id": "f03bc575-9554-44e2-806d-18730e4e4a03",
   "metadata": {},
   "source": [
    "<p style=\"font-size: 23px; margin-top: 10px; font-weight: bold\">Class Distribution</p>"
   ]
  },
  {
   "cell_type": "code",
   "execution_count": 12,
   "id": "620dd115-eda0-41d4-8f60-002c5cd6ee33",
   "metadata": {},
   "outputs": [
    {
     "data": {
      "text/plain": [
       "1.0    5829122\n",
       "0.0    5170877\n",
       "Name: type, dtype: int64"
      ]
     },
     "execution_count": 12,
     "metadata": {},
     "output_type": "execute_result"
    }
   ],
   "source": [
    "particleDataset['type'].value_counts().compute()"
   ]
  },
  {
   "cell_type": "code",
   "execution_count": 13,
   "id": "d6e517ef-fa84-4254-b728-0a34c8ecbdde",
   "metadata": {},
   "outputs": [
    {
     "data": {
      "image/png": "[encoded data removed]",
      "text/plain": [
       "<Figure size 432x288 with 1 Axes>"
      ]
     },
     "metadata": {},
     "output_type": "display_data"
    }
   ],
   "source": [
    "particleDatasetConvertedToPandasDataFrame = particleDataset.compute().to_pandas()\n",
    "particleDatasetConvertedToPandasDataFrame['type'].value_counts().plot(kind='pie',autopct='%1.1f%%'); # Visualisation of class proportion using pie chart\n",
    "plt.title('Class Distribution')\n",
    "plt.show()"
   ]
  },
  {
   "cell_type": "markdown",
   "id": "2f9739da-9fe1-4ecf-a2a6-30359ec62fd3",
   "metadata": {},
   "source": [
    "<p style=\"font-size: 20px\">From above it can be seen that, the classes of target variable 'type' in the dataset. The above portion of the pie chart shows the percentage of signal process (which produces higgs boson particle) data which is 53% from overall dataset, and the portion below shows the percentage of background process data, 47%, from overall dataset.  These classes are not balanced because the number of observations of each class is different from each other. However, the difference is only 6% so we can train the model without using any balancing techniques as the model will not be biased because of this difference.</p>"
   ]
  },
  {
   "cell_type": "markdown",
   "id": "7640d6e3-4337-4f6f-af77-0c8fdf3fb443",
   "metadata": {},
   "source": [
    "<div style=\"width:100%;height:1px; background-color:black\"></div>"
   ]
  },
  {
   "cell_type": "markdown",
   "id": "3bc794e0-bc6d-4e0f-b42a-4c517592860e",
   "metadata": {},
   "source": [
    "<p style=\"font-size: 23px; margin-top: 10px;\"><u>Dataset conversion to cudf for PCA, Feature selection and normalization</u></p>"
   ]
  },
  {
   "cell_type": "code",
   "execution_count": 6,
   "id": "cfa7c136-6c3e-41a0-ac7f-cea6f4af4267",
   "metadata": {},
   "outputs": [],
   "source": [
    "# # create a local CUDA cluster\n",
    "# cluster = LocalCUDACluster(memory_limit='24GB') # to create a local CUDA cluster with memory limit of 24GB\n",
    "# client = Client(cluster) # create a Dask client to connect to the cluster\n",
    "# # This allows for parallel processing of data using Dask and utilizing the GPU resources provided by the CUDA cluster."
   ]
  },
  {
   "cell_type": "code",
   "execution_count": 7,
   "id": "e9f51092-9e58-487d-8ea9-8d827c2f2502",
   "metadata": {},
   "outputs": [
    {
     "data": {
      "text/plain": [
       "dask_cudf.core.DataFrame"
      ]
     },
     "execution_count": 7,
     "metadata": {},
     "output_type": "execute_result"
    }
   ],
   "source": [
    "type(particleDataset)"
   ]
  },
  {
   "cell_type": "code",
   "execution_count": 8,
   "id": "9c988d48-ee80-4434-a1ba-cc0046914a8d",
   "metadata": {},
   "outputs": [],
   "source": [
    "start_time = time.time() # start time of conversion"
   ]
  },
  {
   "cell_type": "code",
   "execution_count": 9,
   "id": "e5071f4b-e91c-4bfe-92a1-8611f497dd8c",
   "metadata": {},
   "outputs": [
    {
     "data": {
      "text/plain": [
       "cudf.core.dataframe.DataFrame"
      ]
     },
     "execution_count": 9,
     "metadata": {},
     "output_type": "execute_result"
    }
   ],
   "source": [
    "particleDataset_cudf = particleDataset.compute()\n",
    "type(particleDataset_cudf)"
   ]
  },
  {
   "cell_type": "code",
   "execution_count": 10,
   "id": "27d6f79c-a85f-4508-b7a9-b48d493f0e98",
   "metadata": {},
   "outputs": [
    {
     "name": "stdout",
     "output_type": "stream",
     "text": [
      "Time taken to load the data: 5.128459930419922 seconds\n"
     ]
    }
   ],
   "source": [
    "end_time = time.time() # end time of conversion \n",
    "print(\"Time taken to load the data:\", end_time-start_time, \"seconds\") # overall time it takes for conversio"
   ]
  },
  {
   "cell_type": "markdown",
   "id": "50f75dd8-0302-4507-a19c-e2843ade66b6",
   "metadata": {},
   "source": [
    "<div style=\"width:100%;height:1px; background-color:black\"></div>"
   ]
  },
  {
   "cell_type": "markdown",
   "id": "d3b60af7-6d72-4862-82ba-a70d3546372a",
   "metadata": {},
   "source": [
    "<p style=\"font-size: 23px; margin-top: 10px; font-weight: bold\">Data Skewness</p>"
   ]
  },
  {
   "cell_type": "code",
   "execution_count": 11,
   "id": "615184a0-656e-4ed8-9bc0-44995e881703",
   "metadata": {},
   "outputs": [
    {
     "name": "stdout",
     "output_type": "stream",
     "text": [
      "type                       -0.119896\n",
      "lepton_pT                   1.758389\n",
      "lepton_eta                  0.000074\n",
      "lepton_phi                  0.000399\n",
      "missing_energy_magnitude    1.490394\n",
      "missing_energy_phi         -0.000696\n",
      "jet_1_pt                    1.904673\n",
      "jet_1_eta                   0.000241\n",
      "jet_1_phi                  -0.000336\n",
      "jet_1_b_tag                 0.159151\n",
      "jet_2_pt                    1.968347\n",
      "jet_2_eta                   0.000529\n",
      "jet_2_phi                   0.000061\n",
      "jet_2_b_tag                 0.194178\n",
      "jet_3_pt                    1.706212\n",
      "jet_3_eta                  -0.000631\n",
      "jet_3_phi                   0.000666\n",
      "jet_3_b_tag                 0.439373\n",
      "jet_4_pt                    1.724037\n",
      "jet_4_eta                   0.000117\n",
      "jet_4_phi                   0.000277\n",
      "jet_4_b_tag                 0.758623\n",
      "m_jj                        6.516702\n",
      "m_jjj                       4.999136\n",
      "m_lv                        4.621131\n",
      "m_jlv                       2.853527\n",
      "m_bb                        2.425861\n",
      "m_wbb                       2.686348\n",
      "m_wwbb                      2.547701\n",
      "dtype: float64\n"
     ]
    }
   ],
   "source": [
    "skewness = particleDataset_cudf.skew()\n",
    "print(skewness)"
   ]
  },
  {
   "cell_type": "markdown",
   "id": "6c88a53d-02dd-4980-b8ab-8737dbe053b0",
   "metadata": {},
   "source": [
    "<p style=\"font-size: 20px\">\n",
    "From the above it can be see that several features have positive skewness values, indicating that their distributions are skewed to the right. These features include lepton_pT, missing_energy_magnitude, jet_1_pt, jet_2_pt, jet_3_pt, jet_4_pt, m_jj, m_jjj, m_lv, m_jlv, m_bb, m_wbb, and m_wwbb. On the other hand, some features have negative skewness values, indicating that their distributions are skewed to the left. These features include type, jet_1_b_tag, jet_2_b_tag, jet_3_b_tag, and jet_4_b_tag.\n",
    "</p>"
   ]
  },
  {
   "cell_type": "markdown",
   "id": "773d44dc-2c93-4f1b-b6b5-5f3658d6b5df",
   "metadata": {},
   "source": [
    "<div style=\"width:100%;height:1px; background-color:black\"></div>"
   ]
  },
  {
   "cell_type": "markdown",
   "id": "c5e7f5d5-628a-4aa2-9d9f-31d115696cdc",
   "metadata": {},
   "source": [
    "<p style=\"font-size: 23px; margin-top: 10px; font-weight: bold\">Correlation Matrix</p>"
   ]
  },
  {
   "cell_type": "code",
   "execution_count": 20,
   "id": "d479251c-1909-4769-89aa-203427315749",
   "metadata": {},
   "outputs": [],
   "source": [
    "# Compute the correlation matrix\n",
    "corr = particleDataset_cudf.iloc[:,:-1].corr().abs().to_numpy()\n"
   ]
  },
  {
   "cell_type": "code",
   "execution_count": 21,
   "id": "9c2c24fa-f4a0-4a02-857e-80dbe374f7ee",
   "metadata": {},
   "outputs": [
    {
     "data": {
      "image/png": "[encoded data removed]",
      "text/plain": [
       "<Figure size 1440x1440 with 2 Axes>"
      ]
     },
     "metadata": {
      "needs_background": "light"
     },
     "output_type": "display_data"
    }
   ],
   "source": [
    "# Plot the correlation matrix as a heatmap using Seaborn\n",
    "plt.figure(figsize=(20, 20))\n",
    "sns.heatmap(corr, fmt='.2f', annot=True )\n",
    "\n",
    "# Show the plot\n",
    "plt.show()"
   ]
  },
  {
   "cell_type": "markdown",
   "id": "7ae72039-2e03-4553-ba08-acb57fe7a98f",
   "metadata": {},
   "source": [
    "<p style=\"font-size: 20px\">Correlation is a statistical measure that describes the degree of association between two variables. When two features have a high correlation, they provide redundant information to the model, which can lead to overfitting, reduced model performance, and increased computation time. Figure 6 shows the correlation between all the variables. The correlation between variables ranges from 0.00 - 0.80. The Higgs boson particle dataset has 28 features, and dropping highly correlated features can help to reduce overfitting and improve the accuracy of machine learning models.</p>"
   ]
  },
  {
   "cell_type": "markdown",
   "id": "c573e504-fc26-463d-8835-e66eae857099",
   "metadata": {},
   "source": [
    "<div style=\"width:100%;height:1px; background-color:black\"></div>"
   ]
  },
  {
   "cell_type": "markdown",
   "id": "28439c84-1a9e-4ead-887e-46c1a22fd89e",
   "metadata": {},
   "source": [
    "<p style=\"font-size: 23px; margin-top: 10px; font-weight: bold\">Outliers</p>"
   ]
  },
  {
   "cell_type": "code",
   "execution_count": 22,
   "id": "6dda8e9d-3470-4be4-a6ea-2f057396b708",
   "metadata": {
    "tags": []
   },
   "outputs": [
    {
     "data": {
      "image/png": "[encoded data removed]",
      "text/plain": [
       "<Figure size 1440x1440 with 1 Axes>"
      ]
     },
     "metadata": {
      "needs_background": "light"
     },
     "output_type": "display_data"
    }
   ],
   "source": [
    "pandas_particleDataset = particleDataset_cudf.to_pandas()\n",
    "particleSubset = pandas_particleDataset.sample(n=1000)\n",
    "\n",
    "# create a boxplot\n",
    "plt.figure(figsize=(20, 20))\n",
    "particleSubset.boxplot(column=list(particleDataset.columns))\n",
    "\n",
    "# show the plot\n",
    "plt.show()"
   ]
  },
  {
   "cell_type": "markdown",
   "id": "74fbf7ed-a91d-4d67-abc7-51a7db8c5fec",
   "metadata": {
    "tags": []
   },
   "source": [
    "<p style=\"font-size: 20px\">In the above figure, boxplot has been used to show the outliers in the dataset. When analyzing a box plot, data points outside the box plot's whiskers are referred to as an outlier. From the above boxplots, \"*\" these data points are outliers.</p>"
   ]
  },
  {
   "cell_type": "markdown",
   "id": "0aadf56a-5667-49c5-8381-f77bbf93e202",
   "metadata": {
    "tags": []
   },
   "source": [
    "<div style=\"width:100%;height:3px; background-color:black\"></div>"
   ]
  },
  {
   "cell_type": "markdown",
   "id": "ff4a0e2a-651d-4719-ab25-b5726c5b207a",
   "metadata": {},
   "source": [
    " <p id=\"pre\" style=\"font-size:30px; text-align:center\"><u>Data Pre-processing</u></p><a href=\"#top1\">Back To Top</a>"
   ]
  },
  {
   "cell_type": "markdown",
   "id": "ed3f6750-5fae-47da-afc0-4a711cbd1193",
   "metadata": {},
   "source": [
    "<div style=\"width:100%;height:3px; background-color:black\"></div>"
   ]
  },
  {
   "cell_type": "markdown",
   "id": "90b52eb0-b3ba-43f3-a44d-3fe1afa5bf45",
   "metadata": {},
   "source": [
    "<p style=\"font-size: 23px; margin-top: 10px; font-weight: bold\">PCA (Principal Component Analysis)</p>"
   ]
  },
  {
   "cell_type": "markdown",
   "id": "354743a6-f5d1-4c8c-bb6a-36cdca33f09c",
   "metadata": {},
   "source": [
    "<p style=\"font-size: 20px\">In order to minimise the number of dimensions in the data and find patterns and links, PCA (Principal Component investigation) can be employed in the investigation of the Higgs Boson particle.</p>\n",
    "<p style=\"font-size: 20px\">\n",
    "In this dataset, features frequently have a strong correlation with one another, it can be challenging to decide which elements are the most crucial or to visualise the data. The features can be changed into a new collection of uncorrelated features called principal components by using PCA on the data. These features capture the most significant patterns and relationships in the data. \n",
    "</p>"
   ]
  },
  {
   "cell_type": "code",
   "execution_count": 12,
   "id": "acd65e9c-2a74-4db0-9f0d-84057e95b150",
   "metadata": {},
   "outputs": [],
   "source": [
    "# Extract the features and labels\n",
    "particleDataset_conversion = cp.asarray(particleDataset_cudf.values)\n",
    "# y = cp.asarray(particleDataset['type'].values)\n",
    "\n"
   ]
  },
  {
   "cell_type": "code",
   "execution_count": 13,
   "id": "29cea3b6-5aa6-4f03-81d6-405e7a355ad7",
   "metadata": {},
   "outputs": [
    {
     "data": {
      "text/plain": [
       "array([[ 1.        ,  0.90754211,  0.32914728, ...,  0.77973217,\n",
       "         0.99235576,  0.79834259],\n",
       "       [ 1.        ,  0.79883474,  1.47063875, ...,  0.8032515 ,\n",
       "         0.86592442,  0.78011757],\n",
       "       [ 0.        ,  1.34438479, -0.87662601, ...,  0.86920023,\n",
       "         1.0267365 ,  0.95790398],\n",
       "       ...,\n",
       "       [ 1.        ,  0.70055878,  0.77425104, ...,  1.88843834,\n",
       "         1.1537658 ,  0.93127912],\n",
       "       [ 0.        ,  1.17802954,  0.11779606, ...,  0.33970493,\n",
       "         0.75907028,  0.71911919],\n",
       "       [ 0.        ,  0.46447706, -0.33704734, ...,  0.57608366,\n",
       "         0.54142696,  0.51741987]])"
      ]
     },
     "execution_count": 13,
     "metadata": {},
     "output_type": "execute_result"
    }
   ],
   "source": [
    "\n",
    "# Apply PCA to the data\n",
    "pca = PCA(n_components=2)\n",
    "pca.fit(particleDataset_conversion)\n",
    "\n",
    "# Project the data onto the lower-dimensional space\n",
    "particleDataset_conversion_pca = pca.transform(particleDataset_conversion)\n",
    "\n",
    "# Calculate the residual error for each data point\n",
    "residual_error = cp.linalg.norm(particleDataset_conversion-pca.inverse_transform(particleDataset_conversion_pca), axis = 1)\n",
    "\n",
    "# Set a threshold for identifying outliers\n",
    "threshold = cp.percentile(residual_error, 85)\n",
    "\n",
    "# Identify the outliers based on the threshold\n",
    "outliers = particleDataset_conversion[residual_error > threshold]\n",
    "\n",
    "# Handle the outliers accordingly\n",
    "\n",
    "clean_data = particleDataset_conversion[residual_error <= threshold]\n",
    "clean_data # an array of cleaned data"
   ]
  },
  {
   "cell_type": "code",
   "execution_count": 14,
   "id": "9b0fd923-84f0-4af7-9f85-a9551efa056b",
   "metadata": {},
   "outputs": [],
   "source": [
    "particleDataset_cleaned = cudf.DataFrame.from_records(clean_data)"
   ]
  },
  {
   "cell_type": "code",
   "execution_count": 15,
   "id": "64d68498-0aab-4c31-b5bb-efb5d0aa29a2",
   "metadata": {},
   "outputs": [],
   "source": [
    "particleDataset_cleaned.columns =['type', 'lepton_pT', 'lepton_eta', 'lepton_phi','missing_energy_magnitude','missing_energy_phi','jet_1_pt','jet_1_eta','jet_1_phi','jet_1_b_tag','jet_2_pt','jet_2_eta','jet_2_phi','jet_2_b_tag','jet_3_pt','jet_3_eta','jet_3_phi','jet_3_b_tag','jet_4_pt','jet_4_eta','jet_4_phi','jet_4_b_tag','m_jj','m_jjj','m_lv','m_jlv','m_bb','m_wbb','m_wwbb']\n"
   ]
  },
  {
   "cell_type": "code",
   "execution_count": 16,
   "id": "9a052933-28da-4c62-bf69-3e4183603df3",
   "metadata": {},
   "outputs": [
    {
     "data": {
      "text/html": [
       "<div>\n",
       "<style scoped>\n",
       "    .dataframe tbody tr th:only-of-type {\n",
       "        vertical-align: middle;\n",
       "    }\n",
       "\n",
       "    .dataframe tbody tr th {\n",
       "        vertical-align: top;\n",
       "    }\n",
       "\n",
       "    .dataframe thead th {\n",
       "        text-align: right;\n",
       "    }\n",
       "</style>\n",
       "<table border=\"1\" class=\"dataframe\">\n",
       "  <thead>\n",
       "    <tr style=\"text-align: right;\">\n",
       "      <th></th>\n",
       "      <th>type</th>\n",
       "      <th>lepton_pT</th>\n",
       "      <th>lepton_eta</th>\n",
       "      <th>lepton_phi</th>\n",
       "      <th>missing_energy_magnitude</th>\n",
       "      <th>missing_energy_phi</th>\n",
       "      <th>jet_1_pt</th>\n",
       "      <th>jet_1_eta</th>\n",
       "      <th>jet_1_phi</th>\n",
       "      <th>jet_1_b_tag</th>\n",
       "      <th>...</th>\n",
       "      <th>jet_4_eta</th>\n",
       "      <th>jet_4_phi</th>\n",
       "      <th>jet_4_b_tag</th>\n",
       "      <th>m_jj</th>\n",
       "      <th>m_jjj</th>\n",
       "      <th>m_lv</th>\n",
       "      <th>m_jlv</th>\n",
       "      <th>m_bb</th>\n",
       "      <th>m_wbb</th>\n",
       "      <th>m_wwbb</th>\n",
       "    </tr>\n",
       "  </thead>\n",
       "  <tbody>\n",
       "    <tr>\n",
       "      <th>0</th>\n",
       "      <td>1.0</td>\n",
       "      <td>0.907542</td>\n",
       "      <td>0.329147</td>\n",
       "      <td>0.359412</td>\n",
       "      <td>1.497970</td>\n",
       "      <td>-0.313010</td>\n",
       "      <td>1.095531</td>\n",
       "      <td>-0.557525</td>\n",
       "      <td>-1.588230</td>\n",
       "      <td>2.173076</td>\n",
       "      <td>...</td>\n",
       "      <td>-1.138930</td>\n",
       "      <td>-0.000819</td>\n",
       "      <td>0.000000</td>\n",
       "      <td>0.302220</td>\n",
       "      <td>0.833048</td>\n",
       "      <td>0.985700</td>\n",
       "      <td>0.978098</td>\n",
       "      <td>0.779732</td>\n",
       "      <td>0.992356</td>\n",
       "      <td>0.798343</td>\n",
       "    </tr>\n",
       "    <tr>\n",
       "      <th>1</th>\n",
       "      <td>1.0</td>\n",
       "      <td>0.798835</td>\n",
       "      <td>1.470639</td>\n",
       "      <td>-1.635975</td>\n",
       "      <td>0.453773</td>\n",
       "      <td>0.425629</td>\n",
       "      <td>1.104875</td>\n",
       "      <td>1.282322</td>\n",
       "      <td>1.381664</td>\n",
       "      <td>0.000000</td>\n",
       "      <td>...</td>\n",
       "      <td>1.128848</td>\n",
       "      <td>0.900461</td>\n",
       "      <td>0.000000</td>\n",
       "      <td>0.909753</td>\n",
       "      <td>1.108330</td>\n",
       "      <td>0.985692</td>\n",
       "      <td>0.951331</td>\n",
       "      <td>0.803252</td>\n",
       "      <td>0.865924</td>\n",
       "      <td>0.780118</td>\n",
       "    </tr>\n",
       "    <tr>\n",
       "      <th>2</th>\n",
       "      <td>0.0</td>\n",
       "      <td>1.344385</td>\n",
       "      <td>-0.876626</td>\n",
       "      <td>0.935913</td>\n",
       "      <td>1.992050</td>\n",
       "      <td>0.882454</td>\n",
       "      <td>1.786066</td>\n",
       "      <td>-1.646778</td>\n",
       "      <td>-0.942383</td>\n",
       "      <td>0.000000</td>\n",
       "      <td>...</td>\n",
       "      <td>-0.678379</td>\n",
       "      <td>-1.360356</td>\n",
       "      <td>0.000000</td>\n",
       "      <td>0.946652</td>\n",
       "      <td>1.028704</td>\n",
       "      <td>0.998656</td>\n",
       "      <td>0.728281</td>\n",
       "      <td>0.869200</td>\n",
       "      <td>1.026736</td>\n",
       "      <td>0.957904</td>\n",
       "    </tr>\n",
       "    <tr>\n",
       "      <th>3</th>\n",
       "      <td>1.0</td>\n",
       "      <td>1.105009</td>\n",
       "      <td>0.321356</td>\n",
       "      <td>1.522401</td>\n",
       "      <td>0.882808</td>\n",
       "      <td>-1.205349</td>\n",
       "      <td>0.681466</td>\n",
       "      <td>-1.070464</td>\n",
       "      <td>-0.921871</td>\n",
       "      <td>0.000000</td>\n",
       "      <td>...</td>\n",
       "      <td>-0.373566</td>\n",
       "      <td>0.113041</td>\n",
       "      <td>0.000000</td>\n",
       "      <td>0.755856</td>\n",
       "      <td>1.361057</td>\n",
       "      <td>0.986610</td>\n",
       "      <td>0.838085</td>\n",
       "      <td>1.133295</td>\n",
       "      <td>0.872245</td>\n",
       "      <td>0.808487</td>\n",
       "    </tr>\n",
       "    <tr>\n",
       "      <th>4</th>\n",
       "      <td>0.0</td>\n",
       "      <td>1.595839</td>\n",
       "      <td>-0.607811</td>\n",
       "      <td>0.007075</td>\n",
       "      <td>1.818450</td>\n",
       "      <td>-0.111906</td>\n",
       "      <td>0.847550</td>\n",
       "      <td>-0.566437</td>\n",
       "      <td>1.581239</td>\n",
       "      <td>2.173076</td>\n",
       "      <td>...</td>\n",
       "      <td>-0.654227</td>\n",
       "      <td>-1.274345</td>\n",
       "      <td>3.101961</td>\n",
       "      <td>0.823761</td>\n",
       "      <td>0.938191</td>\n",
       "      <td>0.971758</td>\n",
       "      <td>0.789176</td>\n",
       "      <td>0.430553</td>\n",
       "      <td>0.961357</td>\n",
       "      <td>0.957818</td>\n",
       "    </tr>\n",
       "    <tr>\n",
       "      <th>...</th>\n",
       "      <td>...</td>\n",
       "      <td>...</td>\n",
       "      <td>...</td>\n",
       "      <td>...</td>\n",
       "      <td>...</td>\n",
       "      <td>...</td>\n",
       "      <td>...</td>\n",
       "      <td>...</td>\n",
       "      <td>...</td>\n",
       "      <td>...</td>\n",
       "      <td>...</td>\n",
       "      <td>...</td>\n",
       "      <td>...</td>\n",
       "      <td>...</td>\n",
       "      <td>...</td>\n",
       "      <td>...</td>\n",
       "      <td>...</td>\n",
       "      <td>...</td>\n",
       "      <td>...</td>\n",
       "      <td>...</td>\n",
       "      <td>...</td>\n",
       "    </tr>\n",
       "    <tr>\n",
       "      <th>9349994</th>\n",
       "      <td>1.0</td>\n",
       "      <td>1.159912</td>\n",
       "      <td>1.013847</td>\n",
       "      <td>0.108615</td>\n",
       "      <td>1.495524</td>\n",
       "      <td>-0.537545</td>\n",
       "      <td>2.342396</td>\n",
       "      <td>-0.839740</td>\n",
       "      <td>1.320683</td>\n",
       "      <td>0.000000</td>\n",
       "      <td>...</td>\n",
       "      <td>-0.097068</td>\n",
       "      <td>1.190680</td>\n",
       "      <td>3.101961</td>\n",
       "      <td>0.822136</td>\n",
       "      <td>0.766772</td>\n",
       "      <td>1.002191</td>\n",
       "      <td>1.061233</td>\n",
       "      <td>0.837004</td>\n",
       "      <td>0.860472</td>\n",
       "      <td>0.772484</td>\n",
       "    </tr>\n",
       "    <tr>\n",
       "      <th>9349995</th>\n",
       "      <td>1.0</td>\n",
       "      <td>0.618388</td>\n",
       "      <td>-1.012982</td>\n",
       "      <td>1.110139</td>\n",
       "      <td>0.941023</td>\n",
       "      <td>-0.379199</td>\n",
       "      <td>1.004656</td>\n",
       "      <td>0.348535</td>\n",
       "      <td>-1.678593</td>\n",
       "      <td>2.173076</td>\n",
       "      <td>...</td>\n",
       "      <td>-0.216995</td>\n",
       "      <td>1.049177</td>\n",
       "      <td>3.101961</td>\n",
       "      <td>0.826829</td>\n",
       "      <td>0.989809</td>\n",
       "      <td>1.029104</td>\n",
       "      <td>1.199679</td>\n",
       "      <td>0.891481</td>\n",
       "      <td>0.938490</td>\n",
       "      <td>0.865269</td>\n",
       "    </tr>\n",
       "    <tr>\n",
       "      <th>9349996</th>\n",
       "      <td>1.0</td>\n",
       "      <td>0.700559</td>\n",
       "      <td>0.774251</td>\n",
       "      <td>1.520182</td>\n",
       "      <td>0.847112</td>\n",
       "      <td>0.211230</td>\n",
       "      <td>1.095531</td>\n",
       "      <td>0.052457</td>\n",
       "      <td>0.024553</td>\n",
       "      <td>2.173076</td>\n",
       "      <td>...</td>\n",
       "      <td>1.585235</td>\n",
       "      <td>1.713962</td>\n",
       "      <td>0.000000</td>\n",
       "      <td>0.337374</td>\n",
       "      <td>0.845208</td>\n",
       "      <td>0.987610</td>\n",
       "      <td>0.883422</td>\n",
       "      <td>1.888438</td>\n",
       "      <td>1.153766</td>\n",
       "      <td>0.931279</td>\n",
       "    </tr>\n",
       "    <tr>\n",
       "      <th>9349997</th>\n",
       "      <td>0.0</td>\n",
       "      <td>1.178030</td>\n",
       "      <td>0.117796</td>\n",
       "      <td>-1.276980</td>\n",
       "      <td>1.864457</td>\n",
       "      <td>-0.584370</td>\n",
       "      <td>0.998519</td>\n",
       "      <td>-1.264549</td>\n",
       "      <td>1.276333</td>\n",
       "      <td>0.000000</td>\n",
       "      <td>...</td>\n",
       "      <td>1.399515</td>\n",
       "      <td>-1.313189</td>\n",
       "      <td>0.000000</td>\n",
       "      <td>0.838842</td>\n",
       "      <td>0.882890</td>\n",
       "      <td>1.201380</td>\n",
       "      <td>0.939216</td>\n",
       "      <td>0.339705</td>\n",
       "      <td>0.759070</td>\n",
       "      <td>0.719119</td>\n",
       "    </tr>\n",
       "    <tr>\n",
       "      <th>9349998</th>\n",
       "      <td>0.0</td>\n",
       "      <td>0.464477</td>\n",
       "      <td>-0.337047</td>\n",
       "      <td>0.229019</td>\n",
       "      <td>0.954596</td>\n",
       "      <td>-0.868466</td>\n",
       "      <td>0.430004</td>\n",
       "      <td>-0.271348</td>\n",
       "      <td>-1.252278</td>\n",
       "      <td>2.173076</td>\n",
       "      <td>...</td>\n",
       "      <td>-1.652782</td>\n",
       "      <td>-0.586254</td>\n",
       "      <td>0.000000</td>\n",
       "      <td>0.752535</td>\n",
       "      <td>0.740727</td>\n",
       "      <td>0.986917</td>\n",
       "      <td>0.663952</td>\n",
       "      <td>0.576084</td>\n",
       "      <td>0.541427</td>\n",
       "      <td>0.517420</td>\n",
       "    </tr>\n",
       "  </tbody>\n",
       "</table>\n",
       "<p>9349999 rows × 29 columns</p>\n",
       "</div>"
      ],
      "text/plain": [
       "         type  lepton_pT  lepton_eta  lepton_phi  missing_energy_magnitude  \\\n",
       "0         1.0   0.907542    0.329147    0.359412                  1.497970   \n",
       "1         1.0   0.798835    1.470639   -1.635975                  0.453773   \n",
       "2         0.0   1.344385   -0.876626    0.935913                  1.992050   \n",
       "3         1.0   1.105009    0.321356    1.522401                  0.882808   \n",
       "4         0.0   1.595839   -0.607811    0.007075                  1.818450   \n",
       "...       ...        ...         ...         ...                       ...   \n",
       "9349994   1.0   1.159912    1.013847    0.108615                  1.495524   \n",
       "9349995   1.0   0.618388   -1.012982    1.110139                  0.941023   \n",
       "9349996   1.0   0.700559    0.774251    1.520182                  0.847112   \n",
       "9349997   0.0   1.178030    0.117796   -1.276980                  1.864457   \n",
       "9349998   0.0   0.464477   -0.337047    0.229019                  0.954596   \n",
       "\n",
       "         missing_energy_phi  jet_1_pt  jet_1_eta  jet_1_phi  jet_1_b_tag  ...  \\\n",
       "0                 -0.313010  1.095531  -0.557525  -1.588230     2.173076  ...   \n",
       "1                  0.425629  1.104875   1.282322   1.381664     0.000000  ...   \n",
       "2                  0.882454  1.786066  -1.646778  -0.942383     0.000000  ...   \n",
       "3                 -1.205349  0.681466  -1.070464  -0.921871     0.000000  ...   \n",
       "4                 -0.111906  0.847550  -0.566437   1.581239     2.173076  ...   \n",
       "...                     ...       ...        ...        ...          ...  ...   \n",
       "9349994           -0.537545  2.342396  -0.839740   1.320683     0.000000  ...   \n",
       "9349995           -0.379199  1.004656   0.348535  -1.678593     2.173076  ...   \n",
       "9349996            0.211230  1.095531   0.052457   0.024553     2.173076  ...   \n",
       "9349997           -0.584370  0.998519  -1.264549   1.276333     0.000000  ...   \n",
       "9349998           -0.868466  0.430004  -0.271348  -1.252278     2.173076  ...   \n",
       "\n",
       "         jet_4_eta  jet_4_phi  jet_4_b_tag      m_jj     m_jjj      m_lv  \\\n",
       "0        -1.138930  -0.000819     0.000000  0.302220  0.833048  0.985700   \n",
       "1         1.128848   0.900461     0.000000  0.909753  1.108330  0.985692   \n",
       "2        -0.678379  -1.360356     0.000000  0.946652  1.028704  0.998656   \n",
       "3        -0.373566   0.113041     0.000000  0.755856  1.361057  0.986610   \n",
       "4        -0.654227  -1.274345     3.101961  0.823761  0.938191  0.971758   \n",
       "...            ...        ...          ...       ...       ...       ...   \n",
       "9349994  -0.097068   1.190680     3.101961  0.822136  0.766772  1.002191   \n",
       "9349995  -0.216995   1.049177     3.101961  0.826829  0.989809  1.029104   \n",
       "9349996   1.585235   1.713962     0.000000  0.337374  0.845208  0.987610   \n",
       "9349997   1.399515  -1.313189     0.000000  0.838842  0.882890  1.201380   \n",
       "9349998  -1.652782  -0.586254     0.000000  0.752535  0.740727  0.986917   \n",
       "\n",
       "            m_jlv      m_bb     m_wbb    m_wwbb  \n",
       "0        0.978098  0.779732  0.992356  0.798343  \n",
       "1        0.951331  0.803252  0.865924  0.780118  \n",
       "2        0.728281  0.869200  1.026736  0.957904  \n",
       "3        0.838085  1.133295  0.872245  0.808487  \n",
       "4        0.789176  0.430553  0.961357  0.957818  \n",
       "...           ...       ...       ...       ...  \n",
       "9349994  1.061233  0.837004  0.860472  0.772484  \n",
       "9349995  1.199679  0.891481  0.938490  0.865269  \n",
       "9349996  0.883422  1.888438  1.153766  0.931279  \n",
       "9349997  0.939216  0.339705  0.759070  0.719119  \n",
       "9349998  0.663952  0.576084  0.541427  0.517420  \n",
       "\n",
       "[9349999 rows x 29 columns]"
      ]
     },
     "execution_count": 16,
     "metadata": {},
     "output_type": "execute_result"
    }
   ],
   "source": [
    "particleDataset_cleaned"
   ]
  },
  {
   "cell_type": "code",
   "execution_count": 17,
   "id": "83cdbf51-329b-4be8-bb8b-f427b4cb2c48",
   "metadata": {},
   "outputs": [
    {
     "data": {
      "text/plain": [
       "cudf.core.dataframe.DataFrame"
      ]
     },
     "execution_count": 17,
     "metadata": {},
     "output_type": "execute_result"
    }
   ],
   "source": [
    "type(particleDataset_cleaned)"
   ]
  },
  {
   "cell_type": "markdown",
   "id": "1b46c78c-0f4a-489d-8f4a-d8939a2a4857",
   "metadata": {
    "tags": []
   },
   "source": [
    "<div style=\"width:100%;height:1px; background-color:black\"></div>"
   ]
  },
  {
   "cell_type": "markdown",
   "id": "aebf3305-0a6d-4825-ba07-a717b5af36b3",
   "metadata": {},
   "source": [
    "<p style=\"font-size: 23px; margin-top: 10px; font-weight: bold\">Feature Selection</p>"
   ]
  },
  {
   "cell_type": "markdown",
   "id": "4c2cdd63-3a2f-437d-aa8f-1ed9001c9f7d",
   "metadata": {},
   "source": [
    "<p style=\"font-size: 20px\">Feature selection  involves selecting a subset of relevant features (or variables) from the original set of features to improve model accuracy and interpretability, reduce overfitting, and save computational resources.</p>"
   ]
  },
  {
   "cell_type": "code",
   "execution_count": 18,
   "id": "76cf25d7-3d47-4152-b4da-7963c575ff3c",
   "metadata": {},
   "outputs": [
    {
     "data": {
      "text/plain": [
       "(9349999, 29)"
      ]
     },
     "execution_count": 18,
     "metadata": {},
     "output_type": "execute_result"
    }
   ],
   "source": [
    "particleDataset_cleaned.shape # To check the shape of the dataset after PCA"
   ]
  },
  {
   "cell_type": "code",
   "execution_count": 19,
   "id": "f22586fa-6bab-43eb-950c-99cd457bc767",
   "metadata": {},
   "outputs": [],
   "source": [
    "# Compute the correlation matrix for feature selection\n",
    "corr_matrix = particleDataset_cleaned.corr()\n"
   ]
  },
  {
   "cell_type": "code",
   "execution_count": 20,
   "id": "b047c2d7-1e30-4a43-8ef2-7344078df1ad",
   "metadata": {},
   "outputs": [
    {
     "name": "stdout",
     "output_type": "stream",
     "text": [
      "{'m_wbb'}\n"
     ]
    }
   ],
   "source": [
    "# Set the correlation threshold\n",
    "threshold = 0.8\n",
    "\n",
    "# Create an empty set to hold the names of the highly correlated features\n",
    "high_corr_features = set()\n",
    "\n",
    "# Loop over the columns of the correlation matrix\n",
    "for i in range(len(corr_matrix.columns)):# Loop over the rows of the correlation matrix up to the current column\n",
    "    for j in range(i):\n",
    "        if abs(corr_matrix.iloc[i, j]) > threshold: # Check if the absolute value of the correlation is above the threshold\n",
    "            # Get the names of the two correlated features\n",
    "            colname_i = corr_matrix.columns[i]\n",
    "            colname_j = corr_matrix.columns[j]\n",
    "            # Check if either of the features has already been added to the set\n",
    "            if colname_i not in high_corr_features and colname_j not in high_corr_features:\n",
    "                # Add the feature with the higher correlation with the target variable\n",
    "                if abs(corr_matrix.loc[colname_i, 'type']) > abs(corr_matrix.loc[colname_j, 'type']):\n",
    "                    high_corr_features.add(colname_j)\n",
    "                else:\n",
    "                    high_corr_features.add(colname_i)\n",
    "\n",
    "# Print the names of the highly correlated features\n",
    "print(high_corr_features)\n"
   ]
  },
  {
   "cell_type": "code",
   "execution_count": 21,
   "id": "d03fdae8-0973-453e-9036-7bf3582d7b33",
   "metadata": {},
   "outputs": [],
   "source": [
    "particleDataset_with_selected_features = particleDataset_cleaned.drop(columns=high_corr_features)"
   ]
  },
  {
   "cell_type": "code",
   "execution_count": 22,
   "id": "370bea48-7356-4ddd-8521-dc72e7a9ae0a",
   "metadata": {},
   "outputs": [
    {
     "data": {
      "text/html": [
       "<div>\n",
       "<style scoped>\n",
       "    .dataframe tbody tr th:only-of-type {\n",
       "        vertical-align: middle;\n",
       "    }\n",
       "\n",
       "    .dataframe tbody tr th {\n",
       "        vertical-align: top;\n",
       "    }\n",
       "\n",
       "    .dataframe thead th {\n",
       "        text-align: right;\n",
       "    }\n",
       "</style>\n",
       "<table border=\"1\" class=\"dataframe\">\n",
       "  <thead>\n",
       "    <tr style=\"text-align: right;\">\n",
       "      <th></th>\n",
       "      <th>type</th>\n",
       "      <th>lepton_pT</th>\n",
       "      <th>lepton_eta</th>\n",
       "      <th>lepton_phi</th>\n",
       "      <th>missing_energy_magnitude</th>\n",
       "      <th>missing_energy_phi</th>\n",
       "      <th>jet_1_pt</th>\n",
       "      <th>jet_1_eta</th>\n",
       "      <th>jet_1_phi</th>\n",
       "      <th>jet_1_b_tag</th>\n",
       "      <th>...</th>\n",
       "      <th>jet_4_pt</th>\n",
       "      <th>jet_4_eta</th>\n",
       "      <th>jet_4_phi</th>\n",
       "      <th>jet_4_b_tag</th>\n",
       "      <th>m_jj</th>\n",
       "      <th>m_jjj</th>\n",
       "      <th>m_lv</th>\n",
       "      <th>m_jlv</th>\n",
       "      <th>m_bb</th>\n",
       "      <th>m_wwbb</th>\n",
       "    </tr>\n",
       "  </thead>\n",
       "  <tbody>\n",
       "    <tr>\n",
       "      <th>0</th>\n",
       "      <td>1.0</td>\n",
       "      <td>0.907542</td>\n",
       "      <td>0.329147</td>\n",
       "      <td>0.359412</td>\n",
       "      <td>1.497970</td>\n",
       "      <td>-0.313010</td>\n",
       "      <td>1.095531</td>\n",
       "      <td>-0.557525</td>\n",
       "      <td>-1.588230</td>\n",
       "      <td>2.173076</td>\n",
       "      <td>...</td>\n",
       "      <td>0.398701</td>\n",
       "      <td>-1.138930</td>\n",
       "      <td>-0.000819</td>\n",
       "      <td>0.000000</td>\n",
       "      <td>0.302220</td>\n",
       "      <td>0.833048</td>\n",
       "      <td>0.985700</td>\n",
       "      <td>0.978098</td>\n",
       "      <td>0.779732</td>\n",
       "      <td>0.798343</td>\n",
       "    </tr>\n",
       "    <tr>\n",
       "      <th>1</th>\n",
       "      <td>1.0</td>\n",
       "      <td>0.798835</td>\n",
       "      <td>1.470639</td>\n",
       "      <td>-1.635975</td>\n",
       "      <td>0.453773</td>\n",
       "      <td>0.425629</td>\n",
       "      <td>1.104875</td>\n",
       "      <td>1.282322</td>\n",
       "      <td>1.381664</td>\n",
       "      <td>0.000000</td>\n",
       "      <td>...</td>\n",
       "      <td>1.256955</td>\n",
       "      <td>1.128848</td>\n",
       "      <td>0.900461</td>\n",
       "      <td>0.000000</td>\n",
       "      <td>0.909753</td>\n",
       "      <td>1.108330</td>\n",
       "      <td>0.985692</td>\n",
       "      <td>0.951331</td>\n",
       "      <td>0.803252</td>\n",
       "      <td>0.780118</td>\n",
       "    </tr>\n",
       "    <tr>\n",
       "      <th>2</th>\n",
       "      <td>0.0</td>\n",
       "      <td>1.344385</td>\n",
       "      <td>-0.876626</td>\n",
       "      <td>0.935913</td>\n",
       "      <td>1.992050</td>\n",
       "      <td>0.882454</td>\n",
       "      <td>1.786066</td>\n",
       "      <td>-1.646778</td>\n",
       "      <td>-0.942383</td>\n",
       "      <td>0.000000</td>\n",
       "      <td>...</td>\n",
       "      <td>0.745313</td>\n",
       "      <td>-0.678379</td>\n",
       "      <td>-1.360356</td>\n",
       "      <td>0.000000</td>\n",
       "      <td>0.946652</td>\n",
       "      <td>1.028704</td>\n",
       "      <td>0.998656</td>\n",
       "      <td>0.728281</td>\n",
       "      <td>0.869200</td>\n",
       "      <td>0.957904</td>\n",
       "    </tr>\n",
       "    <tr>\n",
       "      <th>3</th>\n",
       "      <td>1.0</td>\n",
       "      <td>1.105009</td>\n",
       "      <td>0.321356</td>\n",
       "      <td>1.522401</td>\n",
       "      <td>0.882808</td>\n",
       "      <td>-1.205349</td>\n",
       "      <td>0.681466</td>\n",
       "      <td>-1.070464</td>\n",
       "      <td>-0.921871</td>\n",
       "      <td>0.000000</td>\n",
       "      <td>...</td>\n",
       "      <td>0.479999</td>\n",
       "      <td>-0.373566</td>\n",
       "      <td>0.113041</td>\n",
       "      <td>0.000000</td>\n",
       "      <td>0.755856</td>\n",
       "      <td>1.361057</td>\n",
       "      <td>0.986610</td>\n",
       "      <td>0.838085</td>\n",
       "      <td>1.133295</td>\n",
       "      <td>0.808487</td>\n",
       "    </tr>\n",
       "    <tr>\n",
       "      <th>4</th>\n",
       "      <td>0.0</td>\n",
       "      <td>1.595839</td>\n",
       "      <td>-0.607811</td>\n",
       "      <td>0.007075</td>\n",
       "      <td>1.818450</td>\n",
       "      <td>-0.111906</td>\n",
       "      <td>0.847550</td>\n",
       "      <td>-0.566437</td>\n",
       "      <td>1.581239</td>\n",
       "      <td>2.173076</td>\n",
       "      <td>...</td>\n",
       "      <td>0.651114</td>\n",
       "      <td>-0.654227</td>\n",
       "      <td>-1.274345</td>\n",
       "      <td>3.101961</td>\n",
       "      <td>0.823761</td>\n",
       "      <td>0.938191</td>\n",
       "      <td>0.971758</td>\n",
       "      <td>0.789176</td>\n",
       "      <td>0.430553</td>\n",
       "      <td>0.957818</td>\n",
       "    </tr>\n",
       "    <tr>\n",
       "      <th>...</th>\n",
       "      <td>...</td>\n",
       "      <td>...</td>\n",
       "      <td>...</td>\n",
       "      <td>...</td>\n",
       "      <td>...</td>\n",
       "      <td>...</td>\n",
       "      <td>...</td>\n",
       "      <td>...</td>\n",
       "      <td>...</td>\n",
       "      <td>...</td>\n",
       "      <td>...</td>\n",
       "      <td>...</td>\n",
       "      <td>...</td>\n",
       "      <td>...</td>\n",
       "      <td>...</td>\n",
       "      <td>...</td>\n",
       "      <td>...</td>\n",
       "      <td>...</td>\n",
       "      <td>...</td>\n",
       "      <td>...</td>\n",
       "      <td>...</td>\n",
       "    </tr>\n",
       "    <tr>\n",
       "      <th>9349994</th>\n",
       "      <td>1.0</td>\n",
       "      <td>1.159912</td>\n",
       "      <td>1.013847</td>\n",
       "      <td>0.108615</td>\n",
       "      <td>1.495524</td>\n",
       "      <td>-0.537545</td>\n",
       "      <td>2.342396</td>\n",
       "      <td>-0.839740</td>\n",
       "      <td>1.320683</td>\n",
       "      <td>0.000000</td>\n",
       "      <td>...</td>\n",
       "      <td>1.177604</td>\n",
       "      <td>-0.097068</td>\n",
       "      <td>1.190680</td>\n",
       "      <td>3.101961</td>\n",
       "      <td>0.822136</td>\n",
       "      <td>0.766772</td>\n",
       "      <td>1.002191</td>\n",
       "      <td>1.061233</td>\n",
       "      <td>0.837004</td>\n",
       "      <td>0.772484</td>\n",
       "    </tr>\n",
       "    <tr>\n",
       "      <th>9349995</th>\n",
       "      <td>1.0</td>\n",
       "      <td>0.618388</td>\n",
       "      <td>-1.012982</td>\n",
       "      <td>1.110139</td>\n",
       "      <td>0.941023</td>\n",
       "      <td>-0.379199</td>\n",
       "      <td>1.004656</td>\n",
       "      <td>0.348535</td>\n",
       "      <td>-1.678593</td>\n",
       "      <td>2.173076</td>\n",
       "      <td>...</td>\n",
       "      <td>1.427826</td>\n",
       "      <td>-0.216995</td>\n",
       "      <td>1.049177</td>\n",
       "      <td>3.101961</td>\n",
       "      <td>0.826829</td>\n",
       "      <td>0.989809</td>\n",
       "      <td>1.029104</td>\n",
       "      <td>1.199679</td>\n",
       "      <td>0.891481</td>\n",
       "      <td>0.865269</td>\n",
       "    </tr>\n",
       "    <tr>\n",
       "      <th>9349996</th>\n",
       "      <td>1.0</td>\n",
       "      <td>0.700559</td>\n",
       "      <td>0.774251</td>\n",
       "      <td>1.520182</td>\n",
       "      <td>0.847112</td>\n",
       "      <td>0.211230</td>\n",
       "      <td>1.095531</td>\n",
       "      <td>0.052457</td>\n",
       "      <td>0.024553</td>\n",
       "      <td>2.173076</td>\n",
       "      <td>...</td>\n",
       "      <td>0.419634</td>\n",
       "      <td>1.585235</td>\n",
       "      <td>1.713962</td>\n",
       "      <td>0.000000</td>\n",
       "      <td>0.337374</td>\n",
       "      <td>0.845208</td>\n",
       "      <td>0.987610</td>\n",
       "      <td>0.883422</td>\n",
       "      <td>1.888438</td>\n",
       "      <td>0.931279</td>\n",
       "    </tr>\n",
       "    <tr>\n",
       "      <th>9349997</th>\n",
       "      <td>0.0</td>\n",
       "      <td>1.178030</td>\n",
       "      <td>0.117796</td>\n",
       "      <td>-1.276980</td>\n",
       "      <td>1.864457</td>\n",
       "      <td>-0.584370</td>\n",
       "      <td>0.998519</td>\n",
       "      <td>-1.264549</td>\n",
       "      <td>1.276333</td>\n",
       "      <td>0.000000</td>\n",
       "      <td>...</td>\n",
       "      <td>0.845596</td>\n",
       "      <td>1.399515</td>\n",
       "      <td>-1.313189</td>\n",
       "      <td>0.000000</td>\n",
       "      <td>0.838842</td>\n",
       "      <td>0.882890</td>\n",
       "      <td>1.201380</td>\n",
       "      <td>0.939216</td>\n",
       "      <td>0.339705</td>\n",
       "      <td>0.719119</td>\n",
       "    </tr>\n",
       "    <tr>\n",
       "      <th>9349998</th>\n",
       "      <td>0.0</td>\n",
       "      <td>0.464477</td>\n",
       "      <td>-0.337047</td>\n",
       "      <td>0.229019</td>\n",
       "      <td>0.954596</td>\n",
       "      <td>-0.868466</td>\n",
       "      <td>0.430004</td>\n",
       "      <td>-0.271348</td>\n",
       "      <td>-1.252278</td>\n",
       "      <td>2.173076</td>\n",
       "      <td>...</td>\n",
       "      <td>0.675698</td>\n",
       "      <td>-1.652782</td>\n",
       "      <td>-0.586254</td>\n",
       "      <td>0.000000</td>\n",
       "      <td>0.752535</td>\n",
       "      <td>0.740727</td>\n",
       "      <td>0.986917</td>\n",
       "      <td>0.663952</td>\n",
       "      <td>0.576084</td>\n",
       "      <td>0.517420</td>\n",
       "    </tr>\n",
       "  </tbody>\n",
       "</table>\n",
       "<p>9349999 rows × 28 columns</p>\n",
       "</div>"
      ],
      "text/plain": [
       "         type  lepton_pT  lepton_eta  lepton_phi  missing_energy_magnitude  \\\n",
       "0         1.0   0.907542    0.329147    0.359412                  1.497970   \n",
       "1         1.0   0.798835    1.470639   -1.635975                  0.453773   \n",
       "2         0.0   1.344385   -0.876626    0.935913                  1.992050   \n",
       "3         1.0   1.105009    0.321356    1.522401                  0.882808   \n",
       "4         0.0   1.595839   -0.607811    0.007075                  1.818450   \n",
       "...       ...        ...         ...         ...                       ...   \n",
       "9349994   1.0   1.159912    1.013847    0.108615                  1.495524   \n",
       "9349995   1.0   0.618388   -1.012982    1.110139                  0.941023   \n",
       "9349996   1.0   0.700559    0.774251    1.520182                  0.847112   \n",
       "9349997   0.0   1.178030    0.117796   -1.276980                  1.864457   \n",
       "9349998   0.0   0.464477   -0.337047    0.229019                  0.954596   \n",
       "\n",
       "         missing_energy_phi  jet_1_pt  jet_1_eta  jet_1_phi  jet_1_b_tag  ...  \\\n",
       "0                 -0.313010  1.095531  -0.557525  -1.588230     2.173076  ...   \n",
       "1                  0.425629  1.104875   1.282322   1.381664     0.000000  ...   \n",
       "2                  0.882454  1.786066  -1.646778  -0.942383     0.000000  ...   \n",
       "3                 -1.205349  0.681466  -1.070464  -0.921871     0.000000  ...   \n",
       "4                 -0.111906  0.847550  -0.566437   1.581239     2.173076  ...   \n",
       "...                     ...       ...        ...        ...          ...  ...   \n",
       "9349994           -0.537545  2.342396  -0.839740   1.320683     0.000000  ...   \n",
       "9349995           -0.379199  1.004656   0.348535  -1.678593     2.173076  ...   \n",
       "9349996            0.211230  1.095531   0.052457   0.024553     2.173076  ...   \n",
       "9349997           -0.584370  0.998519  -1.264549   1.276333     0.000000  ...   \n",
       "9349998           -0.868466  0.430004  -0.271348  -1.252278     2.173076  ...   \n",
       "\n",
       "         jet_4_pt  jet_4_eta  jet_4_phi  jet_4_b_tag      m_jj     m_jjj  \\\n",
       "0        0.398701  -1.138930  -0.000819     0.000000  0.302220  0.833048   \n",
       "1        1.256955   1.128848   0.900461     0.000000  0.909753  1.108330   \n",
       "2        0.745313  -0.678379  -1.360356     0.000000  0.946652  1.028704   \n",
       "3        0.479999  -0.373566   0.113041     0.000000  0.755856  1.361057   \n",
       "4        0.651114  -0.654227  -1.274345     3.101961  0.823761  0.938191   \n",
       "...           ...        ...        ...          ...       ...       ...   \n",
       "9349994  1.177604  -0.097068   1.190680     3.101961  0.822136  0.766772   \n",
       "9349995  1.427826  -0.216995   1.049177     3.101961  0.826829  0.989809   \n",
       "9349996  0.419634   1.585235   1.713962     0.000000  0.337374  0.845208   \n",
       "9349997  0.845596   1.399515  -1.313189     0.000000  0.838842  0.882890   \n",
       "9349998  0.675698  -1.652782  -0.586254     0.000000  0.752535  0.740727   \n",
       "\n",
       "             m_lv     m_jlv      m_bb    m_wwbb  \n",
       "0        0.985700  0.978098  0.779732  0.798343  \n",
       "1        0.985692  0.951331  0.803252  0.780118  \n",
       "2        0.998656  0.728281  0.869200  0.957904  \n",
       "3        0.986610  0.838085  1.133295  0.808487  \n",
       "4        0.971758  0.789176  0.430553  0.957818  \n",
       "...           ...       ...       ...       ...  \n",
       "9349994  1.002191  1.061233  0.837004  0.772484  \n",
       "9349995  1.029104  1.199679  0.891481  0.865269  \n",
       "9349996  0.987610  0.883422  1.888438  0.931279  \n",
       "9349997  1.201380  0.939216  0.339705  0.719119  \n",
       "9349998  0.986917  0.663952  0.576084  0.517420  \n",
       "\n",
       "[9349999 rows x 28 columns]"
      ]
     },
     "execution_count": 22,
     "metadata": {},
     "output_type": "execute_result"
    }
   ],
   "source": [
    "particleDataset_with_selected_features"
   ]
  },
  {
   "cell_type": "code",
   "execution_count": 23,
   "id": "b80272ab-a4b2-4d0e-8479-ccfbd6c814ff",
   "metadata": {},
   "outputs": [
    {
     "data": {
      "text/plain": [
       "(9349999, 28)"
      ]
     },
     "execution_count": 23,
     "metadata": {},
     "output_type": "execute_result"
    }
   ],
   "source": [
    "particleDataset_with_selected_features.shape"
   ]
  },
  {
   "cell_type": "code",
   "execution_count": 24,
   "id": "9f1aa543-41e2-46ee-9c7e-13fdaf3e5779",
   "metadata": {},
   "outputs": [
    {
     "data": {
      "text/plain": [
       "cudf.core.dataframe.DataFrame"
      ]
     },
     "execution_count": 24,
     "metadata": {},
     "output_type": "execute_result"
    }
   ],
   "source": [
    "type(particleDataset_with_selected_features)"
   ]
  },
  {
   "cell_type": "markdown",
   "id": "36107838-e6a9-45fd-bed4-75fd27211ab3",
   "metadata": {},
   "source": [
    "<div style=\"width:100%;height:1px; background-color:black\"></div>"
   ]
  },
  {
   "cell_type": "markdown",
   "id": "4a87d0e5-434c-4357-b680-e41de08e09fa",
   "metadata": {},
   "source": [
    "<p style=\"font-size: 23px; margin-top: 10px; font-weight: bold\">Feature Normalization</p>"
   ]
  },
  {
   "cell_type": "markdown",
   "id": "57060500-8b58-46ee-bcd8-c42bb5107f4c",
   "metadata": {},
   "source": [
    "<p style=\"font-size: 20px\">The purpose of feature normalisation is to make sure that each feature has a comparable size and value range. This is crucial as many machine learning algorithms are sensitive to the size of the features and may not function properly if some features have a significantly wider range of values than others.</p>"
   ]
  },
  {
   "cell_type": "code",
   "execution_count": 25,
   "id": "ff9d8d94-b288-47e9-9fed-184fb68be37d",
   "metadata": {},
   "outputs": [],
   "source": [
    "minmax_scaler = MinMaxScaler()\n",
    "particleDataset_with_selected_features_and_scaled_and_normalised= minmax_scaler.fit_transform(particleDataset_with_selected_features)"
   ]
  },
  {
   "cell_type": "code",
   "execution_count": 26,
   "id": "be168e6a-3c92-406d-a0b5-53f7972b3cd5",
   "metadata": {},
   "outputs": [
    {
     "data": {
      "text/plain": [
       "cudf.core.dataframe.DataFrame"
      ]
     },
     "execution_count": 26,
     "metadata": {},
     "output_type": "execute_result"
    }
   ],
   "source": [
    "type(particleDataset_with_selected_features_and_scaled_and_normalised)"
   ]
  },
  {
   "cell_type": "code",
   "execution_count": 27,
   "id": "fb0a10eb-f07c-47c6-9d38-22356b5f7588",
   "metadata": {},
   "outputs": [
    {
     "data": {
      "text/html": [
       "<div>\n",
       "<style scoped>\n",
       "    .dataframe tbody tr th:only-of-type {\n",
       "        vertical-align: middle;\n",
       "    }\n",
       "\n",
       "    .dataframe tbody tr th {\n",
       "        vertical-align: top;\n",
       "    }\n",
       "\n",
       "    .dataframe thead th {\n",
       "        text-align: right;\n",
       "    }\n",
       "</style>\n",
       "<table border=\"1\" class=\"dataframe\">\n",
       "  <thead>\n",
       "    <tr style=\"text-align: right;\">\n",
       "      <th></th>\n",
       "      <th>type</th>\n",
       "      <th>lepton_pT</th>\n",
       "      <th>lepton_eta</th>\n",
       "      <th>lepton_phi</th>\n",
       "      <th>missing_energy_magnitude</th>\n",
       "      <th>missing_energy_phi</th>\n",
       "      <th>jet_1_pt</th>\n",
       "      <th>jet_1_eta</th>\n",
       "      <th>jet_1_phi</th>\n",
       "      <th>jet_1_b_tag</th>\n",
       "      <th>...</th>\n",
       "      <th>jet_4_pt</th>\n",
       "      <th>jet_4_eta</th>\n",
       "      <th>jet_4_phi</th>\n",
       "      <th>jet_4_b_tag</th>\n",
       "      <th>m_jj</th>\n",
       "      <th>m_jjj</th>\n",
       "      <th>m_lv</th>\n",
       "      <th>m_jlv</th>\n",
       "      <th>m_bb</th>\n",
       "      <th>m_wwbb</th>\n",
       "    </tr>\n",
       "  </thead>\n",
       "  <tbody>\n",
       "    <tr>\n",
       "      <th>0</th>\n",
       "      <td>1.0</td>\n",
       "      <td>0.153518</td>\n",
       "      <td>0.5676</td>\n",
       "      <td>0.603005</td>\n",
       "      <td>0.355649</td>\n",
       "      <td>0.410339</td>\n",
       "      <td>0.260591</td>\n",
       "      <td>0.406135</td>\n",
       "      <td>0.043934</td>\n",
       "      <td>1.0</td>\n",
       "      <td>...</td>\n",
       "      <td>0.008128</td>\n",
       "      <td>0.271924</td>\n",
       "      <td>0.499667</td>\n",
       "      <td>0.0</td>\n",
       "      <td>0.056578</td>\n",
       "      <td>0.210646</td>\n",
       "      <td>0.265110</td>\n",
       "      <td>0.232429</td>\n",
       "      <td>0.198678</td>\n",
       "      <td>0.174446</td>\n",
       "    </tr>\n",
       "    <tr>\n",
       "      <th>1</th>\n",
       "      <td>1.0</td>\n",
       "      <td>0.127148</td>\n",
       "      <td>0.8020</td>\n",
       "      <td>0.030563</td>\n",
       "      <td>0.107670</td>\n",
       "      <td>0.622153</td>\n",
       "      <td>0.263133</td>\n",
       "      <td>0.715905</td>\n",
       "      <td>0.896692</td>\n",
       "      <td>0.0</td>\n",
       "      <td>...</td>\n",
       "      <td>0.217311</td>\n",
       "      <td>0.725909</td>\n",
       "      <td>0.758205</td>\n",
       "      <td>0.0</td>\n",
       "      <td>0.210573</td>\n",
       "      <td>0.302055</td>\n",
       "      <td>0.265108</td>\n",
       "      <td>0.224848</td>\n",
       "      <td>0.205063</td>\n",
       "      <td>0.167647</td>\n",
       "    </tr>\n",
       "    <tr>\n",
       "      <th>2</th>\n",
       "      <td>0.0</td>\n",
       "      <td>0.259489</td>\n",
       "      <td>0.3200</td>\n",
       "      <td>0.768393</td>\n",
       "      <td>0.472985</td>\n",
       "      <td>0.753154</td>\n",
       "      <td>0.448440</td>\n",
       "      <td>0.222741</td>\n",
       "      <td>0.229379</td>\n",
       "      <td>0.0</td>\n",
       "      <td>...</td>\n",
       "      <td>0.092608</td>\n",
       "      <td>0.364121</td>\n",
       "      <td>0.109675</td>\n",
       "      <td>0.0</td>\n",
       "      <td>0.219926</td>\n",
       "      <td>0.275615</td>\n",
       "      <td>0.268954</td>\n",
       "      <td>0.161672</td>\n",
       "      <td>0.222966</td>\n",
       "      <td>0.233971</td>\n",
       "    </tr>\n",
       "    <tr>\n",
       "      <th>3</th>\n",
       "      <td>1.0</td>\n",
       "      <td>0.201421</td>\n",
       "      <td>0.5660</td>\n",
       "      <td>0.936646</td>\n",
       "      <td>0.209558</td>\n",
       "      <td>0.154449</td>\n",
       "      <td>0.147952</td>\n",
       "      <td>0.319773</td>\n",
       "      <td>0.235268</td>\n",
       "      <td>0.0</td>\n",
       "      <td>...</td>\n",
       "      <td>0.027943</td>\n",
       "      <td>0.425142</td>\n",
       "      <td>0.532329</td>\n",
       "      <td>0.0</td>\n",
       "      <td>0.171564</td>\n",
       "      <td>0.385974</td>\n",
       "      <td>0.265380</td>\n",
       "      <td>0.192772</td>\n",
       "      <td>0.294659</td>\n",
       "      <td>0.178231</td>\n",
       "    </tr>\n",
       "    <tr>\n",
       "      <th>4</th>\n",
       "      <td>0.0</td>\n",
       "      <td>0.320488</td>\n",
       "      <td>0.3752</td>\n",
       "      <td>0.501925</td>\n",
       "      <td>0.431758</td>\n",
       "      <td>0.468008</td>\n",
       "      <td>0.193132</td>\n",
       "      <td>0.404635</td>\n",
       "      <td>0.953997</td>\n",
       "      <td>1.0</td>\n",
       "      <td>...</td>\n",
       "      <td>0.069649</td>\n",
       "      <td>0.368956</td>\n",
       "      <td>0.134348</td>\n",
       "      <td>1.0</td>\n",
       "      <td>0.188776</td>\n",
       "      <td>0.245560</td>\n",
       "      <td>0.260973</td>\n",
       "      <td>0.178920</td>\n",
       "      <td>0.103888</td>\n",
       "      <td>0.233939</td>\n",
       "    </tr>\n",
       "    <tr>\n",
       "      <th>...</th>\n",
       "      <td>...</td>\n",
       "      <td>...</td>\n",
       "      <td>...</td>\n",
       "      <td>...</td>\n",
       "      <td>...</td>\n",
       "      <td>...</td>\n",
       "      <td>...</td>\n",
       "      <td>...</td>\n",
       "      <td>...</td>\n",
       "      <td>...</td>\n",
       "      <td>...</td>\n",
       "      <td>...</td>\n",
       "      <td>...</td>\n",
       "      <td>...</td>\n",
       "      <td>...</td>\n",
       "      <td>...</td>\n",
       "      <td>...</td>\n",
       "      <td>...</td>\n",
       "      <td>...</td>\n",
       "      <td>...</td>\n",
       "      <td>...</td>\n",
       "    </tr>\n",
       "    <tr>\n",
       "      <th>9349994</th>\n",
       "      <td>1.0</td>\n",
       "      <td>0.214739</td>\n",
       "      <td>0.7082</td>\n",
       "      <td>0.531055</td>\n",
       "      <td>0.355068</td>\n",
       "      <td>0.345950</td>\n",
       "      <td>0.599781</td>\n",
       "      <td>0.358620</td>\n",
       "      <td>0.879182</td>\n",
       "      <td>0.0</td>\n",
       "      <td>...</td>\n",
       "      <td>0.197971</td>\n",
       "      <td>0.480494</td>\n",
       "      <td>0.841457</td>\n",
       "      <td>1.0</td>\n",
       "      <td>0.188364</td>\n",
       "      <td>0.188639</td>\n",
       "      <td>0.270003</td>\n",
       "      <td>0.255975</td>\n",
       "      <td>0.214226</td>\n",
       "      <td>0.164800</td>\n",
       "    </tr>\n",
       "    <tr>\n",
       "      <th>9349995</th>\n",
       "      <td>1.0</td>\n",
       "      <td>0.083374</td>\n",
       "      <td>0.2920</td>\n",
       "      <td>0.818375</td>\n",
       "      <td>0.223384</td>\n",
       "      <td>0.391358</td>\n",
       "      <td>0.235870</td>\n",
       "      <td>0.558686</td>\n",
       "      <td>0.017987</td>\n",
       "      <td>1.0</td>\n",
       "      <td>...</td>\n",
       "      <td>0.258958</td>\n",
       "      <td>0.456486</td>\n",
       "      <td>0.800866</td>\n",
       "      <td>1.0</td>\n",
       "      <td>0.189554</td>\n",
       "      <td>0.262700</td>\n",
       "      <td>0.277988</td>\n",
       "      <td>0.295188</td>\n",
       "      <td>0.229014</td>\n",
       "      <td>0.199413</td>\n",
       "    </tr>\n",
       "    <tr>\n",
       "      <th>9349996</th>\n",
       "      <td>1.0</td>\n",
       "      <td>0.103307</td>\n",
       "      <td>0.6590</td>\n",
       "      <td>0.936010</td>\n",
       "      <td>0.201081</td>\n",
       "      <td>0.560671</td>\n",
       "      <td>0.260591</td>\n",
       "      <td>0.508836</td>\n",
       "      <td>0.507019</td>\n",
       "      <td>1.0</td>\n",
       "      <td>...</td>\n",
       "      <td>0.013230</td>\n",
       "      <td>0.817272</td>\n",
       "      <td>0.991563</td>\n",
       "      <td>0.0</td>\n",
       "      <td>0.065489</td>\n",
       "      <td>0.214684</td>\n",
       "      <td>0.265676</td>\n",
       "      <td>0.205614</td>\n",
       "      <td>0.499655</td>\n",
       "      <td>0.224038</td>\n",
       "    </tr>\n",
       "    <tr>\n",
       "      <th>9349997</th>\n",
       "      <td>0.0</td>\n",
       "      <td>0.219134</td>\n",
       "      <td>0.5242</td>\n",
       "      <td>0.133552</td>\n",
       "      <td>0.442684</td>\n",
       "      <td>0.332523</td>\n",
       "      <td>0.234201</td>\n",
       "      <td>0.287096</td>\n",
       "      <td>0.866448</td>\n",
       "      <td>0.0</td>\n",
       "      <td>...</td>\n",
       "      <td>0.117050</td>\n",
       "      <td>0.780093</td>\n",
       "      <td>0.123205</td>\n",
       "      <td>0.0</td>\n",
       "      <td>0.192599</td>\n",
       "      <td>0.227197</td>\n",
       "      <td>0.329104</td>\n",
       "      <td>0.221416</td>\n",
       "      <td>0.079226</td>\n",
       "      <td>0.144892</td>\n",
       "    </tr>\n",
       "    <tr>\n",
       "      <th>9349998</th>\n",
       "      <td>0.0</td>\n",
       "      <td>0.046038</td>\n",
       "      <td>0.4308</td>\n",
       "      <td>0.565597</td>\n",
       "      <td>0.226607</td>\n",
       "      <td>0.251054</td>\n",
       "      <td>0.079545</td>\n",
       "      <td>0.454318</td>\n",
       "      <td>0.140397</td>\n",
       "      <td>1.0</td>\n",
       "      <td>...</td>\n",
       "      <td>0.075641</td>\n",
       "      <td>0.169056</td>\n",
       "      <td>0.331731</td>\n",
       "      <td>0.0</td>\n",
       "      <td>0.170722</td>\n",
       "      <td>0.179991</td>\n",
       "      <td>0.265471</td>\n",
       "      <td>0.143452</td>\n",
       "      <td>0.143394</td>\n",
       "      <td>0.069648</td>\n",
       "    </tr>\n",
       "  </tbody>\n",
       "</table>\n",
       "<p>9349999 rows × 28 columns</p>\n",
       "</div>"
      ],
      "text/plain": [
       "         type  lepton_pT  lepton_eta  lepton_phi  missing_energy_magnitude  \\\n",
       "0         1.0   0.153518      0.5676    0.603005                  0.355649   \n",
       "1         1.0   0.127148      0.8020    0.030563                  0.107670   \n",
       "2         0.0   0.259489      0.3200    0.768393                  0.472985   \n",
       "3         1.0   0.201421      0.5660    0.936646                  0.209558   \n",
       "4         0.0   0.320488      0.3752    0.501925                  0.431758   \n",
       "...       ...        ...         ...         ...                       ...   \n",
       "9349994   1.0   0.214739      0.7082    0.531055                  0.355068   \n",
       "9349995   1.0   0.083374      0.2920    0.818375                  0.223384   \n",
       "9349996   1.0   0.103307      0.6590    0.936010                  0.201081   \n",
       "9349997   0.0   0.219134      0.5242    0.133552                  0.442684   \n",
       "9349998   0.0   0.046038      0.4308    0.565597                  0.226607   \n",
       "\n",
       "         missing_energy_phi  jet_1_pt  jet_1_eta  jet_1_phi  jet_1_b_tag  ...  \\\n",
       "0                  0.410339  0.260591   0.406135   0.043934          1.0  ...   \n",
       "1                  0.622153  0.263133   0.715905   0.896692          0.0  ...   \n",
       "2                  0.753154  0.448440   0.222741   0.229379          0.0  ...   \n",
       "3                  0.154449  0.147952   0.319773   0.235268          0.0  ...   \n",
       "4                  0.468008  0.193132   0.404635   0.953997          1.0  ...   \n",
       "...                     ...       ...        ...        ...          ...  ...   \n",
       "9349994            0.345950  0.599781   0.358620   0.879182          0.0  ...   \n",
       "9349995            0.391358  0.235870   0.558686   0.017987          1.0  ...   \n",
       "9349996            0.560671  0.260591   0.508836   0.507019          1.0  ...   \n",
       "9349997            0.332523  0.234201   0.287096   0.866448          0.0  ...   \n",
       "9349998            0.251054  0.079545   0.454318   0.140397          1.0  ...   \n",
       "\n",
       "         jet_4_pt  jet_4_eta  jet_4_phi  jet_4_b_tag      m_jj     m_jjj  \\\n",
       "0        0.008128   0.271924   0.499667          0.0  0.056578  0.210646   \n",
       "1        0.217311   0.725909   0.758205          0.0  0.210573  0.302055   \n",
       "2        0.092608   0.364121   0.109675          0.0  0.219926  0.275615   \n",
       "3        0.027943   0.425142   0.532329          0.0  0.171564  0.385974   \n",
       "4        0.069649   0.368956   0.134348          1.0  0.188776  0.245560   \n",
       "...           ...        ...        ...          ...       ...       ...   \n",
       "9349994  0.197971   0.480494   0.841457          1.0  0.188364  0.188639   \n",
       "9349995  0.258958   0.456486   0.800866          1.0  0.189554  0.262700   \n",
       "9349996  0.013230   0.817272   0.991563          0.0  0.065489  0.214684   \n",
       "9349997  0.117050   0.780093   0.123205          0.0  0.192599  0.227197   \n",
       "9349998  0.075641   0.169056   0.331731          0.0  0.170722  0.179991   \n",
       "\n",
       "             m_lv     m_jlv      m_bb    m_wwbb  \n",
       "0        0.265110  0.232429  0.198678  0.174446  \n",
       "1        0.265108  0.224848  0.205063  0.167647  \n",
       "2        0.268954  0.161672  0.222966  0.233971  \n",
       "3        0.265380  0.192772  0.294659  0.178231  \n",
       "4        0.260973  0.178920  0.103888  0.233939  \n",
       "...           ...       ...       ...       ...  \n",
       "9349994  0.270003  0.255975  0.214226  0.164800  \n",
       "9349995  0.277988  0.295188  0.229014  0.199413  \n",
       "9349996  0.265676  0.205614  0.499655  0.224038  \n",
       "9349997  0.329104  0.221416  0.079226  0.144892  \n",
       "9349998  0.265471  0.143452  0.143394  0.069648  \n",
       "\n",
       "[9349999 rows x 28 columns]"
      ]
     },
     "execution_count": 27,
     "metadata": {},
     "output_type": "execute_result"
    }
   ],
   "source": [
    "particleDataset_with_selected_features_and_scaled_and_normalised"
   ]
  },
  {
   "cell_type": "markdown",
   "id": "c8d9ea88-d123-4213-baa0-93716145d3fa",
   "metadata": {},
   "source": [
    " "
   ]
  },
  {
   "cell_type": "markdown",
   "id": "58dc2cf0-feff-4a2c-916a-b4740840186d",
   "metadata": {},
   "source": [
    "<div style=\"width:100%;height:1px; background-color:black\"></div>"
   ]
  },
  {
   "cell_type": "markdown",
   "id": "6965c4a2-2159-455d-a170-6d8eeee887aa",
   "metadata": {},
   "source": [
    "  "
   ]
  },
  {
   "cell_type": "markdown",
   "id": "4d2608ed-861b-4c1b-940a-5cc7512fc0b1",
   "metadata": {},
   "source": [
    "<p style=\"font-size: 23px; margin-top: 10px;\"><u>Dataset conversion to dask_cudf for splitting and training</u></p> "
   ]
  },
  {
   "cell_type": "code",
   "execution_count": 28,
   "id": "6a912c47-d1d6-4c6a-b24e-9cff40e74d83",
   "metadata": {},
   "outputs": [],
   "source": [
    "# Convert cuDF DataFrame to Dask DataFrame\n",
    "particleDataset = dask_cudf.from_cudf(particleDataset_with_selected_features_and_scaled_and_normalised, npartitions=23)"
   ]
  },
  {
   "cell_type": "code",
   "execution_count": 29,
   "id": "9590a454-7016-4ae6-bbf9-f3a70e7fcc75",
   "metadata": {},
   "outputs": [
    {
     "data": {
      "text/plain": [
       "dask_cudf.core.DataFrame"
      ]
     },
     "execution_count": 29,
     "metadata": {},
     "output_type": "execute_result"
    }
   ],
   "source": [
    "type(particleDataset)"
   ]
  },
  {
   "cell_type": "code",
   "execution_count": 30,
   "id": "ab905a3f-0ca1-4e83-ac87-dc2de0617f97",
   "metadata": {},
   "outputs": [
    {
     "data": {
      "text/html": [
       "<div>\n",
       "<style scoped>\n",
       "    .dataframe tbody tr th:only-of-type {\n",
       "        vertical-align: middle;\n",
       "    }\n",
       "\n",
       "    .dataframe tbody tr th {\n",
       "        vertical-align: top;\n",
       "    }\n",
       "\n",
       "    .dataframe thead th {\n",
       "        text-align: right;\n",
       "    }\n",
       "</style>\n",
       "<table border=\"1\" class=\"dataframe\">\n",
       "  <thead>\n",
       "    <tr style=\"text-align: right;\">\n",
       "      <th></th>\n",
       "      <th>type</th>\n",
       "      <th>lepton_pT</th>\n",
       "      <th>lepton_eta</th>\n",
       "      <th>lepton_phi</th>\n",
       "      <th>missing_energy_magnitude</th>\n",
       "      <th>missing_energy_phi</th>\n",
       "      <th>jet_1_pt</th>\n",
       "      <th>jet_1_eta</th>\n",
       "      <th>jet_1_phi</th>\n",
       "      <th>jet_1_b_tag</th>\n",
       "      <th>...</th>\n",
       "      <th>jet_4_pt</th>\n",
       "      <th>jet_4_eta</th>\n",
       "      <th>jet_4_phi</th>\n",
       "      <th>jet_4_b_tag</th>\n",
       "      <th>m_jj</th>\n",
       "      <th>m_jjj</th>\n",
       "      <th>m_lv</th>\n",
       "      <th>m_jlv</th>\n",
       "      <th>m_bb</th>\n",
       "      <th>m_wwbb</th>\n",
       "    </tr>\n",
       "  </thead>\n",
       "  <tbody>\n",
       "    <tr>\n",
       "      <th>0</th>\n",
       "      <td>1.0</td>\n",
       "      <td>0.153518</td>\n",
       "      <td>0.5676</td>\n",
       "      <td>0.603005</td>\n",
       "      <td>0.355649</td>\n",
       "      <td>0.410339</td>\n",
       "      <td>0.260591</td>\n",
       "      <td>0.406135</td>\n",
       "      <td>0.043934</td>\n",
       "      <td>1.0</td>\n",
       "      <td>...</td>\n",
       "      <td>0.008128</td>\n",
       "      <td>0.271924</td>\n",
       "      <td>0.499667</td>\n",
       "      <td>0.0</td>\n",
       "      <td>0.056578</td>\n",
       "      <td>0.210646</td>\n",
       "      <td>0.265110</td>\n",
       "      <td>0.232429</td>\n",
       "      <td>0.198678</td>\n",
       "      <td>0.174446</td>\n",
       "    </tr>\n",
       "    <tr>\n",
       "      <th>1</th>\n",
       "      <td>1.0</td>\n",
       "      <td>0.127148</td>\n",
       "      <td>0.8020</td>\n",
       "      <td>0.030563</td>\n",
       "      <td>0.107670</td>\n",
       "      <td>0.622153</td>\n",
       "      <td>0.263133</td>\n",
       "      <td>0.715905</td>\n",
       "      <td>0.896692</td>\n",
       "      <td>0.0</td>\n",
       "      <td>...</td>\n",
       "      <td>0.217311</td>\n",
       "      <td>0.725909</td>\n",
       "      <td>0.758205</td>\n",
       "      <td>0.0</td>\n",
       "      <td>0.210573</td>\n",
       "      <td>0.302055</td>\n",
       "      <td>0.265108</td>\n",
       "      <td>0.224848</td>\n",
       "      <td>0.205063</td>\n",
       "      <td>0.167647</td>\n",
       "    </tr>\n",
       "    <tr>\n",
       "      <th>2</th>\n",
       "      <td>0.0</td>\n",
       "      <td>0.259489</td>\n",
       "      <td>0.3200</td>\n",
       "      <td>0.768393</td>\n",
       "      <td>0.472985</td>\n",
       "      <td>0.753154</td>\n",
       "      <td>0.448440</td>\n",
       "      <td>0.222741</td>\n",
       "      <td>0.229379</td>\n",
       "      <td>0.0</td>\n",
       "      <td>...</td>\n",
       "      <td>0.092608</td>\n",
       "      <td>0.364121</td>\n",
       "      <td>0.109675</td>\n",
       "      <td>0.0</td>\n",
       "      <td>0.219926</td>\n",
       "      <td>0.275615</td>\n",
       "      <td>0.268954</td>\n",
       "      <td>0.161672</td>\n",
       "      <td>0.222966</td>\n",
       "      <td>0.233971</td>\n",
       "    </tr>\n",
       "    <tr>\n",
       "      <th>3</th>\n",
       "      <td>1.0</td>\n",
       "      <td>0.201421</td>\n",
       "      <td>0.5660</td>\n",
       "      <td>0.936646</td>\n",
       "      <td>0.209558</td>\n",
       "      <td>0.154449</td>\n",
       "      <td>0.147952</td>\n",
       "      <td>0.319773</td>\n",
       "      <td>0.235268</td>\n",
       "      <td>0.0</td>\n",
       "      <td>...</td>\n",
       "      <td>0.027943</td>\n",
       "      <td>0.425142</td>\n",
       "      <td>0.532329</td>\n",
       "      <td>0.0</td>\n",
       "      <td>0.171564</td>\n",
       "      <td>0.385974</td>\n",
       "      <td>0.265380</td>\n",
       "      <td>0.192772</td>\n",
       "      <td>0.294659</td>\n",
       "      <td>0.178231</td>\n",
       "    </tr>\n",
       "    <tr>\n",
       "      <th>4</th>\n",
       "      <td>0.0</td>\n",
       "      <td>0.320488</td>\n",
       "      <td>0.3752</td>\n",
       "      <td>0.501925</td>\n",
       "      <td>0.431758</td>\n",
       "      <td>0.468008</td>\n",
       "      <td>0.193132</td>\n",
       "      <td>0.404635</td>\n",
       "      <td>0.953997</td>\n",
       "      <td>1.0</td>\n",
       "      <td>...</td>\n",
       "      <td>0.069649</td>\n",
       "      <td>0.368956</td>\n",
       "      <td>0.134348</td>\n",
       "      <td>1.0</td>\n",
       "      <td>0.188776</td>\n",
       "      <td>0.245560</td>\n",
       "      <td>0.260973</td>\n",
       "      <td>0.178920</td>\n",
       "      <td>0.103888</td>\n",
       "      <td>0.233939</td>\n",
       "    </tr>\n",
       "  </tbody>\n",
       "</table>\n",
       "<p>5 rows × 28 columns</p>\n",
       "</div>"
      ],
      "text/plain": [
       "   type  lepton_pT  lepton_eta  lepton_phi  missing_energy_magnitude  \\\n",
       "0   1.0   0.153518      0.5676    0.603005                  0.355649   \n",
       "1   1.0   0.127148      0.8020    0.030563                  0.107670   \n",
       "2   0.0   0.259489      0.3200    0.768393                  0.472985   \n",
       "3   1.0   0.201421      0.5660    0.936646                  0.209558   \n",
       "4   0.0   0.320488      0.3752    0.501925                  0.431758   \n",
       "\n",
       "   missing_energy_phi  jet_1_pt  jet_1_eta  jet_1_phi  jet_1_b_tag  ...  \\\n",
       "0            0.410339  0.260591   0.406135   0.043934          1.0  ...   \n",
       "1            0.622153  0.263133   0.715905   0.896692          0.0  ...   \n",
       "2            0.753154  0.448440   0.222741   0.229379          0.0  ...   \n",
       "3            0.154449  0.147952   0.319773   0.235268          0.0  ...   \n",
       "4            0.468008  0.193132   0.404635   0.953997          1.0  ...   \n",
       "\n",
       "   jet_4_pt  jet_4_eta  jet_4_phi  jet_4_b_tag      m_jj     m_jjj      m_lv  \\\n",
       "0  0.008128   0.271924   0.499667          0.0  0.056578  0.210646  0.265110   \n",
       "1  0.217311   0.725909   0.758205          0.0  0.210573  0.302055  0.265108   \n",
       "2  0.092608   0.364121   0.109675          0.0  0.219926  0.275615  0.268954   \n",
       "3  0.027943   0.425142   0.532329          0.0  0.171564  0.385974  0.265380   \n",
       "4  0.069649   0.368956   0.134348          1.0  0.188776  0.245560  0.260973   \n",
       "\n",
       "      m_jlv      m_bb    m_wwbb  \n",
       "0  0.232429  0.198678  0.174446  \n",
       "1  0.224848  0.205063  0.167647  \n",
       "2  0.161672  0.222966  0.233971  \n",
       "3  0.192772  0.294659  0.178231  \n",
       "4  0.178920  0.103888  0.233939  \n",
       "\n",
       "[5 rows x 28 columns]"
      ]
     },
     "execution_count": 30,
     "metadata": {},
     "output_type": "execute_result"
    }
   ],
   "source": [
    "particleDataset.head()"
   ]
  },
  {
   "cell_type": "markdown",
   "id": "8abbbaf1-cd58-4f11-81f8-9e77848dd81a",
   "metadata": {},
   "source": [
    " "
   ]
  },
  {
   "cell_type": "markdown",
   "id": "bce9cad7-2404-4d05-a291-f1c822dca48e",
   "metadata": {},
   "source": [
    "<div style=\"width:100%;height:1px; background-color:black\"></div>"
   ]
  },
  {
   "cell_type": "markdown",
   "id": "a521f68e-b191-4567-aafb-3747eca4ad4e",
   "metadata": {},
   "source": [
    "<p style=\"font-size: 23px; margin-top: 10px; font-weight: bold\">Test/Train Split</p>"
   ]
  },
  {
   "cell_type": "code",
   "execution_count": 31,
   "id": "e8984115-e1fe-447d-8f9e-f97251126f37",
   "metadata": {},
   "outputs": [],
   "source": [
    "particleDataset = particleDataset.persist() # To persist the Dask dataframe \"particleDataset\" in memory"
   ]
  },
  {
   "cell_type": "code",
   "execution_count": 32,
   "id": "4ea15b45-7d32-4616-b63f-edbfa1de1587",
   "metadata": {},
   "outputs": [],
   "source": [
    "X = particleDataset.drop(['type'], axis=1) # Drop the dependent or target variable and assign rest to X variable"
   ]
  },
  {
   "cell_type": "code",
   "execution_count": 33,
   "id": "a63e9589-5b47-44c0-92f7-8abf44722cc6",
   "metadata": {},
   "outputs": [
    {
     "data": {
      "text/plain": [
       "0    1.0\n",
       "1    1.0\n",
       "2    0.0\n",
       "3    1.0\n",
       "4    0.0\n",
       "Name: type, dtype: float64"
      ]
     },
     "execution_count": 33,
     "metadata": {},
     "output_type": "execute_result"
    }
   ],
   "source": [
    "y = particleDataset['type'] # Assig target variable to y\n",
    "y.head()"
   ]
  },
  {
   "cell_type": "code",
   "execution_count": 34,
   "id": "eb7d8180-806c-4a64-af62-2f0ff659533f",
   "metadata": {},
   "outputs": [
    {
     "data": {
      "text/plain": [
       "dask_cudf.core.DataFrame"
      ]
     },
     "execution_count": 34,
     "metadata": {},
     "output_type": "execute_result"
    }
   ],
   "source": [
    "type(X) # Check the datatype of X"
   ]
  },
  {
   "cell_type": "code",
   "execution_count": 35,
   "id": "768277d2-5d53-41c9-9ef3-5abbdf8944d9",
   "metadata": {},
   "outputs": [],
   "source": [
    "X_train, X_test, y_train, y_test = train_test_split(\n",
    "    X, y, test_size=0.3, shuffle=True, random_state=21\n",
    ")\n",
    "# above line of code splits the input features X and target variable y into training and testing subsets, \n",
    "# with a test size of 0.3 (meaning 30% of the data will be used for testing) and a random state of \n",
    "# 21 (for reproducibility of the split)."
   ]
  },
  {
   "cell_type": "code",
   "execution_count": 36,
   "id": "892d084a-7d68-4bb3-a265-1c0da17bf4d3",
   "metadata": {},
   "outputs": [],
   "source": [
    "# len(X_train) # Check the length of X_train"
   ]
  },
  {
   "cell_type": "code",
   "execution_count": 37,
   "id": "0eba17b9-1190-46e2-995f-cd90622cd47d",
   "metadata": {},
   "outputs": [],
   "source": [
    "# len(X_test) # Check the length of X_test"
   ]
  },
  {
   "cell_type": "code",
   "execution_count": 38,
   "id": "f91bc809-89ea-40d1-ba5e-3ef4f07fad37",
   "metadata": {},
   "outputs": [],
   "source": [
    "# len(y_train) # Check the length of y_train"
   ]
  },
  {
   "cell_type": "code",
   "execution_count": 39,
   "id": "899d7d02-711e-4db9-b95a-4c156b49b6f2",
   "metadata": {},
   "outputs": [],
   "source": [
    "# len(y_test) # Check the length of y_test"
   ]
  },
  {
   "cell_type": "code",
   "execution_count": 40,
   "id": "97e46d36-9e2e-4116-bfae-e5fb04f1bb15",
   "metadata": {},
   "outputs": [
    {
     "data": {
      "text/plain": [
       "dask_cudf.core.DataFrame"
      ]
     },
     "execution_count": 40,
     "metadata": {},
     "output_type": "execute_result"
    }
   ],
   "source": [
    "type(X_train) # Check the type of X_train"
   ]
  },
  {
   "cell_type": "code",
   "execution_count": 41,
   "id": "aeaaf39c-2aae-4c60-b0cc-c5f33ad006f8",
   "metadata": {},
   "outputs": [
    {
     "data": {
      "text/plain": [
       "dask_cudf.core.DataFrame"
      ]
     },
     "execution_count": 41,
     "metadata": {},
     "output_type": "execute_result"
    }
   ],
   "source": [
    "type(X_test) # Check the type of X_test"
   ]
  },
  {
   "cell_type": "code",
   "execution_count": 42,
   "id": "256ab948-7dfa-43b3-b176-dca69fd54812",
   "metadata": {},
   "outputs": [
    {
     "data": {
      "text/plain": [
       "dask_cudf.core.Series"
      ]
     },
     "execution_count": 42,
     "metadata": {},
     "output_type": "execute_result"
    }
   ],
   "source": [
    "type(y_train) # Check the type of y_train"
   ]
  },
  {
   "cell_type": "code",
   "execution_count": 43,
   "id": "bd1f2d25-8e0d-4d67-979e-2b08335b65c6",
   "metadata": {},
   "outputs": [
    {
     "data": {
      "text/plain": [
       "dask_cudf.core.Series"
      ]
     },
     "execution_count": 43,
     "metadata": {},
     "output_type": "execute_result"
    }
   ],
   "source": [
    "type(y_test) # Check the type of y_test"
   ]
  },
  {
   "cell_type": "code",
   "execution_count": 44,
   "id": "664e167a-d42e-478e-8533-c4014bb49221",
   "metadata": {},
   "outputs": [],
   "source": [
    "X_train = X_train.astype('float32') # converted  to float32 because GPUs are typically faster at processing data in float32 format as compared to float64. Therefore, it's recommended to use float32 data for machine learning models when running on GPUs."
   ]
  },
  {
   "cell_type": "code",
   "execution_count": 45,
   "id": "95db5ae1-f038-406e-8754-ea12c06aba50",
   "metadata": {},
   "outputs": [],
   "source": [
    "X_test = X_test.astype('float32') # converted  to float32 because GPUs are typically faster at processing data in float32 format as compared to float64. Therefore, it's recommended to use float32 data for machine learning models when running on GPUs."
   ]
  },
  {
   "cell_type": "code",
   "execution_count": 46,
   "id": "294f87ce-b4ea-46c9-9232-a00bb6ceefb2",
   "metadata": {},
   "outputs": [],
   "source": [
    "y_train = y_train.astype('float32') # converted  to float32 because GPUs are typically faster at processing data in float32 format as compared to float64. Therefore, it's recommended to use float32 data for machine learning models when running on GPUs."
   ]
  },
  {
   "cell_type": "code",
   "execution_count": 47,
   "id": "d6f5d0a3-8efc-4f67-92b0-c0e6951b1450",
   "metadata": {},
   "outputs": [],
   "source": [
    "y_test = y_test.astype('float32') # converted  to float32 because GPUs are typically faster at processing data in float32 format as compared to float64. Therefore, it's recommended to use float32 data for machine learning models when running on GPUs."
   ]
  },
  {
   "cell_type": "code",
   "execution_count": 48,
   "id": "59b760e7-dd3d-4420-8beb-cb52fe8c657f",
   "metadata": {},
   "outputs": [],
   "source": [
    "X_test_pd = X_test.compute().to_pandas() # convert to pandas (needed for hyperparamter tuning)\n"
   ]
  },
  {
   "cell_type": "code",
   "execution_count": 49,
   "id": "59ccea93-ef77-4dd8-a7c4-2bfb4c244995",
   "metadata": {},
   "outputs": [],
   "source": [
    "y_test_pd = y_test.compute().to_pandas() # convert to pandas (needed for hyperparamter tuning)\n"
   ]
  },
  {
   "cell_type": "markdown",
   "id": "bee87cfe-9d28-4928-96a5-cc2230221e00",
   "metadata": {},
   "source": [
    " "
   ]
  },
  {
   "cell_type": "markdown",
   "id": "9b83f230-66c7-44de-8a34-f7db9d221b35",
   "metadata": {},
   "source": [
    "<div style=\"width:100%;height:3px; background-color:black\"></div>"
   ]
  },
  {
   "cell_type": "markdown",
   "id": "733db629-d9b0-44dd-94c0-3b968cc5aa08",
   "metadata": {},
   "source": [
    "<p style=\"font-size:30px; text-align:center\"><u>Model Training</u></p>"
   ]
  },
  {
   "cell_type": "markdown",
   "id": "e24ebd83-651f-47a9-9fbb-507bf1e981ac",
   "metadata": {},
   "source": [
    "<div style=\"width:100%;height:3px; background-color:black\"></div>"
   ]
  },
  {
   "cell_type": "markdown",
   "id": "aa51c851-1e10-4b60-af44-4420c5446962",
   "metadata": {},
   "source": [
    "<p style=\"font-size: 23px; margin-top: 10px; font-weight: bold\">Shared variables or lists</p>"
   ]
  },
  {
   "cell_type": "code",
   "execution_count": 50,
   "id": "a859f292-69c4-4c41-8fb0-f34410f5e43a",
   "metadata": {},
   "outputs": [],
   "source": [
    "table_columns = [\"Model\", \"Accuracy\", \"Precision\", \"Recall\", \"F1 score\", \"Sensitivity\", \"Specificity\"] # List to set the columns for the table in which results of all the models will be shown"
   ]
  },
  {
   "cell_type": "code",
   "execution_count": 51,
   "id": "49a04cf8-76cc-4e99-86a2-435fb0b7c1fd",
   "metadata": {},
   "outputs": [],
   "source": [
    "result = [] # An array of the results of the all models"
   ]
  },
  {
   "cell_type": "code",
   "execution_count": 52,
   "id": "fffbda6b-6dae-4c68-b949-2065979716cb",
   "metadata": {},
   "outputs": [],
   "source": [
    "mis_classification_loss_table = [\"Model\", \"Mis-Classification\"] # List to set the columns for the table in which mis-classification of all the models will be shown"
   ]
  },
  {
   "cell_type": "code",
   "execution_count": 53,
   "id": "72e83875-eb13-4e0b-8fc5-ebf1de2848f1",
   "metadata": {},
   "outputs": [],
   "source": [
    "mis_classification_loss_result = []"
   ]
  },
  {
   "cell_type": "markdown",
   "id": "8861d2d4-bad3-4ee0-a8ab-33b1f4c63ee0",
   "metadata": {},
   "source": [
    "<div style=\"width:100%;height:1px; background-color:black\"></div>"
   ]
  },
  {
   "cell_type": "markdown",
   "id": "4f9f9d21-02c4-48a2-9ad0-6c11dbbfdd81",
   "metadata": {},
   "source": [
    "<p style=\"font-size: 23px; margin-top: 10px; font-weight: bold\">Shared functions</p>"
   ]
  },
  {
   "cell_type": "markdown",
   "id": "0d7c82f6-69d5-4736-8937-c87062e0f2ae",
   "metadata": {},
   "source": [
    "<p style=\"font-size: 18px; margin-top: 10px; font-weight: bold\">Confusion Matrix</p>"
   ]
  },
  {
   "cell_type": "code",
   "execution_count": 54,
   "id": "24d09c55-a3b7-4acd-bbfa-5615ad82127f",
   "metadata": {},
   "outputs": [],
   "source": [
    "def confusion_matrix_custom(test_labels_class, predicted_class, label_dict):\n",
    "    # calculate confusion matrix\n",
    "    confusion = confusion_matrix(test_labels_class, predicted_class)\n",
    "\n",
    "    # create labels for the matrix\n",
    "    # labels = ['Class 0', 'Class 1', 'Class 2']\n",
    "\n",
    "    # create figure and axes\n",
    "    fig, ax = plt.subplots()\n",
    "\n",
    "    # create image using imshow\n",
    "    im = ax.imshow(confusion, cmap='Blues')\n",
    "\n",
    "    # set tick marks and labels\n",
    "    ax.set_xticks(np.arange(len(label_dict)))\n",
    "    ax.set_yticks(np.arange(len(label_dict)))\n",
    "    ax.set_xticklabels(label_dict)\n",
    "    ax.set_yticklabels(label_dict)\n",
    "\n",
    "    # add annotations to the image\n",
    "    for i in range(len(label_dict)):\n",
    "        for j in range(len(label_dict)):\n",
    "            ax.text(j, i, confusion[i, j], ha=\"center\", va=\"center\", color=\"white\")\n",
    "\n",
    "    # add labels and title\n",
    "    plt.xlabel('Predicted label')\n",
    "    plt.ylabel('True label')\n",
    "    plt.title('Confusion Matrix')\n",
    "\n",
    "    # show the plot\n",
    "    plt.show()\n",
    "    \n",
    "    return confusion"
   ]
  },
  {
   "cell_type": "markdown",
   "id": "7c3226df-4c8a-40af-80e3-3e2aeeddbc74",
   "metadata": {},
   "source": [
    "<p style=\"font-size: 18px; margin-top: 10px; font-weight: bold\">TP, FP, FN, TN</p>"
   ]
  },
  {
   "cell_type": "code",
   "execution_count": 55,
   "id": "e0b3bbbe-c83c-4339-afe0-6c9c23815006",
   "metadata": {},
   "outputs": [],
   "source": [
    "def TF_FP_FN_TN(confusion): #function definition to get TF,FP,FN,TN for each model\n",
    "    \n",
    "    true_positives = np.diag(confusion)\n",
    "    false_positives = np.sum(confusion, axis=0) - true_positives\n",
    "    false_negatives = np.sum(confusion, axis=1) - true_positives\n",
    "    true_negatives = np.sum(confusion) - (true_positives + false_positives + false_negatives)\n",
    "    \n",
    "    return true_positives, false_positives, false_negatives, true_negatives"
   ]
  },
  {
   "cell_type": "markdown",
   "id": "130fc7c3-5265-4765-baef-00b007aeda03",
   "metadata": {},
   "source": [
    "<p style=\"font-size: 18px; margin-top: 10px; font-weight: bold\">Sensitivity or Recall</p>"
   ]
  },
  {
   "cell_type": "code",
   "execution_count": 56,
   "id": "ff2a82d6-51b1-42f4-b666-d4d9f67a7a87",
   "metadata": {},
   "outputs": [],
   "source": [
    "def sensitivity_custom(true_positives, false_negatives):  #function definition to calculate sensitivity or recall of each model\n",
    "    sensitivity = true_positives / (true_positives + false_negatives)\n",
    "\n",
    "    sum_of_all_classes = 0\n",
    "    for i in sensitivity:\n",
    "        sum_of_all_classes = sum_of_all_classes +i\n",
    "    average_sensitivity = sum_of_all_classes/ len(sensitivity) #Specificity of the model\n",
    "    print('average_sensitivity or recall:', average_sensitivity)\n",
    "    \n",
    "    return average_sensitivity"
   ]
  },
  {
   "cell_type": "markdown",
   "id": "f3742939-27d0-49ee-9c1f-1292ada219d3",
   "metadata": {},
   "source": [
    "<p style=\"font-size: 18px; margin-top: 10px; font-weight: bold\">Specificity</p>"
   ]
  },
  {
   "cell_type": "code",
   "execution_count": 57,
   "id": "5499ef27-d90e-4b93-911c-9de8d3fd58df",
   "metadata": {},
   "outputs": [],
   "source": [
    "def specificity_custom(true_negatives, false_positives): #function definition to calculate specificity of each model\n",
    "    specificity = true_negatives / (true_negatives + false_positives)\n",
    "\n",
    "    sum_of_all_classes = 0\n",
    "    for i in specificity:\n",
    "        sum_of_all_classes = sum_of_all_classes +i\n",
    "    average_specificity = sum_of_all_classes/ len(specificity) #Specificity of the model\n",
    "    print('average_specificity:', average_specificity)\n",
    "    return average_specificity"
   ]
  },
  {
   "cell_type": "markdown",
   "id": "82a33350-2724-4c42-8b45-cfb6b074b44f",
   "metadata": {},
   "source": [
    "<p style=\"font-size: 18px; margin-top: 10px; font-weight: bold\">Mis-Classification</p>"
   ]
  },
  {
   "cell_type": "code",
   "execution_count": 58,
   "id": "bd67c8ac-61c6-4050-8e27-a341d0bb2612",
   "metadata": {},
   "outputs": [],
   "source": [
    "def mis_classification_custom(false_negatives, true_positives, true_negatives, false_positives ): #function definition to calculate overall mis-classfication of each model\n",
    "    \n",
    "    mis_classification = (false_positives + false_negatives) / (true_positives + true_negatives + false_positives + false_negatives)\n",
    "    sum_of_all = 0\n",
    "    for i in mis_classification:\n",
    "        sum_of_all = sum_of_all +i\n",
    "    average_mis_classification = sum_of_all/ len(mis_classification) #Misclassification\n",
    "    print(\"Mis-Classification: \",average_mis_classification)\n",
    "    return average_mis_classification"
   ]
  },
  {
   "cell_type": "markdown",
   "id": "8c1770c9-8ce5-4532-bddd-3fac1cd8beec",
   "metadata": {},
   "source": [
    "<p style=\"font-size: 18px; margin-top: 10px; font-weight: bold\">Loss</p>"
   ]
  },
  {
   "cell_type": "code",
   "execution_count": 59,
   "id": "2559f853-3e88-45db-a119-2d077251afaf",
   "metadata": {},
   "outputs": [],
   "source": [
    "def loss_custom(test_labels_class, predicted_class): # function definition to calculate overall loss of each model\n",
    "    \n",
    "    error_rate = []\n",
    "    for i in test_labels_class: # This loop is checking where predicted result and target result is not matching and saving to error rate array\n",
    "        error_rate.append(np.mean(predicted_class != test_labels_class))\n",
    "\n",
    "\n",
    "    sum_of_all_loss = 0\n",
    "    for i in error_rate: #Sum of the error rates\n",
    "        sum_of_all_loss = sum_of_all_loss +i\n",
    "    overall_loss = sum_of_all_loss/ len(error_rate) #Overall loss of the model\n",
    "    print(\"overall_loss: \",overall_loss)\n",
    "    \n",
    "    return overall_loss"
   ]
  },
  {
   "cell_type": "markdown",
   "id": "8dddc6e4-8214-40af-8395-445046155cba",
   "metadata": {},
   "source": [
    "<p style=\"font-size: 18px; margin-top: 10px; font-weight: bold\">AUC</p>"
   ]
  },
  {
   "cell_type": "code",
   "execution_count": 60,
   "id": "2415aba0-c4b0-42fd-ba04-de6f72d6ac17",
   "metadata": {},
   "outputs": [],
   "source": [
    "def area_under_the_curve(y_test_np, y_pred_np):\n",
    "    # Compute the AUC score\n",
    "    auc = roc_auc_score(y_test_np, y_pred_np)\n",
    "\n",
    "    # Plot the ROC curve\n",
    "    fpr, tpr, thresholds = roc_curve(y_test_np, y_pred_np)\n",
    "    plt.figure(figsize=(8, 6))\n",
    "    plt.plot(fpr, tpr, label='ROC curve (AUC = %0.2f)' % auc)\n",
    "    plt.plot([0, 1], [0, 1], 'k--')\n",
    "    plt.xlim([0.0, 1.0])\n",
    "    plt.ylim([0.0, 1.05])\n",
    "    plt.xlabel('False Positive Rate')\n",
    "    plt.ylabel('True Positive Rate')\n",
    "    plt.title('Receiver operating characteristic (ROC) curve')\n",
    "    plt.legend(loc=\"lower right\")\n",
    "    plt.show()\n",
    "\n",
    "    return auc"
   ]
  },
  {
   "cell_type": "markdown",
   "id": "338124a2-0232-48cb-8a99-aa11c3fc4ae4",
   "metadata": {},
   "source": [
    "<div style=\"width:100%;height:3px; background-color:black\"></div>"
   ]
  },
  {
   "cell_type": "markdown",
   "id": "a7adf1e1-5928-4f94-9828-b868a000611f",
   "metadata": {},
   "source": [
    "<p id=\"xgb\" style=\"font-size: 23px; margin-top: 10px; font-weight: bold\">XGBoost</p> <a href=\"#top\">Back To Top</a>"
   ]
  },
  {
   "cell_type": "markdown",
   "id": "24310240-63a2-4260-bbf8-2146a56df3c4",
   "metadata": {},
   "source": [
    "<div style=\"width:100%;height:3px; background-color:black\"></div>"
   ]
  },
  {
   "cell_type": "code",
   "execution_count": 61,
   "id": "a3684e91-e402-4d93-90e4-5a035d767912",
   "metadata": {},
   "outputs": [
    {
     "name": "stderr",
     "output_type": "stream",
     "text": [
      "distributed.diskutils - INFO - Found stale lock file and directory '/home/msc1/Desktop/Labs/Semester_2/7145COMP/7145COMP/coursework/dask-worker-space/worker-srqyksbq', purging\n",
      "distributed.preloading - INFO - Import preload module: dask_cuda.initialize\n"
     ]
    }
   ],
   "source": [
    "# create a local CUDA cluster\n",
    "cluster = LocalCUDACluster(memory_limit='24GB') # to create a local CUDA cluster with memory limit of 24GB\n",
    "client = Client(cluster) # create a Dask client to connect to the cluster\n",
    "# This allows for parallel processing of data using Dask and utilizing the GPU resources provided by the CUDA cluster."
   ]
  },
  {
   "cell_type": "code",
   "execution_count": 62,
   "id": "bbcde5dd-6ed5-48aa-bfc8-608401a3a9d5",
   "metadata": {},
   "outputs": [
    {
     "data": {
      "text/html": [
       "<div>\n",
       "    <div style=\"width: 24px; height: 24px; background-color: #e1e1e1; border: 3px solid #9D9D9D; border-radius: 5px; position: absolute;\"> </div>\n",
       "    <div style=\"margin-left: 48px;\">\n",
       "        <h3 style=\"margin-bottom: 0px;\">Client</h3>\n",
       "        <p style=\"color: #9D9D9D; margin-bottom: 0px;\">Client-135f5c92-e3bb-11ed-892d-f02f74dbbf96</p>\n",
       "        <table style=\"width: 100%; text-align: left;\">\n",
       "\n",
       "        <tr>\n",
       "        \n",
       "            <td style=\"text-align: left;\"><strong>Connection method:</strong> Cluster object</td>\n",
       "            <td style=\"text-align: left;\"><strong>Cluster type:</strong> dask_cuda.LocalCUDACluster</td>\n",
       "        \n",
       "        </tr>\n",
       "\n",
       "        \n",
       "            <tr>\n",
       "                <td style=\"text-align: left;\">\n",
       "                    <strong>Dashboard: </strong> <a href=\"http://127.0.0.1:8787/status\" target=\"_blank\">http://127.0.0.1:8787/status</a>\n",
       "                </td>\n",
       "                <td style=\"text-align: left;\"></td>\n",
       "            </tr>\n",
       "        \n",
       "\n",
       "        </table>\n",
       "\n",
       "        \n",
       "            <details>\n",
       "            <summary style=\"margin-bottom: 20px;\"><h3 style=\"display: inline;\">Cluster Info</h3></summary>\n",
       "            <div class=\"jp-RenderedHTMLCommon jp-RenderedHTML jp-mod-trusted jp-OutputArea-output\">\n",
       "    <div style=\"width: 24px; height: 24px; background-color: #e1e1e1; border: 3px solid #9D9D9D; border-radius: 5px; position: absolute;\">\n",
       "    </div>\n",
       "    <div style=\"margin-left: 48px;\">\n",
       "        <h3 style=\"margin-bottom: 0px; margin-top: 0px;\">LocalCUDACluster</h3>\n",
       "        <p style=\"color: #9D9D9D; margin-bottom: 0px;\">96723868</p>\n",
       "        <table style=\"width: 100%; text-align: left;\">\n",
       "            <tr>\n",
       "                <td style=\"text-align: left;\">\n",
       "                    <strong>Dashboard:</strong> <a href=\"http://127.0.0.1:8787/status\" target=\"_blank\">http://127.0.0.1:8787/status</a>\n",
       "                </td>\n",
       "                <td style=\"text-align: left;\">\n",
       "                    <strong>Workers:</strong> 1\n",
       "                </td>\n",
       "            </tr>\n",
       "            <tr>\n",
       "                <td style=\"text-align: left;\">\n",
       "                    <strong>Total threads:</strong> 1\n",
       "                </td>\n",
       "                <td style=\"text-align: left;\">\n",
       "                    <strong>Total memory:</strong> 15.53 GiB\n",
       "                </td>\n",
       "            </tr>\n",
       "            \n",
       "            <tr>\n",
       "    <td style=\"text-align: left;\"><strong>Status:</strong> running</td>\n",
       "    <td style=\"text-align: left;\"><strong>Using processes:</strong> True</td>\n",
       "</tr>\n",
       "\n",
       "            \n",
       "        </table>\n",
       "\n",
       "        <details>\n",
       "            <summary style=\"margin-bottom: 20px;\">\n",
       "                <h3 style=\"display: inline;\">Scheduler Info</h3>\n",
       "            </summary>\n",
       "\n",
       "            <div style=\"\">\n",
       "    <div>\n",
       "        <div style=\"width: 24px; height: 24px; background-color: #FFF7E5; border: 3px solid #FF6132; border-radius: 5px; position: absolute;\"> </div>\n",
       "        <div style=\"margin-left: 48px;\">\n",
       "            <h3 style=\"margin-bottom: 0px;\">Scheduler</h3>\n",
       "            <p style=\"color: #9D9D9D; margin-bottom: 0px;\">Scheduler-415c09a3-2e7a-4ce6-a5da-aafb80900b42</p>\n",
       "            <table style=\"width: 100%; text-align: left;\">\n",
       "                <tr>\n",
       "                    <td style=\"text-align: left;\">\n",
       "                        <strong>Comm:</strong> tcp://127.0.0.1:36661\n",
       "                    </td>\n",
       "                    <td style=\"text-align: left;\">\n",
       "                        <strong>Workers:</strong> 1\n",
       "                    </td>\n",
       "                </tr>\n",
       "                <tr>\n",
       "                    <td style=\"text-align: left;\">\n",
       "                        <strong>Dashboard:</strong> <a href=\"http://127.0.0.1:8787/status\" target=\"_blank\">http://127.0.0.1:8787/status</a>\n",
       "                    </td>\n",
       "                    <td style=\"text-align: left;\">\n",
       "                        <strong>Total threads:</strong> 1\n",
       "                    </td>\n",
       "                </tr>\n",
       "                <tr>\n",
       "                    <td style=\"text-align: left;\">\n",
       "                        <strong>Started:</strong> Just now\n",
       "                    </td>\n",
       "                    <td style=\"text-align: left;\">\n",
       "                        <strong>Total memory:</strong> 15.53 GiB\n",
       "                    </td>\n",
       "                </tr>\n",
       "            </table>\n",
       "        </div>\n",
       "    </div>\n",
       "\n",
       "    <details style=\"margin-left: 48px;\">\n",
       "        <summary style=\"margin-bottom: 20px;\">\n",
       "            <h3 style=\"display: inline;\">Workers</h3>\n",
       "        </summary>\n",
       "\n",
       "        \n",
       "        <div style=\"margin-bottom: 20px;\">\n",
       "            <div style=\"width: 24px; height: 24px; background-color: #DBF5FF; border: 3px solid #4CC9FF; border-radius: 5px; position: absolute;\"> </div>\n",
       "            <div style=\"margin-left: 48px;\">\n",
       "            <details>\n",
       "                <summary>\n",
       "                    <h4 style=\"margin-bottom: 0px; display: inline;\">Worker: 0</h4>\n",
       "                </summary>\n",
       "                <table style=\"width: 100%; text-align: left;\">\n",
       "                    <tr>\n",
       "                        <td style=\"text-align: left;\">\n",
       "                            <strong>Comm: </strong> tcp://127.0.0.1:33119\n",
       "                        </td>\n",
       "                        <td style=\"text-align: left;\">\n",
       "                            <strong>Total threads: </strong> 1\n",
       "                        </td>\n",
       "                    </tr>\n",
       "                    <tr>\n",
       "                        <td style=\"text-align: left;\">\n",
       "                            <strong>Dashboard: </strong> <a href=\"http://127.0.0.1:42377/status\" target=\"_blank\">http://127.0.0.1:42377/status</a>\n",
       "                        </td>\n",
       "                        <td style=\"text-align: left;\">\n",
       "                            <strong>Memory: </strong> 15.53 GiB\n",
       "                        </td>\n",
       "                    </tr>\n",
       "                    <tr>\n",
       "                        <td style=\"text-align: left;\">\n",
       "                            <strong>Nanny: </strong> tcp://127.0.0.1:38477\n",
       "                        </td>\n",
       "                        <td style=\"text-align: left;\"></td>\n",
       "                    </tr>\n",
       "                    <tr>\n",
       "                        <td colspan=\"2\" style=\"text-align: left;\">\n",
       "                            <strong>Local directory: </strong> /home/msc1/Desktop/Labs/Semester_2/7145COMP/7145COMP/coursework/dask-worker-space/worker-4_m2h9an\n",
       "                        </td>\n",
       "                    </tr>\n",
       "\n",
       "                    \n",
       "                    <tr>\n",
       "                        <td style=\"text-align: left;\">\n",
       "                            <strong>GPU: </strong>NVIDIA GeForce RTX 3090\n",
       "                        </td>\n",
       "                        <td style=\"text-align: left;\">\n",
       "                            <strong>GPU memory: </strong> 23.70 GiB\n",
       "                        </td>\n",
       "                    </tr>\n",
       "                    \n",
       "\n",
       "                    \n",
       "\n",
       "                </table>\n",
       "            </details>\n",
       "            </div>\n",
       "        </div>\n",
       "        \n",
       "\n",
       "    </details>\n",
       "</div>\n",
       "\n",
       "        </details>\n",
       "    </div>\n",
       "</div>\n",
       "            </details>\n",
       "        \n",
       "\n",
       "    </div>\n",
       "</div>"
      ],
      "text/plain": [
       "<Client: 'tcp://127.0.0.1:36661' processes=1 threads=1, memory=15.53 GiB>"
      ]
     },
     "execution_count": 62,
     "metadata": {},
     "output_type": "execute_result"
    }
   ],
   "source": [
    "client"
   ]
  },
  {
   "cell_type": "code",
   "execution_count": 63,
   "id": "2147f8bd-b74e-49e2-a6df-91dd66023a24",
   "metadata": {},
   "outputs": [],
   "source": [
    "# Create the XGBoost DMatrix for our training and testing splits\n",
    "dtrain = xgb.dask.DaskDMatrix(client, X_train, y_train)\n",
    "dtest = xgb.dask.DaskDMatrix(client, X_test, y_test)\n",
    "\n",
    "# Set model parameters (XGBoost defaults)\n",
    "params = {\n",
    "    \"max_depth\": 6,\n",
    "    \"gamma\": 0,\n",
    "    \"eta\": 0.3,\n",
    "    \"min_child_weight\": 30,\n",
    "    \"objective\": \"reg:squarederror\",\n",
    "    \"grow_policy\": \"depthwise\"\n",
    "}"
   ]
  },
  {
   "cell_type": "code",
   "execution_count": 64,
   "id": "d196fbcd-a709-4dfc-a4fb-b98c2cd81da1",
   "metadata": {},
   "outputs": [
    {
     "name": "stdout",
     "output_type": "stream",
     "text": [
      "task [xgboost.dask]:tcp://127.0.0.1:33119 connected to the tracker\n",
      "task [xgboost.dask]:tcp://127.0.0.1:33119 got new rank 0\n"
     ]
    },
    {
     "name": "stderr",
     "output_type": "stream",
     "text": [
      "[23:47:17] WARNING: /workspace/src/gbm/gbtree.cc:129: Tree method is automatically selected to be 'approx' for distributed training.\n"
     ]
    }
   ],
   "source": [
    "# %%time \n",
    "# train the model\n",
    "output = xgb.dask.train(\n",
    "    client, params, dtrain, num_boost_round=5,\n",
    "    evals=[(dtrain, 'train')]\n",
    ")"
   ]
  },
  {
   "cell_type": "code",
   "execution_count": 65,
   "id": "8d119c33-04a0-4255-b3a0-88a8430029be",
   "metadata": {},
   "outputs": [],
   "source": [
    "y_pred = xgb.dask.predict(client, output, dtest)"
   ]
  },
  {
   "cell_type": "markdown",
   "id": "b11bf72e-7c6c-4098-9772-e68c8bbf54a6",
   "metadata": {},
   "source": [
    "<p style=\"font-size: 23px; margin-top: 10px;\"><u>XGBoost Model Evaluation</u></p>"
   ]
  },
  {
   "cell_type": "code",
   "execution_count": 66,
   "id": "c11edb40-6b68-448b-a9bc-e72696a07613",
   "metadata": {},
   "outputs": [
    {
     "data": {
      "text/plain": [
       "array([0., 1., 0., ..., 1., 0., 1.])"
      ]
     },
     "execution_count": 66,
     "metadata": {},
     "output_type": "execute_result"
    }
   ],
   "source": [
    "y_test_np = y_test.compute().values.astype(np.float64)\n",
    "\n",
    "y_test_np = y_test_np.get()\n",
    "y_test_np"
   ]
  },
  {
   "cell_type": "code",
   "execution_count": 67,
   "id": "a13b6702-6a53-4ee4-9868-11ce54f0f1a9",
   "metadata": {},
   "outputs": [
    {
     "data": {
      "text/plain": [
       "array([0., 0., 1., ..., 1., 0., 1.], dtype=float32)"
      ]
     },
     "execution_count": 67,
     "metadata": {},
     "output_type": "execute_result"
    }
   ],
   "source": [
    "y_pred_np = y_pred.compute()\n",
    "y_pred_np = np.round(y_pred_np)\n",
    "y_pred_np"
   ]
  },
  {
   "cell_type": "code",
   "execution_count": null,
   "id": "69308997-d896-4711-b478-22c5ffbeba65",
   "metadata": {},
   "outputs": [],
   "source": []
  },
  {
   "cell_type": "code",
   "execution_count": 68,
   "id": "7576ff37-be7d-4eb3-8244-a3f5aae64037",
   "metadata": {},
   "outputs": [
    {
     "name": "stdout",
     "output_type": "stream",
     "text": [
      "Accuracy: 0.6912380762896397\n"
     ]
    }
   ],
   "source": [
    "# Evaluate the performance of the classifier\n",
    "from sklearn.metrics import accuracy_score\n",
    "accuracy = accuracy_score(y_test_np, y_pred_np)\n",
    "print(\"Accuracy:\", accuracy)"
   ]
  },
  {
   "cell_type": "markdown",
   "id": "8bd4fa5d-1f80-499b-a516-631735ebf431",
   "metadata": {},
   "source": [
    "<p style=\"font-size: 18px; margin-top: 10px; font-weight: bold\">Confusion Matrix</p>"
   ]
  },
  {
   "cell_type": "code",
   "execution_count": 69,
   "id": "f1cc8c48-45f2-45cc-b63c-c3a426606d43",
   "metadata": {},
   "outputs": [
    {
     "data": {
      "image/png": "[encoded data removed]",
      "text/plain": [
       "<Figure size 432x288 with 1 Axes>"
      ]
     },
     "metadata": {
      "needs_background": "light"
     },
     "output_type": "display_data"
    }
   ],
   "source": [
    "confusion = confusion_matrix_custom(y_test_np, y_pred_np, label_dict={0: '0',1: '1'}) # calling confusion matrix custom function to diplay confusion matrix"
   ]
  },
  {
   "cell_type": "markdown",
   "id": "2051ae7c-f07a-42dd-96dc-d5503ae10c0a",
   "metadata": {},
   "source": [
    "<p style=\"font-size: 18px; margin-top: 10px; font-weight: bold\">TP, FP, FN, TN</p>"
   ]
  },
  {
   "cell_type": "code",
   "execution_count": 70,
   "id": "fa4ea4a3-0f38-4789-8af7-3486c0079c50",
   "metadata": {},
   "outputs": [],
   "source": [
    "true_positives, false_positives, false_negatives, true_negatives = TF_FP_FN_TN(confusion) # calling custom function to get TP, FP, FN, TN"
   ]
  },
  {
   "cell_type": "markdown",
   "id": "8ea71235-8810-4e7f-ac1c-f7e90203dd17",
   "metadata": {},
   "source": [
    "<p style=\"font-size: 18px; margin-top: 10px; font-weight: bold\">Accuracy</p>"
   ]
  },
  {
   "cell_type": "code",
   "execution_count": 71,
   "id": "bef0e878-43cf-4429-b451-a10a29ede084",
   "metadata": {},
   "outputs": [
    {
     "name": "stdout",
     "output_type": "stream",
     "text": [
      "accuracy 0.6912380762896397\n"
     ]
    }
   ],
   "source": [
    "accuracy = accuracy_score(y_test_np, y_pred_np) #Check accuracy of the trained model\n",
    "print(\"accuracy\", accuracy)\n"
   ]
  },
  {
   "cell_type": "markdown",
   "id": "dfe3d601-aecd-47b9-9ffa-5a8799ac9c67",
   "metadata": {},
   "source": [
    "<p style=\"font-size: 18px; margin-top: 10px; font-weight: bold\">Precision</p>"
   ]
  },
  {
   "cell_type": "code",
   "execution_count": 72,
   "id": "34fe7134-1e79-41e6-9b54-5337fbce3ace",
   "metadata": {},
   "outputs": [
    {
     "name": "stdout",
     "output_type": "stream",
     "text": [
      "precision 0.6891101882923727\n"
     ]
    }
   ],
   "source": [
    "precision = precision_score(y_test_np, y_pred_np, average='macro') #Check precision of the trained model\n",
    "print(\"precision\", precision)"
   ]
  },
  {
   "cell_type": "markdown",
   "id": "6778c8aa-2f9d-46b5-9bae-2317f3f5c98f",
   "metadata": {},
   "source": [
    "<p style=\"font-size: 18px; margin-top: 10px; font-weight: bold\">F1 score</p>"
   ]
  },
  {
   "cell_type": "code",
   "execution_count": 73,
   "id": "d9a8f50f-2e00-4beb-93f0-dfda2168eae1",
   "metadata": {},
   "outputs": [
    {
     "name": "stdout",
     "output_type": "stream",
     "text": [
      "f1_score 0.6868491505999477\n"
     ]
    }
   ],
   "source": [
    "f1_sc =  f1_score(y_test_np, y_pred_np, average='macro') #Check f1_score of the trained model\n",
    "print(\"f1_score\", f1_sc)"
   ]
  },
  {
   "cell_type": "markdown",
   "id": "c5807d65-c0e5-4455-9440-fb223452aa8f",
   "metadata": {},
   "source": [
    "<p style=\"font-size: 18px; margin-top: 10px; font-weight: bold\">Sensitivity or Recall</p>"
   ]
  },
  {
   "cell_type": "code",
   "execution_count": 74,
   "id": "5f6421f6-5931-4c32-bc74-c2b759f714b3",
   "metadata": {},
   "outputs": [
    {
     "name": "stdout",
     "output_type": "stream",
     "text": [
      "average_sensitivity or recall: 0.6861319700079909\n"
     ]
    }
   ],
   "source": [
    "average_sensitivity = sensitivity_custom(true_positives, false_negatives) # calling custom function to calculate sensitivity or recall"
   ]
  },
  {
   "cell_type": "markdown",
   "id": "d7689ffe-6a26-44bb-8cb2-4f6392345052",
   "metadata": {},
   "source": [
    "<p style=\"font-size: 18px; margin-top: 10px; font-weight: bold\">Specificity</p>"
   ]
  },
  {
   "cell_type": "code",
   "execution_count": 75,
   "id": "078b0a0e-5d69-4c3c-a9fc-5263d10ed209",
   "metadata": {},
   "outputs": [
    {
     "name": "stdout",
     "output_type": "stream",
     "text": [
      "average_specificity: 0.6861319700079909\n"
     ]
    }
   ],
   "source": [
    "average_specificity = specificity_custom(true_negatives, false_positives) # calling custom function to calculate specificity"
   ]
  },
  {
   "cell_type": "markdown",
   "id": "1053e9ff-8049-45b8-85aa-368b4a00ec75",
   "metadata": {},
   "source": [
    "<p style=\"font-size: 18px; margin-top: 10px; font-weight: bold\">Classification Report</p>"
   ]
  },
  {
   "cell_type": "code",
   "execution_count": 76,
   "id": "d83dfedd-b7a7-42c6-80cc-59b797862c17",
   "metadata": {},
   "outputs": [
    {
     "name": "stdout",
     "output_type": "stream",
     "text": [
      "              precision    recall  f1-score   support\n",
      "\n",
      "         0.0       0.68      0.63      0.65   1282583\n",
      "         1.0       0.70      0.75      0.72   1522018\n",
      "\n",
      "    accuracy                           0.69   2804601\n",
      "   macro avg       0.69      0.69      0.69   2804601\n",
      "weighted avg       0.69      0.69      0.69   2804601\n",
      "\n"
     ]
    }
   ],
   "source": [
    "print(classification_report(y_test_np, y_pred_np)) # This method gives the overall report of the trained model"
   ]
  },
  {
   "cell_type": "code",
   "execution_count": 77,
   "id": "8328f063-79b4-46ac-b62e-d24517289221",
   "metadata": {},
   "outputs": [],
   "source": [
    "result.append(['XGBoost', accuracy, precision, average_sensitivity, f1_sc, average_sensitivity, average_specificity]);"
   ]
  },
  {
   "cell_type": "code",
   "execution_count": 78,
   "id": "f7a815cb-d053-4ad3-b036-5f0a492dee57",
   "metadata": {},
   "outputs": [
    {
     "name": "stdout",
     "output_type": "stream",
     "text": [
      "╒═════════╤════════════╤═════════════╤══════════╤════════════╤═══════════════╤═══════════════╕\n",
      "│ Model   │   Accuracy │   Precision │   Recall │   F1 score │   Sensitivity │   Specificity │\n",
      "╞═════════╪════════════╪═════════════╪══════════╪════════════╪═══════════════╪═══════════════╡\n",
      "│ XGBoost │   0.691238 │     0.68911 │ 0.686132 │   0.686849 │      0.686132 │      0.686132 │\n",
      "╘═════════╧════════════╧═════════════╧══════════╧════════════╧═══════════════╧═══════════════╛\n"
     ]
    }
   ],
   "source": [
    "print(tabulate(result, headers=table_columns, tablefmt=\"fancy_grid\"))"
   ]
  },
  {
   "cell_type": "markdown",
   "id": "7feea902-e521-4277-96a3-b2e55c835a48",
   "metadata": {},
   "source": [
    "<p style=\"font-size: 18px; margin-top: 10px; font-weight: bold\">Mis-classification</p>"
   ]
  },
  {
   "cell_type": "code",
   "execution_count": 79,
   "id": "430d6664-2ad9-45d0-97cc-f10a22a9cde6",
   "metadata": {},
   "outputs": [
    {
     "name": "stdout",
     "output_type": "stream",
     "text": [
      "Mis-Classification:  0.3087619237103602\n"
     ]
    }
   ],
   "source": [
    "average_mis_classification = mis_classification_custom(false_negatives, true_positives, true_negatives, false_positives ) # calling custom function to calculate mis-classification of the model"
   ]
  },
  {
   "cell_type": "code",
   "execution_count": 80,
   "id": "3e38d96d-22b4-4a04-9c0d-0d36f5a23699",
   "metadata": {},
   "outputs": [],
   "source": [
    "mis_classification_loss_result.append(['XGBoost', average_mis_classification]);"
   ]
  },
  {
   "cell_type": "code",
   "execution_count": 81,
   "id": "2d8efb12-f833-478c-99d3-af9c68a6ce5d",
   "metadata": {},
   "outputs": [
    {
     "name": "stdout",
     "output_type": "stream",
     "text": [
      "╒═════════╤══════════════════════╕\n",
      "│ Model   │   Mis-Classification │\n",
      "╞═════════╪══════════════════════╡\n",
      "│ XGBoost │             0.308762 │\n",
      "╘═════════╧══════════════════════╛\n"
     ]
    }
   ],
   "source": [
    "print(tabulate(mis_classification_loss_result, headers=mis_classification_loss_table, tablefmt=\"fancy_grid\"))"
   ]
  },
  {
   "cell_type": "markdown",
   "id": "f28be49f-ab42-49ab-92c3-34a061939373",
   "metadata": {},
   "source": [
    "<p style=\"font-size: 18px; margin-top: 10px; font-weight: bold\">AUC (Area Under the Curve)</p>"
   ]
  },
  {
   "cell_type": "code",
   "execution_count": 82,
   "id": "159772fe-8749-4de5-8e63-9ce5ce89dda3",
   "metadata": {},
   "outputs": [
    {
     "data": {
      "image/png": "[encoded data removed]",
      "text/plain": [
       "<Figure size 576x432 with 1 Axes>"
      ]
     },
     "metadata": {
      "needs_background": "light"
     },
     "output_type": "display_data"
    },
    {
     "name": "stdout",
     "output_type": "stream",
     "text": [
      "AUC: 0.6861319700079911\n"
     ]
    }
   ],
   "source": [
    "auc = area_under_the_curve(y_test_np, y_pred_np)\n",
    "print('AUC:', auc)"
   ]
  },
  {
   "cell_type": "code",
   "execution_count": 83,
   "id": "e3a8b303-5037-40d0-8833-2867485d9f17",
   "metadata": {},
   "outputs": [],
   "source": [
    "client.shutdown()\n",
    "cluster.close()"
   ]
  },
  {
   "cell_type": "markdown",
   "id": "ededd9fe-a9c9-442d-901a-76455422b092",
   "metadata": {},
   "source": [
    "<div style=\"width:100%;height:3px; background-color:black\"></div>"
   ]
  },
  {
   "cell_type": "markdown",
   "id": "3083396b-7c6e-448a-bcce-f841db9a568a",
   "metadata": {},
   "source": [
    "<p id=\"rf\" style=\"font-size: 23px; margin-top: 10px; font-weight: bold\">Random Forest</p> <a href=\"#top\">Back To Top</a>"
   ]
  },
  {
   "cell_type": "markdown",
   "id": "e4da0ea9-04da-4dfe-ae15-0eef8465481b",
   "metadata": {},
   "source": [
    "<div style=\"width:100%;height:3px; background-color:black\"></div>"
   ]
  },
  {
   "cell_type": "markdown",
   "id": "58f55b52-2d0e-4b3f-b604-daa8e6337673",
   "metadata": {},
   "source": [
    "<p style=\"font-size: 23px; margin-top: 10px;\"><u>Hyperparameter Tuning</u></p>"
   ]
  },
  {
   "cell_type": "markdown",
   "id": "c65d6ba4-7273-4acb-938e-620864d9a375",
   "metadata": {},
   "source": [
    "<p style=\"font-size: 20px; margin-top: 10px\">The hyperparameters need tuning otherwise it can impact the performance of the model if the best values are not identified. For the hyperparameter tunning there are many techniques like GridSearchCV and RandomSearchCV. GridSearchCV search the hyperparameters by applying all the possible combinations of hyperparameters values whereas RandomSearchCV randomly sample the hyperparameter values for a specified number of iterations. Consequently, I am using RandomSearchCV for the hyperparameters tuning because GridSearchCV can be computationally expensive.</p>"
   ]
  },
  {
   "cell_type": "code",
   "execution_count": null,
   "id": "50465bbe-4f8c-431e-b5c9-6ead6e65dd8c",
   "metadata": {},
   "outputs": [],
   "source": [
    "# create a local CUDA cluster\n",
    "cluster = LocalCUDACluster(memory_limit='24GB') # to create a local CUDA cluster with memory limit of 24GB\n",
    "client = Client(cluster) # create a Dask client to connect to the cluster\n",
    "# This allows for parallel processing of data using Dask and utilizing the GPU resources provided by the CUDA cluster."
   ]
  },
  {
   "cell_type": "code",
   "execution_count": 87,
   "id": "849c8457-1866-4015-b1c4-552c6f148e39",
   "metadata": {},
   "outputs": [],
   "source": [
    "\n",
    "# Define the hyperparameter space\n",
    "param_dist = {\n",
    "    \"n_estimators\": randint(100, 1000),\n",
    "    \"max_depth\": [None, 10, 20, 30],\n",
    "    \"max_features\": [\"sqrt\", \"log2\", 0.5],\n",
    "    \"min_samples_split\": randint(2, 10),\n",
    "    \"min_samples_leaf\": randint(1, 10),\n",
    "    \"bootstrap\": [True, False]\n",
    "}\n",
    "\n",
    "\n"
   ]
  },
  {
   "cell_type": "code",
   "execution_count": 88,
   "id": "b2fb8706-6fb1-4033-b162-2243d26d03b3",
   "metadata": {},
   "outputs": [],
   "source": [
    "# Define your model\n",
    "model = RandomForestClassifier()\n"
   ]
  },
  {
   "cell_type": "code",
   "execution_count": 89,
   "id": "0741f5cb-7157-457d-9e78-3dc3018f843e",
   "metadata": {},
   "outputs": [],
   "source": [
    "# Run randomized search using Dask\n",
    "random_search = DaskRandomizedSearchCV(model, param_distributions=param_dist, n_iter=10, cv=5, n_jobs=-1)"
   ]
  },
  {
   "cell_type": "code",
   "execution_count": 90,
   "id": "6f334b94-42ef-4418-af7c-309a278aba7f",
   "metadata": {
    "collapsed": true,
    "jupyter": {
     "outputs_hidden": true
    },
    "tags": []
   },
   "outputs": [
    {
     "name": "stderr",
     "output_type": "stream",
     "text": [
      "distributed.client - ERROR - Failed to reconnect to scheduler after 30.00 seconds, closing client\n",
      "ERROR:asyncio:_GatheringFuture exception was never retrieved\n",
      "future: <_GatheringFuture finished exception=CancelledError()>\n",
      "concurrent.futures._base.CancelledError\n"
     ]
    },
    {
     "ename": "CancelledError",
     "evalue": "",
     "output_type": "error",
     "traceback": [
      "\u001b[0;31m---------------------------------------------------------------------------\u001b[0m",
      "\u001b[0;31mCancelledError\u001b[0m                            Traceback (most recent call last)",
      "\u001b[0;32m/tmp/ipykernel_3969/2493043255.py\u001b[0m in \u001b[0;36m<module>\u001b[0;34m\u001b[0m\n\u001b[0;32m----> 1\u001b[0;31m \u001b[0mX_train_pd\u001b[0m \u001b[0;34m=\u001b[0m \u001b[0mX_train\u001b[0m\u001b[0;34m.\u001b[0m\u001b[0mcompute\u001b[0m\u001b[0;34m(\u001b[0m\u001b[0;34m)\u001b[0m\u001b[0;34m.\u001b[0m\u001b[0mto_pandas\u001b[0m\u001b[0;34m(\u001b[0m\u001b[0;34m)\u001b[0m\u001b[0;34m\u001b[0m\u001b[0;34m\u001b[0m\u001b[0m\n\u001b[0m",
      "\u001b[0;32m~/anaconda3/envs/Env-7145COMP/lib/python3.7/site-packages/dask/base.py\u001b[0m in \u001b[0;36mcompute\u001b[0;34m(self, **kwargs)\u001b[0m\n\u001b[1;32m    286\u001b[0m         \u001b[0mdask\u001b[0m\u001b[0;34m.\u001b[0m\u001b[0mbase\u001b[0m\u001b[0;34m.\u001b[0m\u001b[0mcompute\u001b[0m\u001b[0;34m\u001b[0m\u001b[0;34m\u001b[0m\u001b[0m\n\u001b[1;32m    287\u001b[0m         \"\"\"\n\u001b[0;32m--> 288\u001b[0;31m         \u001b[0;34m(\u001b[0m\u001b[0mresult\u001b[0m\u001b[0;34m,\u001b[0m\u001b[0;34m)\u001b[0m \u001b[0;34m=\u001b[0m \u001b[0mcompute\u001b[0m\u001b[0;34m(\u001b[0m\u001b[0mself\u001b[0m\u001b[0;34m,\u001b[0m \u001b[0mtraverse\u001b[0m\u001b[0;34m=\u001b[0m\u001b[0;32mFalse\u001b[0m\u001b[0;34m,\u001b[0m \u001b[0;34m**\u001b[0m\u001b[0mkwargs\u001b[0m\u001b[0;34m)\u001b[0m\u001b[0;34m\u001b[0m\u001b[0;34m\u001b[0m\u001b[0m\n\u001b[0m\u001b[1;32m    289\u001b[0m         \u001b[0;32mreturn\u001b[0m \u001b[0mresult\u001b[0m\u001b[0;34m\u001b[0m\u001b[0;34m\u001b[0m\u001b[0m\n\u001b[1;32m    290\u001b[0m \u001b[0;34m\u001b[0m\u001b[0m\n",
      "\u001b[0;32m~/anaconda3/envs/Env-7145COMP/lib/python3.7/site-packages/dask/base.py\u001b[0m in \u001b[0;36mcompute\u001b[0;34m(traverse, optimize_graph, scheduler, get, *args, **kwargs)\u001b[0m\n\u001b[1;32m    569\u001b[0m         \u001b[0mpostcomputes\u001b[0m\u001b[0;34m.\u001b[0m\u001b[0mappend\u001b[0m\u001b[0;34m(\u001b[0m\u001b[0mx\u001b[0m\u001b[0;34m.\u001b[0m\u001b[0m__dask_postcompute__\u001b[0m\u001b[0;34m(\u001b[0m\u001b[0;34m)\u001b[0m\u001b[0;34m)\u001b[0m\u001b[0;34m\u001b[0m\u001b[0;34m\u001b[0m\u001b[0m\n\u001b[1;32m    570\u001b[0m \u001b[0;34m\u001b[0m\u001b[0m\n\u001b[0;32m--> 571\u001b[0;31m     \u001b[0mresults\u001b[0m \u001b[0;34m=\u001b[0m \u001b[0mschedule\u001b[0m\u001b[0;34m(\u001b[0m\u001b[0mdsk\u001b[0m\u001b[0;34m,\u001b[0m \u001b[0mkeys\u001b[0m\u001b[0;34m,\u001b[0m \u001b[0;34m**\u001b[0m\u001b[0mkwargs\u001b[0m\u001b[0;34m)\u001b[0m\u001b[0;34m\u001b[0m\u001b[0;34m\u001b[0m\u001b[0m\n\u001b[0m\u001b[1;32m    572\u001b[0m     \u001b[0;32mreturn\u001b[0m \u001b[0mrepack\u001b[0m\u001b[0;34m(\u001b[0m\u001b[0;34m[\u001b[0m\u001b[0mf\u001b[0m\u001b[0;34m(\u001b[0m\u001b[0mr\u001b[0m\u001b[0;34m,\u001b[0m \u001b[0;34m*\u001b[0m\u001b[0ma\u001b[0m\u001b[0;34m)\u001b[0m \u001b[0;32mfor\u001b[0m \u001b[0mr\u001b[0m\u001b[0;34m,\u001b[0m \u001b[0;34m(\u001b[0m\u001b[0mf\u001b[0m\u001b[0;34m,\u001b[0m \u001b[0ma\u001b[0m\u001b[0;34m)\u001b[0m \u001b[0;32min\u001b[0m \u001b[0mzip\u001b[0m\u001b[0;34m(\u001b[0m\u001b[0mresults\u001b[0m\u001b[0;34m,\u001b[0m \u001b[0mpostcomputes\u001b[0m\u001b[0;34m)\u001b[0m\u001b[0;34m]\u001b[0m\u001b[0;34m)\u001b[0m\u001b[0;34m\u001b[0m\u001b[0;34m\u001b[0m\u001b[0m\n\u001b[1;32m    573\u001b[0m \u001b[0;34m\u001b[0m\u001b[0m\n",
      "\u001b[0;32m~/anaconda3/envs/Env-7145COMP/lib/python3.7/site-packages/distributed/client.py\u001b[0m in \u001b[0;36mget\u001b[0;34m(self, dsk, keys, workers, allow_other_workers, resources, sync, asynchronous, direct, retries, priority, fifo_timeout, actors, **kwargs)\u001b[0m\n\u001b[1;32m   2723\u001b[0m                     \u001b[0mshould_rejoin\u001b[0m \u001b[0;34m=\u001b[0m \u001b[0;32mFalse\u001b[0m\u001b[0;34m\u001b[0m\u001b[0;34m\u001b[0m\u001b[0m\n\u001b[1;32m   2724\u001b[0m             \u001b[0;32mtry\u001b[0m\u001b[0;34m:\u001b[0m\u001b[0;34m\u001b[0m\u001b[0;34m\u001b[0m\u001b[0m\n\u001b[0;32m-> 2725\u001b[0;31m                 \u001b[0mresults\u001b[0m \u001b[0;34m=\u001b[0m \u001b[0mself\u001b[0m\u001b[0;34m.\u001b[0m\u001b[0mgather\u001b[0m\u001b[0;34m(\u001b[0m\u001b[0mpacked\u001b[0m\u001b[0;34m,\u001b[0m \u001b[0masynchronous\u001b[0m\u001b[0;34m=\u001b[0m\u001b[0masynchronous\u001b[0m\u001b[0;34m,\u001b[0m \u001b[0mdirect\u001b[0m\u001b[0;34m=\u001b[0m\u001b[0mdirect\u001b[0m\u001b[0;34m)\u001b[0m\u001b[0;34m\u001b[0m\u001b[0;34m\u001b[0m\u001b[0m\n\u001b[0m\u001b[1;32m   2726\u001b[0m             \u001b[0;32mfinally\u001b[0m\u001b[0;34m:\u001b[0m\u001b[0;34m\u001b[0m\u001b[0;34m\u001b[0m\u001b[0m\n\u001b[1;32m   2727\u001b[0m                 \u001b[0;32mfor\u001b[0m \u001b[0mf\u001b[0m \u001b[0;32min\u001b[0m \u001b[0mfutures\u001b[0m\u001b[0;34m.\u001b[0m\u001b[0mvalues\u001b[0m\u001b[0;34m(\u001b[0m\u001b[0;34m)\u001b[0m\u001b[0;34m:\u001b[0m\u001b[0;34m\u001b[0m\u001b[0;34m\u001b[0m\u001b[0m\n",
      "\u001b[0;32m~/anaconda3/envs/Env-7145COMP/lib/python3.7/site-packages/distributed/client.py\u001b[0m in \u001b[0;36mgather\u001b[0;34m(self, futures, errors, direct, asynchronous)\u001b[0m\n\u001b[1;32m   1984\u001b[0m                 \u001b[0mdirect\u001b[0m\u001b[0;34m=\u001b[0m\u001b[0mdirect\u001b[0m\u001b[0;34m,\u001b[0m\u001b[0;34m\u001b[0m\u001b[0;34m\u001b[0m\u001b[0m\n\u001b[1;32m   1985\u001b[0m                 \u001b[0mlocal_worker\u001b[0m\u001b[0;34m=\u001b[0m\u001b[0mlocal_worker\u001b[0m\u001b[0;34m,\u001b[0m\u001b[0;34m\u001b[0m\u001b[0;34m\u001b[0m\u001b[0m\n\u001b[0;32m-> 1986\u001b[0;31m                 \u001b[0masynchronous\u001b[0m\u001b[0;34m=\u001b[0m\u001b[0masynchronous\u001b[0m\u001b[0;34m,\u001b[0m\u001b[0;34m\u001b[0m\u001b[0;34m\u001b[0m\u001b[0m\n\u001b[0m\u001b[1;32m   1987\u001b[0m             )\n\u001b[1;32m   1988\u001b[0m \u001b[0;34m\u001b[0m\u001b[0m\n",
      "\u001b[0;32m~/anaconda3/envs/Env-7145COMP/lib/python3.7/site-packages/distributed/client.py\u001b[0m in \u001b[0;36msync\u001b[0;34m(self, func, asynchronous, callback_timeout, *args, **kwargs)\u001b[0m\n\u001b[1;32m    867\u001b[0m         \u001b[0;32melse\u001b[0m\u001b[0;34m:\u001b[0m\u001b[0;34m\u001b[0m\u001b[0;34m\u001b[0m\u001b[0m\n\u001b[1;32m    868\u001b[0m             return sync(\n\u001b[0;32m--> 869\u001b[0;31m                 \u001b[0mself\u001b[0m\u001b[0;34m.\u001b[0m\u001b[0mloop\u001b[0m\u001b[0;34m,\u001b[0m \u001b[0mfunc\u001b[0m\u001b[0;34m,\u001b[0m \u001b[0;34m*\u001b[0m\u001b[0margs\u001b[0m\u001b[0;34m,\u001b[0m \u001b[0mcallback_timeout\u001b[0m\u001b[0;34m=\u001b[0m\u001b[0mcallback_timeout\u001b[0m\u001b[0;34m,\u001b[0m \u001b[0;34m**\u001b[0m\u001b[0mkwargs\u001b[0m\u001b[0;34m\u001b[0m\u001b[0;34m\u001b[0m\u001b[0m\n\u001b[0m\u001b[1;32m    870\u001b[0m             )\n\u001b[1;32m    871\u001b[0m \u001b[0;34m\u001b[0m\u001b[0m\n",
      "\u001b[0;32m~/anaconda3/envs/Env-7145COMP/lib/python3.7/site-packages/distributed/utils.py\u001b[0m in \u001b[0;36msync\u001b[0;34m(loop, func, callback_timeout, *args, **kwargs)\u001b[0m\n\u001b[1;32m    330\u001b[0m     \u001b[0;32mif\u001b[0m \u001b[0merror\u001b[0m\u001b[0;34m[\u001b[0m\u001b[0;36m0\u001b[0m\u001b[0;34m]\u001b[0m\u001b[0;34m:\u001b[0m\u001b[0;34m\u001b[0m\u001b[0;34m\u001b[0m\u001b[0m\n\u001b[1;32m    331\u001b[0m         \u001b[0mtyp\u001b[0m\u001b[0;34m,\u001b[0m \u001b[0mexc\u001b[0m\u001b[0;34m,\u001b[0m \u001b[0mtb\u001b[0m \u001b[0;34m=\u001b[0m \u001b[0merror\u001b[0m\u001b[0;34m[\u001b[0m\u001b[0;36m0\u001b[0m\u001b[0;34m]\u001b[0m\u001b[0;34m\u001b[0m\u001b[0;34m\u001b[0m\u001b[0m\n\u001b[0;32m--> 332\u001b[0;31m         \u001b[0;32mraise\u001b[0m \u001b[0mexc\u001b[0m\u001b[0;34m.\u001b[0m\u001b[0mwith_traceback\u001b[0m\u001b[0;34m(\u001b[0m\u001b[0mtb\u001b[0m\u001b[0;34m)\u001b[0m\u001b[0;34m\u001b[0m\u001b[0;34m\u001b[0m\u001b[0m\n\u001b[0m\u001b[1;32m    333\u001b[0m     \u001b[0;32melse\u001b[0m\u001b[0;34m:\u001b[0m\u001b[0;34m\u001b[0m\u001b[0;34m\u001b[0m\u001b[0m\n\u001b[1;32m    334\u001b[0m         \u001b[0;32mreturn\u001b[0m \u001b[0mresult\u001b[0m\u001b[0;34m[\u001b[0m\u001b[0;36m0\u001b[0m\u001b[0;34m]\u001b[0m\u001b[0;34m\u001b[0m\u001b[0;34m\u001b[0m\u001b[0m\n",
      "\u001b[0;32m~/anaconda3/envs/Env-7145COMP/lib/python3.7/site-packages/distributed/utils.py\u001b[0m in \u001b[0;36mf\u001b[0;34m()\u001b[0m\n\u001b[1;32m    313\u001b[0m             \u001b[0;32mif\u001b[0m \u001b[0mcallback_timeout\u001b[0m \u001b[0;32mis\u001b[0m \u001b[0;32mnot\u001b[0m \u001b[0;32mNone\u001b[0m\u001b[0;34m:\u001b[0m\u001b[0;34m\u001b[0m\u001b[0;34m\u001b[0m\u001b[0m\n\u001b[1;32m    314\u001b[0m                 \u001b[0mfuture\u001b[0m \u001b[0;34m=\u001b[0m \u001b[0masyncio\u001b[0m\u001b[0;34m.\u001b[0m\u001b[0mwait_for\u001b[0m\u001b[0;34m(\u001b[0m\u001b[0mfuture\u001b[0m\u001b[0;34m,\u001b[0m \u001b[0mcallback_timeout\u001b[0m\u001b[0;34m)\u001b[0m\u001b[0;34m\u001b[0m\u001b[0;34m\u001b[0m\u001b[0m\n\u001b[0;32m--> 315\u001b[0;31m             \u001b[0mresult\u001b[0m\u001b[0;34m[\u001b[0m\u001b[0;36m0\u001b[0m\u001b[0;34m]\u001b[0m \u001b[0;34m=\u001b[0m \u001b[0;32myield\u001b[0m \u001b[0mfuture\u001b[0m\u001b[0;34m\u001b[0m\u001b[0;34m\u001b[0m\u001b[0m\n\u001b[0m\u001b[1;32m    316\u001b[0m         \u001b[0;32mexcept\u001b[0m \u001b[0mException\u001b[0m\u001b[0;34m:\u001b[0m\u001b[0;34m\u001b[0m\u001b[0;34m\u001b[0m\u001b[0m\n\u001b[1;32m    317\u001b[0m             \u001b[0merror\u001b[0m\u001b[0;34m[\u001b[0m\u001b[0;36m0\u001b[0m\u001b[0;34m]\u001b[0m \u001b[0;34m=\u001b[0m \u001b[0msys\u001b[0m\u001b[0;34m.\u001b[0m\u001b[0mexc_info\u001b[0m\u001b[0;34m(\u001b[0m\u001b[0;34m)\u001b[0m\u001b[0;34m\u001b[0m\u001b[0;34m\u001b[0m\u001b[0m\n",
      "\u001b[0;32m~/anaconda3/envs/Env-7145COMP/lib/python3.7/site-packages/tornado/gen.py\u001b[0m in \u001b[0;36mrun\u001b[0;34m(self)\u001b[0m\n\u001b[1;32m    760\u001b[0m \u001b[0;34m\u001b[0m\u001b[0m\n\u001b[1;32m    761\u001b[0m                     \u001b[0;32mtry\u001b[0m\u001b[0;34m:\u001b[0m\u001b[0;34m\u001b[0m\u001b[0;34m\u001b[0m\u001b[0m\n\u001b[0;32m--> 762\u001b[0;31m                         \u001b[0mvalue\u001b[0m \u001b[0;34m=\u001b[0m \u001b[0mfuture\u001b[0m\u001b[0;34m.\u001b[0m\u001b[0mresult\u001b[0m\u001b[0;34m(\u001b[0m\u001b[0;34m)\u001b[0m\u001b[0;34m\u001b[0m\u001b[0;34m\u001b[0m\u001b[0m\n\u001b[0m\u001b[1;32m    763\u001b[0m                     \u001b[0;32mexcept\u001b[0m \u001b[0mException\u001b[0m\u001b[0;34m:\u001b[0m\u001b[0;34m\u001b[0m\u001b[0;34m\u001b[0m\u001b[0m\n\u001b[1;32m    764\u001b[0m                         \u001b[0mexc_info\u001b[0m \u001b[0;34m=\u001b[0m \u001b[0msys\u001b[0m\u001b[0;34m.\u001b[0m\u001b[0mexc_info\u001b[0m\u001b[0;34m(\u001b[0m\u001b[0;34m)\u001b[0m\u001b[0;34m\u001b[0m\u001b[0;34m\u001b[0m\u001b[0m\n",
      "\u001b[0;31mCancelledError\u001b[0m: "
     ]
    }
   ],
   "source": [
    "X_train_pd = X_train.compute().to_pandas()\n"
   ]
  },
  {
   "cell_type": "code",
   "execution_count": null,
   "id": "bbaad044-2d53-4b59-aeaf-588e1626baa9",
   "metadata": {},
   "outputs": [],
   "source": [
    "y_train_pd = y_train.compute().to_pandas()"
   ]
  },
  {
   "cell_type": "code",
   "execution_count": null,
   "id": "2d392af7-fa4b-485d-96a2-170de54487c0",
   "metadata": {},
   "outputs": [],
   "source": [
    "X_train_pd1 = X_train_pd.sample(frac=0.001, random_state=42)\n",
    "# X_train_pd2 = X_train_pd.drop(X_train_pd1.index)"
   ]
  },
  {
   "cell_type": "code",
   "execution_count": null,
   "id": "fce89baa-a7c3-469c-b613-d76aaa0575c2",
   "metadata": {},
   "outputs": [],
   "source": [
    "len(X_train_pd1)"
   ]
  },
  {
   "cell_type": "code",
   "execution_count": null,
   "id": "2bf40008-d6c4-4f85-8b63-72c3b2a2d13e",
   "metadata": {},
   "outputs": [],
   "source": [
    "y_train_pd1 = y_train_pd.sample(frac=0.001, random_state=42)\n",
    "# y_train_pd2 = y_train_pd.drop(y_train_pd1.index)"
   ]
  },
  {
   "cell_type": "code",
   "execution_count": null,
   "id": "7156add7-246a-4bb1-bb8b-7d343e457d9c",
   "metadata": {},
   "outputs": [],
   "source": [
    "len(y_train_pd1)"
   ]
  },
  {
   "cell_type": "code",
   "execution_count": null,
   "id": "e7009777-7fa1-4c33-b299-7af708f99ffc",
   "metadata": {},
   "outputs": [],
   "source": [
    "# Fit the model to the data\n",
    "random_search.fit(X_train_pd1, y_train_pd1)\n"
   ]
  },
  {
   "cell_type": "code",
   "execution_count": null,
   "id": "3eb7e15a-849f-47ec-a480-fa6616a4ef54",
   "metadata": {},
   "outputs": [],
   "source": [
    "\n",
    "# Print the best hyperparameters and score\n",
    "print(\"Best hyperparameters: \", random_search.best_params_)\n",
    "print(\"Best score: \", random_search.best_score_)"
   ]
  },
  {
   "cell_type": "code",
   "execution_count": null,
   "id": "1bdfe20f-1a6a-4073-8924-be9f8c913189",
   "metadata": {},
   "outputs": [],
   "source": [
    "client.shutdown()\n",
    "cluster.close()"
   ]
  },
  {
   "cell_type": "code",
   "execution_count": 99,
   "id": "3eba667d-37c6-4a0d-b11f-48419a87ec39",
   "metadata": {},
   "outputs": [],
   "source": [
    "# RandomForestClassifier(bootstrap=False,\n",
    "#                                       max_depth=20,\n",
    "#                                       max_features='sqrt',\n",
    "#                                       min_samples_leaf=7,\n",
    "#                                       min_samples_split=8,\n",
    "#                                       n_estimators=100)"
   ]
  },
  {
   "cell_type": "markdown",
   "id": "c9074361-4be9-44d0-901b-8aeea6e6dbef",
   "metadata": {},
   "source": [
    "## Random Forest"
   ]
  },
  {
   "cell_type": "code",
   "execution_count": 84,
   "id": "7185fe93-dda0-47eb-ad9f-112e5d6f7671",
   "metadata": {},
   "outputs": [
    {
     "name": "stderr",
     "output_type": "stream",
     "text": [
      "distributed.preloading - INFO - Import preload module: dask_cuda.initialize\n"
     ]
    }
   ],
   "source": [
    "# create a local CUDA cluster\n",
    "cluster = LocalCUDACluster(memory_limit='24GB') # to create a local CUDA cluster with memory limit of 24GB\n",
    "client = Client(cluster) # create a Dask client to connect to the cluster\n",
    "# This allows for parallel processing of data using Dask and utilizing the GPU resources provided by the CUDA cluster."
   ]
  },
  {
   "cell_type": "code",
   "execution_count": 85,
   "id": "0242dfd7-af43-4531-a398-dbb7d3347bcf",
   "metadata": {},
   "outputs": [
    {
     "data": {
      "text/html": [
       "<div>\n",
       "    <div style=\"width: 24px; height: 24px; background-color: #e1e1e1; border: 3px solid #9D9D9D; border-radius: 5px; position: absolute;\"> </div>\n",
       "    <div style=\"margin-left: 48px;\">\n",
       "        <h3 style=\"margin-bottom: 0px;\">Client</h3>\n",
       "        <p style=\"color: #9D9D9D; margin-bottom: 0px;\">Client-98a9b946-e3bb-11ed-892d-f02f74dbbf96</p>\n",
       "        <table style=\"width: 100%; text-align: left;\">\n",
       "\n",
       "        <tr>\n",
       "        \n",
       "            <td style=\"text-align: left;\"><strong>Connection method:</strong> Cluster object</td>\n",
       "            <td style=\"text-align: left;\"><strong>Cluster type:</strong> dask_cuda.LocalCUDACluster</td>\n",
       "        \n",
       "        </tr>\n",
       "\n",
       "        \n",
       "            <tr>\n",
       "                <td style=\"text-align: left;\">\n",
       "                    <strong>Dashboard: </strong> <a href=\"http://127.0.0.1:8787/status\" target=\"_blank\">http://127.0.0.1:8787/status</a>\n",
       "                </td>\n",
       "                <td style=\"text-align: left;\"></td>\n",
       "            </tr>\n",
       "        \n",
       "\n",
       "        </table>\n",
       "\n",
       "        \n",
       "            <details>\n",
       "            <summary style=\"margin-bottom: 20px;\"><h3 style=\"display: inline;\">Cluster Info</h3></summary>\n",
       "            <div class=\"jp-RenderedHTMLCommon jp-RenderedHTML jp-mod-trusted jp-OutputArea-output\">\n",
       "    <div style=\"width: 24px; height: 24px; background-color: #e1e1e1; border: 3px solid #9D9D9D; border-radius: 5px; position: absolute;\">\n",
       "    </div>\n",
       "    <div style=\"margin-left: 48px;\">\n",
       "        <h3 style=\"margin-bottom: 0px; margin-top: 0px;\">LocalCUDACluster</h3>\n",
       "        <p style=\"color: #9D9D9D; margin-bottom: 0px;\">9750a6c3</p>\n",
       "        <table style=\"width: 100%; text-align: left;\">\n",
       "            <tr>\n",
       "                <td style=\"text-align: left;\">\n",
       "                    <strong>Dashboard:</strong> <a href=\"http://127.0.0.1:8787/status\" target=\"_blank\">http://127.0.0.1:8787/status</a>\n",
       "                </td>\n",
       "                <td style=\"text-align: left;\">\n",
       "                    <strong>Workers:</strong> 1\n",
       "                </td>\n",
       "            </tr>\n",
       "            <tr>\n",
       "                <td style=\"text-align: left;\">\n",
       "                    <strong>Total threads:</strong> 1\n",
       "                </td>\n",
       "                <td style=\"text-align: left;\">\n",
       "                    <strong>Total memory:</strong> 15.53 GiB\n",
       "                </td>\n",
       "            </tr>\n",
       "            \n",
       "            <tr>\n",
       "    <td style=\"text-align: left;\"><strong>Status:</strong> running</td>\n",
       "    <td style=\"text-align: left;\"><strong>Using processes:</strong> True</td>\n",
       "</tr>\n",
       "\n",
       "            \n",
       "        </table>\n",
       "\n",
       "        <details>\n",
       "            <summary style=\"margin-bottom: 20px;\">\n",
       "                <h3 style=\"display: inline;\">Scheduler Info</h3>\n",
       "            </summary>\n",
       "\n",
       "            <div style=\"\">\n",
       "    <div>\n",
       "        <div style=\"width: 24px; height: 24px; background-color: #FFF7E5; border: 3px solid #FF6132; border-radius: 5px; position: absolute;\"> </div>\n",
       "        <div style=\"margin-left: 48px;\">\n",
       "            <h3 style=\"margin-bottom: 0px;\">Scheduler</h3>\n",
       "            <p style=\"color: #9D9D9D; margin-bottom: 0px;\">Scheduler-24436fb4-e5ea-4559-bf6e-9f6f649e9d10</p>\n",
       "            <table style=\"width: 100%; text-align: left;\">\n",
       "                <tr>\n",
       "                    <td style=\"text-align: left;\">\n",
       "                        <strong>Comm:</strong> tcp://127.0.0.1:33709\n",
       "                    </td>\n",
       "                    <td style=\"text-align: left;\">\n",
       "                        <strong>Workers:</strong> 1\n",
       "                    </td>\n",
       "                </tr>\n",
       "                <tr>\n",
       "                    <td style=\"text-align: left;\">\n",
       "                        <strong>Dashboard:</strong> <a href=\"http://127.0.0.1:8787/status\" target=\"_blank\">http://127.0.0.1:8787/status</a>\n",
       "                    </td>\n",
       "                    <td style=\"text-align: left;\">\n",
       "                        <strong>Total threads:</strong> 1\n",
       "                    </td>\n",
       "                </tr>\n",
       "                <tr>\n",
       "                    <td style=\"text-align: left;\">\n",
       "                        <strong>Started:</strong> Just now\n",
       "                    </td>\n",
       "                    <td style=\"text-align: left;\">\n",
       "                        <strong>Total memory:</strong> 15.53 GiB\n",
       "                    </td>\n",
       "                </tr>\n",
       "            </table>\n",
       "        </div>\n",
       "    </div>\n",
       "\n",
       "    <details style=\"margin-left: 48px;\">\n",
       "        <summary style=\"margin-bottom: 20px;\">\n",
       "            <h3 style=\"display: inline;\">Workers</h3>\n",
       "        </summary>\n",
       "\n",
       "        \n",
       "        <div style=\"margin-bottom: 20px;\">\n",
       "            <div style=\"width: 24px; height: 24px; background-color: #DBF5FF; border: 3px solid #4CC9FF; border-radius: 5px; position: absolute;\"> </div>\n",
       "            <div style=\"margin-left: 48px;\">\n",
       "            <details>\n",
       "                <summary>\n",
       "                    <h4 style=\"margin-bottom: 0px; display: inline;\">Worker: 0</h4>\n",
       "                </summary>\n",
       "                <table style=\"width: 100%; text-align: left;\">\n",
       "                    <tr>\n",
       "                        <td style=\"text-align: left;\">\n",
       "                            <strong>Comm: </strong> tcp://127.0.0.1:46369\n",
       "                        </td>\n",
       "                        <td style=\"text-align: left;\">\n",
       "                            <strong>Total threads: </strong> 1\n",
       "                        </td>\n",
       "                    </tr>\n",
       "                    <tr>\n",
       "                        <td style=\"text-align: left;\">\n",
       "                            <strong>Dashboard: </strong> <a href=\"http://127.0.0.1:43229/status\" target=\"_blank\">http://127.0.0.1:43229/status</a>\n",
       "                        </td>\n",
       "                        <td style=\"text-align: left;\">\n",
       "                            <strong>Memory: </strong> 15.53 GiB\n",
       "                        </td>\n",
       "                    </tr>\n",
       "                    <tr>\n",
       "                        <td style=\"text-align: left;\">\n",
       "                            <strong>Nanny: </strong> tcp://127.0.0.1:46249\n",
       "                        </td>\n",
       "                        <td style=\"text-align: left;\"></td>\n",
       "                    </tr>\n",
       "                    <tr>\n",
       "                        <td colspan=\"2\" style=\"text-align: left;\">\n",
       "                            <strong>Local directory: </strong> /home/msc1/Desktop/Labs/Semester_2/7145COMP/7145COMP/coursework/dask-worker-space/worker-5g8p4ro_\n",
       "                        </td>\n",
       "                    </tr>\n",
       "\n",
       "                    \n",
       "                    <tr>\n",
       "                        <td style=\"text-align: left;\">\n",
       "                            <strong>GPU: </strong>NVIDIA GeForce RTX 3090\n",
       "                        </td>\n",
       "                        <td style=\"text-align: left;\">\n",
       "                            <strong>GPU memory: </strong> 23.70 GiB\n",
       "                        </td>\n",
       "                    </tr>\n",
       "                    \n",
       "\n",
       "                    \n",
       "\n",
       "                </table>\n",
       "            </details>\n",
       "            </div>\n",
       "        </div>\n",
       "        \n",
       "\n",
       "    </details>\n",
       "</div>\n",
       "\n",
       "        </details>\n",
       "    </div>\n",
       "</div>\n",
       "            </details>\n",
       "        \n",
       "\n",
       "    </div>\n",
       "</div>"
      ],
      "text/plain": [
       "<Client: 'tcp://127.0.0.1:33709' processes=1 threads=1, memory=15.53 GiB>"
      ]
     },
     "execution_count": 85,
     "metadata": {},
     "output_type": "execute_result"
    }
   ],
   "source": [
    "client"
   ]
  },
  {
   "cell_type": "code",
   "execution_count": 86,
   "id": "0b4757a0-c40f-4afb-ae26-8a025f5a8c6e",
   "metadata": {},
   "outputs": [],
   "source": [
    "\n",
    "# Instantiate the RandomForestClassifier with the given hyperparameters\n",
    "clf = RandomForestClassifier(bootstrap=False,\n",
    "                                      max_depth=20,\n",
    "                                      max_features='sqrt',\n",
    "                                      min_samples_leaf=7,\n",
    "                                      min_samples_split=8,\n",
    "                                      n_estimators=100)\n",
    "\n",
    "\n"
   ]
  },
  {
   "cell_type": "code",
   "execution_count": 87,
   "id": "2c5605cc-7849-4b78-a69e-f7a5a7e976d7",
   "metadata": {},
   "outputs": [
    {
     "data": {
      "text/plain": [
       "dask_cudf.core.DataFrame"
      ]
     },
     "execution_count": 87,
     "metadata": {},
     "output_type": "execute_result"
    }
   ],
   "source": [
    "type(X_train)"
   ]
  },
  {
   "cell_type": "code",
   "execution_count": 88,
   "id": "d8e33312-f003-4304-9719-3587f96e6397",
   "metadata": {},
   "outputs": [
    {
     "data": {
      "text/plain": [
       "dask_cudf.core.Series"
      ]
     },
     "execution_count": 88,
     "metadata": {},
     "output_type": "execute_result"
    }
   ],
   "source": [
    "type(y_train)"
   ]
  },
  {
   "cell_type": "code",
   "execution_count": 89,
   "id": "e6725214-5630-4f7a-bd79-a2d1eed39f66",
   "metadata": {},
   "outputs": [
    {
     "data": {
      "text/plain": [
       "RandomForestClassifier()"
      ]
     },
     "execution_count": 89,
     "metadata": {},
     "output_type": "execute_result"
    },
    {
     "name": "stderr",
     "output_type": "stream",
     "text": [
      "distributed.client - ERROR - Failed to reconnect to scheduler after 30.00 seconds, closing client\n",
      "ERROR:asyncio:_GatheringFuture exception was never retrieved\n",
      "future: <_GatheringFuture finished exception=CancelledError()>\n",
      "concurrent.futures._base.CancelledError\n"
     ]
    }
   ],
   "source": [
    "# Fit the classifier to the training data\n",
    "clf.fit(X_train, y_train)\n"
   ]
  },
  {
   "cell_type": "code",
   "execution_count": 90,
   "id": "9a2efeac-167d-4769-ad9a-7710232fa3d5",
   "metadata": {},
   "outputs": [
    {
     "data": {
      "text/plain": [
       "dask_cudf.core.DataFrame"
      ]
     },
     "execution_count": 90,
     "metadata": {},
     "output_type": "execute_result"
    }
   ],
   "source": [
    "type(X_test)"
   ]
  },
  {
   "cell_type": "code",
   "execution_count": 91,
   "id": "4193fcaf-9a15-4fb9-84b7-fa0b4d78f188",
   "metadata": {},
   "outputs": [
    {
     "data": {
      "text/plain": [
       "dask_cudf.core.DataFrame"
      ]
     },
     "execution_count": 91,
     "metadata": {},
     "output_type": "execute_result"
    }
   ],
   "source": [
    "type(X_test)"
   ]
  },
  {
   "cell_type": "code",
   "execution_count": 92,
   "id": "3c39417f-2328-4218-8534-8de4e8a97d21",
   "metadata": {},
   "outputs": [],
   "source": [
    "# Predict the labels of the test data\n",
    "# Predict the labels of the test data\n",
    "# y_pred = clf.predict(X_test, output_type='cupy', dtype='float32')\n",
    "y_pred = clf.predict(X_test_pd)\n"
   ]
  },
  {
   "cell_type": "markdown",
   "id": "646b7434-23ee-423a-8387-898c0ab45d37",
   "metadata": {},
   "source": [
    "<p style=\"font-size: 23px; margin-top: 10px;\"><u>Random Forest Model Evaluation</u></p>"
   ]
  },
  {
   "cell_type": "code",
   "execution_count": 93,
   "id": "a9fde624-6c55-4b1f-9b89-9f6a9351c779",
   "metadata": {},
   "outputs": [
    {
     "data": {
      "text/plain": [
       "array([0., 1., 0., ..., 1., 0., 1.])"
      ]
     },
     "execution_count": 93,
     "metadata": {},
     "output_type": "execute_result"
    }
   ],
   "source": [
    "y_test_np = y_test.compute().values.astype(np.float64)\n",
    "\n",
    "y_test_np = y_test_np.get()\n",
    "y_test_np"
   ]
  },
  {
   "cell_type": "code",
   "execution_count": 94,
   "id": "4ab2c58a-dde6-4630-98be-175cbedbc28b",
   "metadata": {},
   "outputs": [
    {
     "data": {
      "text/plain": [
       "array([0., 0., 1., ..., 1., 0., 1.], dtype=float32)"
      ]
     },
     "execution_count": 94,
     "metadata": {},
     "output_type": "execute_result"
    }
   ],
   "source": [
    "y_pred_np = y_pred\n",
    "y_pred_np = np.round(y_pred_np)\n",
    "y_pred_np"
   ]
  },
  {
   "cell_type": "markdown",
   "id": "bfbd0027-1e1d-4c08-9492-5a9aab496aa1",
   "metadata": {},
   "source": [
    "<p style=\"font-size: 18px; margin-top: 10px; font-weight: bold\">Confusion Matrix</p>"
   ]
  },
  {
   "cell_type": "code",
   "execution_count": 95,
   "id": "43a9841f-4a3d-405c-9684-b88c586c85b0",
   "metadata": {},
   "outputs": [
    {
     "data": {
      "image/png": "[encoded data removed]",
      "text/plain": [
       "<Figure size 432x288 with 1 Axes>"
      ]
     },
     "metadata": {
      "needs_background": "light"
     },
     "output_type": "display_data"
    }
   ],
   "source": [
    "confusion = confusion_matrix_custom(y_test_np, y_pred_np, label_dict={0: '0',1: '1'}) # calling confusion matrix custom function to diplay confusion matrix"
   ]
  },
  {
   "cell_type": "markdown",
   "id": "fb6e4ec5-6f38-458f-adf8-f5fbc8055679",
   "metadata": {},
   "source": [
    "<p style=\"font-size: 18px; margin-top: 10px; font-weight: bold\">TP, FP, FN, TN</p>"
   ]
  },
  {
   "cell_type": "code",
   "execution_count": 96,
   "id": "63d3655e-d2ff-4722-866b-2e1e6afb4852",
   "metadata": {},
   "outputs": [],
   "source": [
    "true_positives, false_positives, false_negatives, true_negatives = TF_FP_FN_TN(confusion) # calling custom function to get TP, FP, FN, TN"
   ]
  },
  {
   "cell_type": "markdown",
   "id": "08bcbd65-fe08-4e1e-9ecb-1748d069150e",
   "metadata": {},
   "source": [
    "<p style=\"font-size: 18px; margin-top: 10px; font-weight: bold\">Accuracy</p>"
   ]
  },
  {
   "cell_type": "code",
   "execution_count": 97,
   "id": "25818fa2-5764-425c-aa9f-adb3d982cdc6",
   "metadata": {},
   "outputs": [
    {
     "name": "stdout",
     "output_type": "stream",
     "text": [
      "accuracy 0.7317511474894289\n"
     ]
    }
   ],
   "source": [
    "accuracy = accuracy_score(y_test_np, y_pred_np) #Check accuracy of the trained model\n",
    "print(\"accuracy\", accuracy)\n"
   ]
  },
  {
   "cell_type": "markdown",
   "id": "40e8560c-a11b-4677-b42d-24fcc11afcbe",
   "metadata": {},
   "source": [
    "<p style=\"font-size: 18px; margin-top: 10px; font-weight: bold\">Precision</p>"
   ]
  },
  {
   "cell_type": "code",
   "execution_count": 98,
   "id": "df1c6d7a-b373-447a-86f7-f56b91b24b9d",
   "metadata": {},
   "outputs": [
    {
     "name": "stdout",
     "output_type": "stream",
     "text": [
      "precision 0.7303674788276797\n"
     ]
    }
   ],
   "source": [
    "precision = precision_score(y_test_np, y_pred_np, average='macro') #Check precision of the trained model\n",
    "print(\"precision\", precision)"
   ]
  },
  {
   "cell_type": "markdown",
   "id": "495c19ac-89bf-4678-a24c-1ee91cef842c",
   "metadata": {},
   "source": [
    "<p style=\"font-size: 18px; margin-top: 10px; font-weight: bold\">F1 score</p>"
   ]
  },
  {
   "cell_type": "code",
   "execution_count": 99,
   "id": "c0f493d6-981b-4171-830e-86d41ae72d6d",
   "metadata": {},
   "outputs": [
    {
     "name": "stdout",
     "output_type": "stream",
     "text": [
      "f1_score 0.728194335891459\n"
     ]
    }
   ],
   "source": [
    "f1_sc =  f1_score(y_test_np, y_pred_np, average='macro') #Check f1_score of the trained model\n",
    "print(\"f1_score\", f1_sc)"
   ]
  },
  {
   "cell_type": "markdown",
   "id": "efd47fb3-6b71-4946-badf-a4ced1903236",
   "metadata": {},
   "source": [
    "<p style=\"font-size: 18px; margin-top: 10px; font-weight: bold\">Sensitivity or Recall</p>"
   ]
  },
  {
   "cell_type": "code",
   "execution_count": 100,
   "id": "b62394fb-1347-4622-a178-b2d070316a2c",
   "metadata": {},
   "outputs": [
    {
     "name": "stdout",
     "output_type": "stream",
     "text": [
      "average_sensitivity or recall: 0.7272858862348386\n"
     ]
    }
   ],
   "source": [
    "average_sensitivity = sensitivity_custom(true_positives, false_negatives) # calling custom function to calculate sensitivity or recall"
   ]
  },
  {
   "cell_type": "markdown",
   "id": "a2c7be2b-39a8-4c3f-b8f8-9fb3359723cd",
   "metadata": {},
   "source": [
    "<p style=\"font-size: 18px; margin-top: 10px; font-weight: bold\">Specificity</p>"
   ]
  },
  {
   "cell_type": "code",
   "execution_count": 101,
   "id": "982c856a-f6f3-406b-b130-c49e4b425040",
   "metadata": {},
   "outputs": [
    {
     "name": "stdout",
     "output_type": "stream",
     "text": [
      "average_specificity: 0.7272858862348386\n"
     ]
    }
   ],
   "source": [
    "average_specificity = specificity_custom(true_negatives, false_positives) # calling custom function to calculate specificity"
   ]
  },
  {
   "cell_type": "markdown",
   "id": "50c59dff-bff4-4830-ae09-cb6ad9caa7a9",
   "metadata": {},
   "source": [
    "<p style=\"font-size: 18px; margin-top: 10px; font-weight: bold\">Classification Report</p>"
   ]
  },
  {
   "cell_type": "code",
   "execution_count": 102,
   "id": "3481a1f8-ecb4-4995-8ecc-105bf72b95bb",
   "metadata": {},
   "outputs": [
    {
     "name": "stdout",
     "output_type": "stream",
     "text": [
      "              precision    recall  f1-score   support\n",
      "\n",
      "         0.0       0.72      0.67      0.70   1282583\n",
      "         1.0       0.74      0.78      0.76   1522018\n",
      "\n",
      "    accuracy                           0.73   2804601\n",
      "   macro avg       0.73      0.73      0.73   2804601\n",
      "weighted avg       0.73      0.73      0.73   2804601\n",
      "\n"
     ]
    }
   ],
   "source": [
    "print(classification_report(y_test_np, y_pred_np)) # This method gives the overall report of the trained model"
   ]
  },
  {
   "cell_type": "code",
   "execution_count": 103,
   "id": "a2d53a2b-1951-427b-8da2-e8ce933974cd",
   "metadata": {},
   "outputs": [],
   "source": [
    "result.append(['Random Forest', accuracy, precision, average_sensitivity, f1_sc, average_sensitivity, average_specificity]);"
   ]
  },
  {
   "cell_type": "code",
   "execution_count": 104,
   "id": "5d4822d0-055f-47d6-94d9-b81477d8fb79",
   "metadata": {},
   "outputs": [
    {
     "name": "stdout",
     "output_type": "stream",
     "text": [
      "╒═══════════════╤════════════╤═════════════╤══════════╤════════════╤═══════════════╤═══════════════╕\n",
      "│ Model         │   Accuracy │   Precision │   Recall │   F1 score │   Sensitivity │   Specificity │\n",
      "╞═══════════════╪════════════╪═════════════╪══════════╪════════════╪═══════════════╪═══════════════╡\n",
      "│ XGBoost       │   0.691238 │    0.68911  │ 0.686132 │   0.686849 │      0.686132 │      0.686132 │\n",
      "├───────────────┼────────────┼─────────────┼──────────┼────────────┼───────────────┼───────────────┤\n",
      "│ Random Forest │   0.731751 │    0.730367 │ 0.727286 │   0.728194 │      0.727286 │      0.727286 │\n",
      "╘═══════════════╧════════════╧═════════════╧══════════╧════════════╧═══════════════╧═══════════════╛\n"
     ]
    }
   ],
   "source": [
    "print(tabulate(result, headers=table_columns, tablefmt=\"fancy_grid\"))"
   ]
  },
  {
   "cell_type": "markdown",
   "id": "ebbd3442-3c53-4792-87f1-0ca7daefb971",
   "metadata": {},
   "source": [
    "<p style=\"font-size: 18px; margin-top: 10px; font-weight: bold\">Mis-classification</p>"
   ]
  },
  {
   "cell_type": "code",
   "execution_count": 105,
   "id": "4032f6d1-45b5-449c-9966-ee8b9e87c045",
   "metadata": {},
   "outputs": [
    {
     "name": "stdout",
     "output_type": "stream",
     "text": [
      "Mis-Classification:  0.268248852510571\n"
     ]
    }
   ],
   "source": [
    "average_mis_classification = mis_classification_custom(false_negatives, true_positives, true_negatives, false_positives ) # calling custom function to calculate mis-classification of the model"
   ]
  },
  {
   "cell_type": "code",
   "execution_count": 106,
   "id": "32ec34e2-2432-4fb7-959f-7c814844440b",
   "metadata": {},
   "outputs": [],
   "source": [
    "mis_classification_loss_result.append(['Random Forest', average_mis_classification]);"
   ]
  },
  {
   "cell_type": "code",
   "execution_count": 107,
   "id": "c5820f7c-b31c-457b-921d-bffee0c2afad",
   "metadata": {},
   "outputs": [
    {
     "name": "stdout",
     "output_type": "stream",
     "text": [
      "╒═══════════════╤══════════════════════╕\n",
      "│ Model         │   Mis-Classification │\n",
      "╞═══════════════╪══════════════════════╡\n",
      "│ XGBoost       │             0.308762 │\n",
      "├───────────────┼──────────────────────┤\n",
      "│ Random Forest │             0.268249 │\n",
      "╘═══════════════╧══════════════════════╛\n"
     ]
    }
   ],
   "source": [
    "print(tabulate(mis_classification_loss_result, headers=mis_classification_loss_table, tablefmt=\"fancy_grid\"))"
   ]
  },
  {
   "cell_type": "markdown",
   "id": "bbf10cb2-cff7-4f14-a4a8-c7a2016d2ebf",
   "metadata": {},
   "source": [
    "<p style=\"font-size: 18px; margin-top: 10px; font-weight: bold\">AUC (Area Under the Curve)</p>"
   ]
  },
  {
   "cell_type": "code",
   "execution_count": 108,
   "id": "828ebef2-c303-4725-b6a0-bcd8e88ee155",
   "metadata": {},
   "outputs": [
    {
     "data": {
      "image/png": "[encoded data removed]",
      "text/plain": [
       "<Figure size 576x432 with 1 Axes>"
      ]
     },
     "metadata": {
      "needs_background": "light"
     },
     "output_type": "display_data"
    },
    {
     "name": "stdout",
     "output_type": "stream",
     "text": [
      "AUC: 0.7272858862348386\n"
     ]
    }
   ],
   "source": [
    "auc = area_under_the_curve(y_test_np, y_pred_np)\n",
    "print('AUC:', auc)"
   ]
  },
  {
   "cell_type": "code",
   "execution_count": 109,
   "id": "e981be1b-e467-4095-be72-8fa641828cc4",
   "metadata": {},
   "outputs": [],
   "source": [
    "client.shutdown()\n",
    "cluster.close()"
   ]
  },
  {
   "cell_type": "markdown",
   "id": "eba19b65-c1ef-4e4d-b874-6a38731ecbaa",
   "metadata": {},
   "source": [
    "<div style=\"width:100%;height:3px; background-color:black\"></div>"
   ]
  },
  {
   "cell_type": "markdown",
   "id": "b8aec839-8979-423b-98c0-fc5926939f67",
   "metadata": {},
   "source": [
    "<div style=\"width:100%;height:3px; background-color:black\"></div>"
   ]
  },
  {
   "cell_type": "markdown",
   "id": "49eb7e0d-6790-44bb-ad60-07f0ea48fcb3",
   "metadata": {},
   "source": [
    "<p id=\"res\" style=\"font-size:30px; text-align:center\"><u>Results Comparison and Discussion</u></p><a href=\"#top1\">Back To Top</a>"
   ]
  },
  {
   "cell_type": "markdown",
   "id": "12f37aae-dcb2-4c27-9adc-ad77b596deea",
   "metadata": {},
   "source": [
    "<div style=\"width:100%;height:3px; background-color:black\"></div>"
   ]
  },
  {
   "cell_type": "markdown",
   "id": "29f78eec-5267-4990-ae34-850390f2a6ad",
   "metadata": {},
   "source": [
    "<p style=\"font-size:25px;\"><u>Comparison</u></p>"
   ]
  },
  {
   "cell_type": "code",
   "execution_count": 110,
   "id": "7337765d-88e5-41b5-8815-a5f95b1b3b4c",
   "metadata": {},
   "outputs": [
    {
     "name": "stdout",
     "output_type": "stream",
     "text": [
      "╒═══════════════╤════════════╤═════════════╤══════════╤════════════╤═══════════════╤═══════════════╕\n",
      "│ Model         │   Accuracy │   Precision │   Recall │   F1 score │   Sensitivity │   Specificity │\n",
      "╞═══════════════╪════════════╪═════════════╪══════════╪════════════╪═══════════════╪═══════════════╡\n",
      "│ XGBoost       │   0.691238 │    0.68911  │ 0.686132 │   0.686849 │      0.686132 │      0.686132 │\n",
      "├───────────────┼────────────┼─────────────┼──────────┼────────────┼───────────────┼───────────────┤\n",
      "│ Random Forest │   0.731751 │    0.730367 │ 0.727286 │   0.728194 │      0.727286 │      0.727286 │\n",
      "╘═══════════════╧════════════╧═════════════╧══════════╧════════════╧═══════════════╧═══════════════╛\n"
     ]
    }
   ],
   "source": [
    "print(tabulate(result, headers=table_columns, tablefmt=\"fancy_grid\"))"
   ]
  },
  {
   "cell_type": "code",
   "execution_count": 111,
   "id": "49121097-1e1e-4257-961d-c7eaec7fc216",
   "metadata": {},
   "outputs": [
    {
     "name": "stdout",
     "output_type": "stream",
     "text": [
      "╒═══════════════╤══════════════════════╕\n",
      "│ Model         │   Mis-Classification │\n",
      "╞═══════════════╪══════════════════════╡\n",
      "│ XGBoost       │             0.308762 │\n",
      "├───────────────┼──────────────────────┤\n",
      "│ Random Forest │             0.268249 │\n",
      "╘═══════════════╧══════════════════════╛\n"
     ]
    }
   ],
   "source": [
    "print(tabulate(mis_classification_loss_result, headers=mis_classification_loss_table, tablefmt=\"fancy_grid\"))"
   ]
  },
  {
   "cell_type": "markdown",
   "id": "a462e034-9d95-4df6-aa86-f92d9c4b6375",
   "metadata": {},
   "source": [
    "<p style=\"font-size:20px;\"><b>Accuracy Comparison using plot </b></p>"
   ]
  },
  {
   "cell_type": "code",
   "execution_count": 113,
   "id": "64ab1c97-fc50-4fcb-ac3d-f63930da719b",
   "metadata": {},
   "outputs": [
    {
     "name": "stderr",
     "output_type": "stream",
     "text": [
      "/home/msc1/anaconda3/envs/Env-7145COMP/lib/python3.7/site-packages/ipykernel_launcher.py:1: UserWarning: color is redundantly defined by the 'color' keyword argument and the fmt string \"b-o\" (-> color='b'). The keyword argument will take precedence.\n",
      "  \"\"\"Entry point for launching an IPython kernel.\n",
      "/home/msc1/anaconda3/envs/Env-7145COMP/lib/python3.7/site-packages/ipykernel_launcher.py:2: UserWarning: color is redundantly defined by the 'color' keyword argument and the fmt string \"b-o\" (-> color='b'). The keyword argument will take precedence.\n",
      "  \n"
     ]
    },
    {
     "data": {
      "image/png": "[encoded data removed]",
      "text/plain": [
       "<Figure size 432x288 with 1 Axes>"
      ]
     },
     "metadata": {
      "needs_background": "light"
     },
     "output_type": "display_data"
    }
   ],
   "source": [
    "plt.plot(result[0][0],result[0][1],'b-o',label=result[0][0],color='orange')\n",
    "plt.plot(result[1][0],result[1][1],'b-o',label=result[1][0],color='red')\n",
    "plt.xlabel('Models')\n",
    "plt.ylabel('Accuracy')\n",
    "plt.legend()\n",
    "plt.show()"
   ]
  },
  {
   "cell_type": "markdown",
   "id": "c8c98adf-3336-42b9-9011-f4fe40ab1e0c",
   "metadata": {},
   "source": [
    "<p style=\"font-size:20px;\"><b>Mis-classification Comparison using plot </b></p>"
   ]
  },
  {
   "cell_type": "code",
   "execution_count": 115,
   "id": "78b5e3e7-c862-44c7-869b-9a2620e22e74",
   "metadata": {},
   "outputs": [
    {
     "name": "stderr",
     "output_type": "stream",
     "text": [
      "/home/msc1/anaconda3/envs/Env-7145COMP/lib/python3.7/site-packages/ipykernel_launcher.py:1: UserWarning: color is redundantly defined by the 'color' keyword argument and the fmt string \"b-o\" (-> color='b'). The keyword argument will take precedence.\n",
      "  \"\"\"Entry point for launching an IPython kernel.\n",
      "/home/msc1/anaconda3/envs/Env-7145COMP/lib/python3.7/site-packages/ipykernel_launcher.py:2: UserWarning: color is redundantly defined by the 'color' keyword argument and the fmt string \"b-o\" (-> color='b'). The keyword argument will take precedence.\n",
      "  \n"
     ]
    },
    {
     "data": {
      "image/png": "[encoded data removed]",
      "text/plain": [
       "<Figure size 432x288 with 1 Axes>"
      ]
     },
     "metadata": {
      "needs_background": "light"
     },
     "output_type": "display_data"
    }
   ],
   "source": [
    "plt.plot(mis_classification_loss_result[0][0],mis_classification_loss_result[0][1],'b-o',label=mis_classification_loss_result[0][0],color='orange')\n",
    "plt.plot(mis_classification_loss_result[1][0],mis_classification_loss_result[1][1],'b-o',label=mis_classification_loss_result[1][0],color='red')\n",
    "\n",
    "plt.xlabel('Models')\n",
    "plt.ylabel('Miss-classification')\n",
    "plt.legend()\n",
    "plt.show()"
   ]
  },
  {
   "cell_type": "markdown",
   "id": "7daeddc2-c33f-41aa-9da4-e642cb629bd3",
   "metadata": {},
   "source": [
    "<p style=\"font-size: 25px; margin-top: 10px\"> From the above evaluation tables, accuracy and miss-classification plots it can be seen that the best performance on the test set comes from \"Random Forest\" trained with best hyperparameters derived from RandomizedSearchCV. It can be seen that the acuracy of \"Random Forest\" is 0.731, which is the highest, whereas XGBoost gave 0.691. The miss-classification value of \"Random Forest\" is 0.26, which is lesser than XGBoost(0.30). Consequently, for this Higgs boson \"Random Forest\" machine learning algorithm is better than XGBoost.</p>"
   ]
  },
  {
   "cell_type": "markdown",
   "id": "7cdb55fa-ff77-4c29-b147-cbd6d3b8947e",
   "metadata": {},
   "source": [
    "<p style=\"font-size: 25px; margin-top: 10px\"><b>Note:</b></p>"
   ]
  },
  {
   "cell_type": "markdown",
   "id": "c3fa292c-3698-4996-bbc0-45f953a25fc2",
   "metadata": {},
   "source": [
    "<p style=\"font-size: 25px; margin-top: 10px\"> I have used dask distributed computing in this dataset having GPU memory Nvidia Geforce RTX 3090. Most of the time I faced memory issues and kernel died due to insufficient memory even with distribution of tasks. We can get more accuracy with this dataset if we have more memory either in single gpu or having multiple gpus.</p>"
   ]
  },
  {
   "cell_type": "code",
   "execution_count": null,
   "id": "73dcd2de-561d-4439-85e2-522391c3b05c",
   "metadata": {},
   "outputs": [],
   "source": []
  },
  {
   "cell_type": "code",
   "execution_count": null,
   "id": "8a38e261-75a6-406d-a7ce-e3b2505d2bed",
   "metadata": {},
   "outputs": [],
   "source": []
  },
  {
   "cell_type": "code",
   "execution_count": null,
   "id": "15a41bab-e8d8-47a5-9120-57d4785f17e9",
   "metadata": {},
   "outputs": [],
   "source": []
  },
  {
   "cell_type": "code",
   "execution_count": null,
   "id": "991ccf80-7ceb-49e9-adcb-a56d609cb770",
   "metadata": {},
   "outputs": [],
   "source": []
  }
 ],
 "metadata": {
  "kernelspec": {
   "display_name": "Python 3 (ipykernel)",
   "language": "python",
   "name": "python3"
  },
  "language_info": {
   "codemirror_mode": {
    "name": "ipython",
    "version": 3
   },
   "file_extension": ".py",
   "mimetype": "text/x-python",
   "name": "python",
   "nbconvert_exporter": "python",
   "pygments_lexer": "ipython3",
   "version": "3.7.11"
  }
 },
 "nbformat": 4,
 "nbformat_minor": 5
}
